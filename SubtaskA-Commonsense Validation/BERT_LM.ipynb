{
  "nbformat": 4,
  "nbformat_minor": 0,
  "metadata": {
    "colab": {
      "name": "BERT_efficient_No_normalization-trial-data.ipynb",
      "provenance": [],
      "collapsed_sections": []
    },
    "kernelspec": {
      "name": "python3",
      "display_name": "Python 3"
    },
    "accelerator": "GPU"
  },
  "cells": [
    {
      "cell_type": "code",
      "metadata": {
        "id": "cxNMl0sQWJnX",
        "colab_type": "code",
        "colab": {}
      },
      "source": [
        "!pip install transformers -q"
      ],
      "execution_count": 0,
      "outputs": []
    },
    {
      "cell_type": "code",
      "metadata": {
        "id": "OY2-MZw4WQbl",
        "colab_type": "code",
        "colab": {}
      },
      "source": [
        "!wget -q https://raw.githubusercontent.com/wangcunxiang/SemEval2020-Task4-Commonsense-Validation-and-Explanation/master/Training%20%20Data/subtaskA_data_all.csv\n",
        "!wget -q https://raw.githubusercontent.com/wangcunxiang/SemEval2020-Task4-Commonsense-Validation-and-Explanation/master/Training%20%20Data/subtaskA_answers_all.csv"
      ],
      "execution_count": 0,
      "outputs": []
    },
    {
      "cell_type": "code",
      "metadata": {
        "id": "26itRGDjWSc-",
        "colab_type": "code",
        "colab": {}
      },
      "source": [
        "import pandas as pd\n",
        "import functools\n",
        "df_data = pd.read_csv('taskA_trial_data.csv', error_bad_lines=False)\n",
        "df_answers = pd.read_csv('taskA_trial_answer.csv', error_bad_lines=False, header=None, names=['id', 'labels'])\n",
        "\n",
        "df = df_data.set_index('id').join(df_answers.set_index('id'))"
      ],
      "execution_count": 0,
      "outputs": []
    },
    {
      "cell_type": "code",
      "metadata": {
        "id": "CUqWqIZZWyN2",
        "colab_type": "code",
        "outputId": "2e16b955-4ac1-4eff-b5b5-4f7bc7484656",
        "colab": {
          "base_uri": "https://localhost:8080/",
          "height": 640
        }
      },
      "source": [
        "for i in range(1, len(df)):\n",
        "  if df['sent0'][i][-1] != '.' or df['sent1'][i][-1] !='.' :\n",
        "    df['sent0'][i] = df['sent0'][i] +'.'\n",
        "    df['sent1'][i] = df['sent1'][i] +'.'\n",
        "\n",
        "df"
      ],
      "execution_count": 26,
      "outputs": [
        {
          "output_type": "stream",
          "text": [
            "/usr/local/lib/python3.6/dist-packages/ipykernel_launcher.py:3: SettingWithCopyWarning: \n",
            "A value is trying to be set on a copy of a slice from a DataFrame\n",
            "\n",
            "See the caveats in the documentation: http://pandas.pydata.org/pandas-docs/stable/user_guide/indexing.html#returning-a-view-versus-a-copy\n",
            "  This is separate from the ipykernel package so we can avoid doing imports until\n",
            "/usr/local/lib/python3.6/dist-packages/ipykernel_launcher.py:4: SettingWithCopyWarning: \n",
            "A value is trying to be set on a copy of a slice from a DataFrame\n",
            "\n",
            "See the caveats in the documentation: http://pandas.pydata.org/pandas-docs/stable/user_guide/indexing.html#returning-a-view-versus-a-copy\n",
            "  after removing the cwd from sys.path.\n"
          ],
          "name": "stderr"
        },
        {
          "output_type": "execute_result",
          "data": {
            "text/html": [
              "<div>\n",
              "<style scoped>\n",
              "    .dataframe tbody tr th:only-of-type {\n",
              "        vertical-align: middle;\n",
              "    }\n",
              "\n",
              "    .dataframe tbody tr th {\n",
              "        vertical-align: top;\n",
              "    }\n",
              "\n",
              "    .dataframe thead th {\n",
              "        text-align: right;\n",
              "    }\n",
              "</style>\n",
              "<table border=\"1\" class=\"dataframe\">\n",
              "  <thead>\n",
              "    <tr style=\"text-align: right;\">\n",
              "      <th></th>\n",
              "      <th>sent0</th>\n",
              "      <th>sent1</th>\n",
              "      <th>labels</th>\n",
              "    </tr>\n",
              "    <tr>\n",
              "      <th>id</th>\n",
              "      <th></th>\n",
              "      <th></th>\n",
              "      <th></th>\n",
              "    </tr>\n",
              "  </thead>\n",
              "  <tbody>\n",
              "    <tr>\n",
              "      <th>1</th>\n",
              "      <td>he put an elephant into the fridge.</td>\n",
              "      <td>he put a turkey into the fridge.</td>\n",
              "      <td>0</td>\n",
              "    </tr>\n",
              "    <tr>\n",
              "      <th>2</th>\n",
              "      <td>my sister eats an apple after breakfast every ...</td>\n",
              "      <td>my sister eats a stone after breakfast every day.</td>\n",
              "      <td>1</td>\n",
              "    </tr>\n",
              "    <tr>\n",
              "      <th>3</th>\n",
              "      <td>money can be used for buying cars.</td>\n",
              "      <td>money can be used for buying stars.</td>\n",
              "      <td>1</td>\n",
              "    </tr>\n",
              "    <tr>\n",
              "      <th>4</th>\n",
              "      <td>New York is located in the northeastern part o...</td>\n",
              "      <td>USA is located in the northeastern part of New...</td>\n",
              "      <td>1</td>\n",
              "    </tr>\n",
              "    <tr>\n",
              "      <th>5</th>\n",
              "      <td>a man can better see stars and the moon in day...</td>\n",
              "      <td>a man can hardly see stars and the moon in day...</td>\n",
              "      <td>0</td>\n",
              "    </tr>\n",
              "    <tr>\n",
              "      <th>...</th>\n",
              "      <td>...</td>\n",
              "      <td>...</td>\n",
              "      <td>...</td>\n",
              "    </tr>\n",
              "    <tr>\n",
              "      <th>2017</th>\n",
              "      <td>she cleans her teeth with toothpaste.</td>\n",
              "      <td>she cleans her teeth with shampoo.</td>\n",
              "      <td>1</td>\n",
              "    </tr>\n",
              "    <tr>\n",
              "      <th>2018</th>\n",
              "      <td>you can see a dinosaur in the museum.</td>\n",
              "      <td>you can see a dinosaur in the zoo.</td>\n",
              "      <td>1</td>\n",
              "    </tr>\n",
              "    <tr>\n",
              "      <th>2019</th>\n",
              "      <td>people have to hold onto their hats because of...</td>\n",
              "      <td>people have to hold onto their shoes because o...</td>\n",
              "      <td>1</td>\n",
              "    </tr>\n",
              "    <tr>\n",
              "      <th>2020</th>\n",
              "      <td>Rebecca wakes up because she takes sleeping pi...</td>\n",
              "      <td>Rebecca wakes up because she sets an alarm.</td>\n",
              "      <td>0</td>\n",
              "    </tr>\n",
              "    <tr>\n",
              "      <th>2021</th>\n",
              "      <td>people bleed when they feel hot</td>\n",
              "      <td>people sweat when they feel hot</td>\n",
              "      <td>0</td>\n",
              "    </tr>\n",
              "  </tbody>\n",
              "</table>\n",
              "<p>2021 rows × 3 columns</p>\n",
              "</div>"
            ],
            "text/plain": [
              "                                                  sent0  ... labels\n",
              "id                                                       ...       \n",
              "1                   he put an elephant into the fridge.  ...      0\n",
              "2     my sister eats an apple after breakfast every ...  ...      1\n",
              "3                    money can be used for buying cars.  ...      1\n",
              "4     New York is located in the northeastern part o...  ...      1\n",
              "5     a man can better see stars and the moon in day...  ...      0\n",
              "...                                                 ...  ...    ...\n",
              "2017              she cleans her teeth with toothpaste.  ...      1\n",
              "2018              you can see a dinosaur in the museum.  ...      1\n",
              "2019  people have to hold onto their hats because of...  ...      1\n",
              "2020  Rebecca wakes up because she takes sleeping pi...  ...      0\n",
              "2021                    people bleed when they feel hot  ...      0\n",
              "\n",
              "[2021 rows x 3 columns]"
            ]
          },
          "metadata": {
            "tags": []
          },
          "execution_count": 26
        }
      ]
    },
    {
      "cell_type": "code",
      "metadata": {
        "id": "qYW2u6mlZVFB",
        "colab_type": "code",
        "outputId": "5ddc3217-1229-444a-bd06-3960d6a0ad5b",
        "colab": {
          "base_uri": "https://localhost:8080/",
          "height": 235
        }
      },
      "source": [
        "df['pred'] = 0\n",
        "df.head(5) "
      ],
      "execution_count": 27,
      "outputs": [
        {
          "output_type": "execute_result",
          "data": {
            "text/html": [
              "<div>\n",
              "<style scoped>\n",
              "    .dataframe tbody tr th:only-of-type {\n",
              "        vertical-align: middle;\n",
              "    }\n",
              "\n",
              "    .dataframe tbody tr th {\n",
              "        vertical-align: top;\n",
              "    }\n",
              "\n",
              "    .dataframe thead th {\n",
              "        text-align: right;\n",
              "    }\n",
              "</style>\n",
              "<table border=\"1\" class=\"dataframe\">\n",
              "  <thead>\n",
              "    <tr style=\"text-align: right;\">\n",
              "      <th></th>\n",
              "      <th>sent0</th>\n",
              "      <th>sent1</th>\n",
              "      <th>labels</th>\n",
              "      <th>pred</th>\n",
              "    </tr>\n",
              "    <tr>\n",
              "      <th>id</th>\n",
              "      <th></th>\n",
              "      <th></th>\n",
              "      <th></th>\n",
              "      <th></th>\n",
              "    </tr>\n",
              "  </thead>\n",
              "  <tbody>\n",
              "    <tr>\n",
              "      <th>1</th>\n",
              "      <td>he put an elephant into the fridge.</td>\n",
              "      <td>he put a turkey into the fridge.</td>\n",
              "      <td>0</td>\n",
              "      <td>0</td>\n",
              "    </tr>\n",
              "    <tr>\n",
              "      <th>2</th>\n",
              "      <td>my sister eats an apple after breakfast every ...</td>\n",
              "      <td>my sister eats a stone after breakfast every day.</td>\n",
              "      <td>1</td>\n",
              "      <td>0</td>\n",
              "    </tr>\n",
              "    <tr>\n",
              "      <th>3</th>\n",
              "      <td>money can be used for buying cars.</td>\n",
              "      <td>money can be used for buying stars.</td>\n",
              "      <td>1</td>\n",
              "      <td>0</td>\n",
              "    </tr>\n",
              "    <tr>\n",
              "      <th>4</th>\n",
              "      <td>New York is located in the northeastern part o...</td>\n",
              "      <td>USA is located in the northeastern part of New...</td>\n",
              "      <td>1</td>\n",
              "      <td>0</td>\n",
              "    </tr>\n",
              "    <tr>\n",
              "      <th>5</th>\n",
              "      <td>a man can better see stars and the moon in day...</td>\n",
              "      <td>a man can hardly see stars and the moon in day...</td>\n",
              "      <td>0</td>\n",
              "      <td>0</td>\n",
              "    </tr>\n",
              "  </tbody>\n",
              "</table>\n",
              "</div>"
            ],
            "text/plain": [
              "                                                sent0  ... pred\n",
              "id                                                     ...     \n",
              "1                 he put an elephant into the fridge.  ...    0\n",
              "2   my sister eats an apple after breakfast every ...  ...    0\n",
              "3                  money can be used for buying cars.  ...    0\n",
              "4   New York is located in the northeastern part o...  ...    0\n",
              "5   a man can better see stars and the moon in day...  ...    0\n",
              "\n",
              "[5 rows x 4 columns]"
            ]
          },
          "metadata": {
            "tags": []
          },
          "execution_count": 27
        }
      ]
    },
    {
      "cell_type": "code",
      "metadata": {
        "id": "6OiwEhO3Whiu",
        "colab_type": "code",
        "colab": {}
      },
      "source": [
        "import torch\n",
        "from transformers import BertTokenizer, BertModel, BertForMaskedLM\n",
        "\n",
        "# OPTIONAL: if you want to have more information on what's happening under the hood, activate the logger as follows\n",
        "import logging\n",
        "logging.basicConfig(level=logging.INFO)"
      ],
      "execution_count": 0,
      "outputs": []
    },
    {
      "cell_type": "markdown",
      "metadata": {
        "id": "kVFmAeK_Wnwi",
        "colab_type": "text"
      },
      "source": [
        "# Use a [CLS] as the classfication and train a classifier\n",
        "# mask each word and get the probability of that word happening. Multiply this for all the word in the sentence. The bigger is the most probable answer"
      ]
    },
    {
      "cell_type": "code",
      "metadata": {
        "id": "Pme2OHaDWpGN",
        "colab_type": "code",
        "outputId": "2077783a-71c9-4903-ddf1-86168db58604",
        "colab": {
          "base_uri": "https://localhost:8080/",
          "height": 649
        }
      },
      "source": [
        "# Load pre-trained model (weights)\n",
        "# model_type = 'bert-large-cased'\n",
        "model_type = 'bert-base-uncased'\n",
        "model = BertForMaskedLM.from_pretrained(model_type)\n",
        "tokenizer = BertTokenizer.from_pretrained(model_type)\n",
        "_ = model.eval()"
      ],
      "execution_count": 29,
      "outputs": [
        {
          "output_type": "stream",
          "text": [
            "INFO:transformers.configuration_utils:loading configuration file https://s3.amazonaws.com/models.huggingface.co/bert/bert-base-uncased-config.json from cache at /root/.cache/torch/transformers/4dad0251492946e18ac39290fcfe91b89d370fee250efe9521476438fe8ca185.bf3b9ea126d8c0001ee8a1e8b92229871d06d36d8808208cc2449280da87785c\n",
            "INFO:transformers.configuration_utils:Model config {\n",
            "  \"attention_probs_dropout_prob\": 0.1,\n",
            "  \"finetuning_task\": null,\n",
            "  \"hidden_act\": \"gelu\",\n",
            "  \"hidden_dropout_prob\": 0.1,\n",
            "  \"hidden_size\": 768,\n",
            "  \"id2label\": {\n",
            "    \"0\": \"LABEL_0\",\n",
            "    \"1\": \"LABEL_1\"\n",
            "  },\n",
            "  \"initializer_range\": 0.02,\n",
            "  \"intermediate_size\": 3072,\n",
            "  \"is_decoder\": false,\n",
            "  \"label2id\": {\n",
            "    \"LABEL_0\": 0,\n",
            "    \"LABEL_1\": 1\n",
            "  },\n",
            "  \"layer_norm_eps\": 1e-12,\n",
            "  \"max_position_embeddings\": 512,\n",
            "  \"num_attention_heads\": 12,\n",
            "  \"num_hidden_layers\": 12,\n",
            "  \"num_labels\": 2,\n",
            "  \"output_attentions\": false,\n",
            "  \"output_hidden_states\": false,\n",
            "  \"output_past\": true,\n",
            "  \"pruned_heads\": {},\n",
            "  \"torchscript\": false,\n",
            "  \"type_vocab_size\": 2,\n",
            "  \"use_bfloat16\": false,\n",
            "  \"vocab_size\": 30522\n",
            "}\n",
            "\n",
            "INFO:transformers.modeling_utils:loading weights file https://s3.amazonaws.com/models.huggingface.co/bert/bert-base-uncased-pytorch_model.bin from cache at /root/.cache/torch/transformers/aa1ef1aede4482d0dbcd4d52baad8ae300e60902e88fcb0bebdec09afd232066.36ca03ab34a1a5d5fa7bc3d03d55c4fa650fed07220e2eeebc06ce58d0e9a157\n",
            "INFO:transformers.modeling_utils:Weights from pretrained model not used in BertForMaskedLM: ['cls.seq_relationship.weight', 'cls.seq_relationship.bias']\n",
            "INFO:transformers.tokenization_utils:loading file https://s3.amazonaws.com/models.huggingface.co/bert/bert-base-uncased-vocab.txt from cache at /root/.cache/torch/transformers/26bc1ad6c0ac742e9b52263248f6d0f00068293b33709fae12320c0e35ccfbbb.542ce4285a40d23a559526243235df47c5f75c197f04f37d1a0c124c32c9a084\n"
          ],
          "name": "stderr"
        }
      ]
    },
    {
      "cell_type": "code",
      "metadata": {
        "id": "gf9N7Gb_Ws8l",
        "colab_type": "code",
        "colab": {}
      },
      "source": [
        "MASK_TOKEN = '[MASK]'\n",
        "device = 'cuda'\n",
        "# device = 'cpu'"
      ],
      "execution_count": 0,
      "outputs": []
    },
    {
      "cell_type": "markdown",
      "metadata": {
        "id": "bBSb35OomfS-",
        "colab_type": "text"
      },
      "source": [
        "#non-efficient but I merged two repeatitive for loop"
      ]
    },
    {
      "cell_type": "code",
      "metadata": {
        "id": "Sojmu-rDWvfF",
        "colab_type": "code",
        "colab": {}
      },
      "source": [
        "for i in range(len(df)):\n",
        "  if i % 500 == 0:\n",
        "    print('i = ', i)\n",
        "  sent0 = df['sent0'][i]    \n",
        "  sent1 = df['sent1'][i]\n",
        "  sentences = [sent0 , sent1]\n",
        "\n",
        "  # Tokenization\n",
        "  marked_sent0 = '[CLS] ' + sent0.replace('.' , '[SEP]')\n",
        "  marked_sent1 = '[CLS] ' + sent1.replace('.' , '[SEP]')\n",
        "  marked_sentences = [marked_sent0 , marked_sent1]\n",
        "  \n",
        "  # Tokenize sentences with the BERT tokenizer\n",
        "  tokenized_sent0 = tokenizer.tokenize(marked_sent0)\n",
        "  tokenized_sent1 = tokenizer.tokenize(marked_sent1)\n",
        "  list_of_tokenized_sent = [tokenized_sent0 , tokenized_sent1]\n",
        "\n",
        "  #Replace each word sent0 by MASK_TOKEN\n",
        "  k = 0\n",
        "  production = 1\n",
        "  list_of_multiplication_of_prbblty = []\n",
        "  for sent in list_of_tokenized_sent:\n",
        "    for j in range(len(sent)):\n",
        "      masked_token = sent[j]\n",
        "      sent[j] = MASK_TOKEN\n",
        "     \n",
        "      #Map the token strings to their vocabulary indeces.\n",
        "      indexed_tokens_sent = [tokenizer.convert_tokens_to_ids(sent)]\n",
        "\n",
        "      #Convert inputs to PyTorch tensors\n",
        "      tokens_tensor = torch.tensor(indexed_tokens_sent).to(device) # token_indices\n",
        "      segments_tensors = torch.tensor([[0] * len(list_of_tokenized_sent[k])]).to(device) # segment\n",
        "      model.to(device)\n",
        "      \n",
        "      #Predict all tokens\n",
        "      with torch.no_grad():\n",
        "          outputs_sent = model(tokens_tensor, token_type_ids=segments_tensors) \n",
        "          #outputs_sent[0] is a tuple # batch_size * seq_len * vocab_size eg: torch.Size([1, 9, 30522])\n",
        "          list_predicted_prbblty = outputs_sent[0][0, j] #list_predicted_prbblty.shape ---> torch.Size([30522])*****tensor([-6.5220, -6.5080, -6.5015,  ..., -5.9197, -5.6961, -3.9317],device='cuda:0'  \n",
        "          normalize_predicted_prbblty = torch.softmax(list_predicted_prbblty, -1)\n",
        "          masked_token_index_in_vocab = tokenizer.convert_tokens_to_ids(masked_token)\n",
        "          prediction_masked_token = normalize_predicted_prbblty[masked_token_index_in_vocab]  # prbblty of masked token for example ---> tensor(5.4704e-07, device='cuda:0')\n",
        "          #masked_token_index_in_vocab => index of the word that is masked\n",
        "          #Multiplication of the probabilities of masked tokens\n",
        "      production *= prediction_masked_token.item()\n",
        "      #Reset tokenized sentence to the first version to mask net word\n",
        "      sent = tokenizer.tokenize(marked_sentences[k])\n",
        "\n",
        "    #normalize_prbblty_production = pow( production , 1/len(sent))\n",
        "    list_of_multiplication_of_prbblty.append(production)\n",
        "    production = 1\n",
        "    k +=1\n",
        "\n",
        "#Updating pred column in the dataframe\n",
        "  if list_of_multiplication_of_prbblty[0] > list_of_multiplication_of_prbblty[1]:\n",
        "    df['pred'][i] = 1\n",
        "  elif list_of_multiplication_of_prbblty[0] < list_of_multiplication_of_prbblty[1]:\n",
        "    df['pred'][i] = 0"
      ],
      "execution_count": 0,
      "outputs": []
    },
    {
      "cell_type": "code",
      "metadata": {
        "id": "IS-aabaQSFrR",
        "colab_type": "code",
        "outputId": "f2dddc1d-8151-403b-c674-17e63f19a8d5",
        "colab": {
          "base_uri": "https://localhost:8080/",
          "height": 450
        }
      },
      "source": [
        "df"
      ],
      "execution_count": 0,
      "outputs": [
        {
          "output_type": "execute_result",
          "data": {
            "text/html": [
              "<div>\n",
              "<style scoped>\n",
              "    .dataframe tbody tr th:only-of-type {\n",
              "        vertical-align: middle;\n",
              "    }\n",
              "\n",
              "    .dataframe tbody tr th {\n",
              "        vertical-align: top;\n",
              "    }\n",
              "\n",
              "    .dataframe thead th {\n",
              "        text-align: right;\n",
              "    }\n",
              "</style>\n",
              "<table border=\"1\" class=\"dataframe\">\n",
              "  <thead>\n",
              "    <tr style=\"text-align: right;\">\n",
              "      <th></th>\n",
              "      <th>sent0</th>\n",
              "      <th>sent1</th>\n",
              "      <th>labels</th>\n",
              "      <th>pred</th>\n",
              "    </tr>\n",
              "    <tr>\n",
              "      <th>id</th>\n",
              "      <th></th>\n",
              "      <th></th>\n",
              "      <th></th>\n",
              "      <th></th>\n",
              "    </tr>\n",
              "  </thead>\n",
              "  <tbody>\n",
              "    <tr>\n",
              "      <th>0</th>\n",
              "      <td>He poured orange juice on his cereal.</td>\n",
              "      <td>He poured milk on his cereal.</td>\n",
              "      <td>0</td>\n",
              "      <td>0</td>\n",
              "    </tr>\n",
              "    <tr>\n",
              "      <th>1</th>\n",
              "      <td>He drinks apple.</td>\n",
              "      <td>He drinks milk.</td>\n",
              "      <td>0</td>\n",
              "      <td>0</td>\n",
              "    </tr>\n",
              "    <tr>\n",
              "      <th>2</th>\n",
              "      <td>Jeff ran a mile today</td>\n",
              "      <td>Jeff ran 100,000 miles today</td>\n",
              "      <td>1</td>\n",
              "      <td>1</td>\n",
              "    </tr>\n",
              "    <tr>\n",
              "      <th>3</th>\n",
              "      <td>A mosquito stings me</td>\n",
              "      <td>I sting a mosquito</td>\n",
              "      <td>1</td>\n",
              "      <td>0</td>\n",
              "    </tr>\n",
              "    <tr>\n",
              "      <th>4</th>\n",
              "      <td>A niece is a person.</td>\n",
              "      <td>A giraffe is a person.</td>\n",
              "      <td>1</td>\n",
              "      <td>0</td>\n",
              "    </tr>\n",
              "    <tr>\n",
              "      <th>...</th>\n",
              "      <td>...</td>\n",
              "      <td>...</td>\n",
              "      <td>...</td>\n",
              "      <td>...</td>\n",
              "    </tr>\n",
              "    <tr>\n",
              "      <th>9995</th>\n",
              "      <td>Mark ate a big bitter cherry pie</td>\n",
              "      <td>Mark ate a big sweet cherry pie</td>\n",
              "      <td>0</td>\n",
              "      <td>0</td>\n",
              "    </tr>\n",
              "    <tr>\n",
              "      <th>9996</th>\n",
              "      <td>Gloria wears a cat on her head</td>\n",
              "      <td>Gloria wears a hat on her head</td>\n",
              "      <td>0</td>\n",
              "      <td>0</td>\n",
              "    </tr>\n",
              "    <tr>\n",
              "      <th>9997</th>\n",
              "      <td>Harry went to the barbershop to have his hair cut</td>\n",
              "      <td>Harry went to the barbershop to have his glass...</td>\n",
              "      <td>1</td>\n",
              "      <td>1</td>\n",
              "    </tr>\n",
              "    <tr>\n",
              "      <th>9998</th>\n",
              "      <td>Reilly is sleeping on the couch</td>\n",
              "      <td>Reilly is sleeping on the window</td>\n",
              "      <td>1</td>\n",
              "      <td>1</td>\n",
              "    </tr>\n",
              "    <tr>\n",
              "      <th>9999</th>\n",
              "      <td>I have a desk on my lamp</td>\n",
              "      <td>I have a lamp on my desk</td>\n",
              "      <td>0</td>\n",
              "      <td>0</td>\n",
              "    </tr>\n",
              "  </tbody>\n",
              "</table>\n",
              "<p>10000 rows × 4 columns</p>\n",
              "</div>"
            ],
            "text/plain": [
              "                                                  sent0  ... pred\n",
              "id                                                       ...     \n",
              "0                 He poured orange juice on his cereal.  ...    0\n",
              "1                                      He drinks apple.  ...    0\n",
              "2                                 Jeff ran a mile today  ...    1\n",
              "3                                  A mosquito stings me  ...    0\n",
              "4                                  A niece is a person.  ...    0\n",
              "...                                                 ...  ...  ...\n",
              "9995                   Mark ate a big bitter cherry pie  ...    0\n",
              "9996                     Gloria wears a cat on her head  ...    0\n",
              "9997  Harry went to the barbershop to have his hair cut  ...    1\n",
              "9998                    Reilly is sleeping on the couch  ...    1\n",
              "9999                           I have a desk on my lamp  ...    0\n",
              "\n",
              "[10000 rows x 4 columns]"
            ]
          },
          "metadata": {
            "tags": []
          },
          "execution_count": 48
        }
      ]
    },
    {
      "cell_type": "code",
      "metadata": {
        "id": "lH5f3zQy9gph",
        "colab_type": "code",
        "outputId": "e4b7a1d8-ea65-4274-c302-596840e66ee3",
        "colab": {
          "base_uri": "https://localhost:8080/",
          "height": 34
        }
      },
      "source": [
        "(df['labels'] == df['pred']).sum()/len(df)"
      ],
      "execution_count": 0,
      "outputs": [
        {
          "output_type": "execute_result",
          "data": {
            "text/plain": [
              "0.6976"
            ]
          },
          "metadata": {
            "tags": []
          },
          "execution_count": 49
        }
      ]
    },
    {
      "cell_type": "markdown",
      "metadata": {
        "id": "HVdzD96zWtwj",
        "colab_type": "text"
      },
      "source": [
        "### Don't repeat yourself:\n",
        "prod = 1\n",
        "for ....\n",
        "  prod *= prop.item()\n",
        "\n",
        "### combine all input for a model inside just one tensor. batch_size = seq_len"
      ]
    },
    {
      "cell_type": "markdown",
      "metadata": {
        "id": "54TYbQXqjwlp",
        "colab_type": "text"
      },
      "source": [
        "#Efficient2- insted of batch size = the lenth of sequense"
      ]
    },
    {
      "cell_type": "code",
      "metadata": {
        "id": "dzTahCAvW-AI",
        "colab_type": "code",
        "outputId": "32544bb3-5cc3-4b0c-d3d0-89c7ab3328bc",
        "colab": {
          "base_uri": "https://localhost:8080/",
          "height": 513
        }
      },
      "source": [
        "for i in range(1,len(df)):\n",
        "  if i % 100 == 0:\n",
        "    print('i = ', i)\n",
        "  sent0 = df['sent0'][i]    \n",
        "  sent1 = df['sent1'][i]\n",
        "  sentences = [sent0 , sent1]\n",
        "\n",
        "  # add [CLS] and [SEP] to the beginning and end of the sentences\n",
        "  marked_sent0 = '[CLS] ' + sent0.replace('.' , '[SEP]')\n",
        "  marked_sent1 = '[CLS] ' + sent1.replace('.' , '[SEP]')\n",
        "  marked_sentences = [marked_sent0 , marked_sent1]\n",
        "\n",
        "  # Tokenize sentences with the BERT tokenizer\n",
        "  tokenized_sent0 = tokenizer.tokenize(marked_sent0)\n",
        "  tokenized_sent1 = tokenizer.tokenize(marked_sent1)\n",
        "  list_of_tokenized_sent = [tokenized_sent0 , tokenized_sent1]\n",
        "\n",
        "  k = 0 \n",
        "  list_of_indices_tensors = []\n",
        "  merged_tensor = []\n",
        "  segment = []\n",
        "  merged_segment = []\n",
        "  for sent in list_of_tokenized_sent:\n",
        "    for j in range(len(sent)):\n",
        "      masked_token = sent[j]\n",
        "      sent[j] = MASK_TOKEN\n",
        "      #Map the token strings to their vocabulary indeces.\n",
        "      indexed_tokens_sent = tokenizer.convert_tokens_to_ids(sent)\n",
        "      #Convert inputs to PyTorch tensors\n",
        "      tokens_tensor = torch.tensor(indexed_tokens_sent).to(device) # token_indices\n",
        "      list_of_indices_tensors.append(tokens_tensor)\n",
        "      segments_tensors = torch.tensor([0] * len(list_of_tokenized_sent[k])).to(device) # segment\n",
        "      segment.append(segments_tensors) \n",
        "      sent = tokenizer.tokenize(marked_sentences[k])    \n",
        "\n",
        "    merge_all_tensors = torch.stack(list_of_indices_tensors)\n",
        "    merge_all_segment = torch.stack(segment)\n",
        "    #the following tensor is the first argument of the model including index tensors of all these:\n",
        "    #[['[MASK]', 'he', 'poured', 'orange', 'juice', 'on', 'his', 'cereal', '[SEP]'],\n",
        "    #['[CLS]', '[MASK]', 'poured', 'orange', 'juice', 'on', 'his', 'cereal', '[SEP]'], \n",
        "    #['[CLS]', 'he', '[MASK]', 'orange', 'juice', 'on', 'his', 'cereal', '[SEP]'],\n",
        "    #['[CLS]', 'he', 'poured', '[MASK]', 'juice', 'on', 'his', 'cereal', '[SEP]'], \n",
        "    #['[CLS]', 'he', 'poured', 'orange', '[MASK]', 'on', 'his', 'cereal', '[SEP]'],\n",
        "    #['[CLS]', 'he', 'poured', 'orange', 'juice', '[MASK]', 'his', 'cereal', '[SEP]'], \n",
        "    #['[CLS]', 'he', 'poured', 'orange', 'juice', 'on', '[MASK]', 'cereal', '[SEP]'], \n",
        "    #['[CLS]', 'he', 'poured', 'orange', 'juice', 'on', 'his', '[MASK]', '[SEP]'], \n",
        "    #['[CLS]', 'he', 'poured', 'orange', 'juice', 'on', 'his', 'cereal', '[MASK]']]\n",
        "    merged_tensor.append(merge_all_tensors)\n",
        "    \n",
        "    merged_segment.append(merge_all_segment)\n",
        "    model.to(device)\n",
        "    list_of_indices_tensors = []\n",
        "    segment = []\n",
        "    k += 1\n",
        "\n",
        "  #Calling BERT model\n",
        "  with torch.no_grad():\n",
        "    outputs_sent0 = model(merged_tensor[0], token_type_ids=merged_segment[0])\n",
        "    outputs_sent1 = model(merged_tensor[1], token_type_ids=merged_segment[1])\n",
        "    list_output = [outputs_sent0 , outputs_sent1]\n",
        "    #outputs_sent0[0] is a tuple of batch size * seq length * vocab\n",
        "    #in our case is j*j*30522\n",
        "  \n",
        "\n",
        "  #predicting masked_token prbblty\n",
        "  element = 0\n",
        "  production = 1\n",
        "  list_of_multiplication_of_prbblty = []\n",
        "  for sent in list_of_tokenized_sent:\n",
        "    for j in range(len(sent)):\n",
        "      masked_token = sent[j]\n",
        "      sent[j] = MASK_TOKEN\n",
        "      #normalized prbblty of all tokens in dictionary.--------> list_output[k][0][***********]---------> torch.Size([30522])\n",
        "      normalize_predicted_prbblty = torch.softmax(list_output[element][0][j, j, :], -1) \n",
        "      #print(normalize_predicted_prbblty)\n",
        "      #find index of masked_token\n",
        "      masked_token_index_in_vocab = tokenizer.convert_tokens_to_ids(masked_token)\n",
        "      #print(masked_token_index_in_vocab)\n",
        "      #probblty of masked_token\n",
        "      prediction_masked_token = normalize_predicted_prbblty[masked_token_index_in_vocab]\n",
        "      #print(prediction_masked_token)\n",
        "      production *= prediction_masked_token.item()\n",
        "      sent = tokenizer.tokenize(marked_sentences[element])\n",
        "    \n",
        "    #normalize_prbblty_production = pow( production , 1/len(sent))\n",
        "    list_of_multiplication_of_prbblty.append(production)\n",
        "    production = 1\n",
        "    element +=1\n",
        "\n",
        "\n",
        "  #Updating pred column in the dataframe\n",
        "  if list_of_multiplication_of_prbblty[0] > list_of_multiplication_of_prbblty[1]:\n",
        "    df['pred'][i] = 1\n",
        "  elif list_of_multiplication_of_prbblty[0] < list_of_multiplication_of_prbblty[1]:\n",
        "    df['pred'][i] = 0\n",
        "  "
      ],
      "execution_count": 33,
      "outputs": [
        {
          "output_type": "stream",
          "text": [
            "/usr/local/lib/python3.6/dist-packages/ipykernel_launcher.py:95: SettingWithCopyWarning: \n",
            "A value is trying to be set on a copy of a slice from a DataFrame\n",
            "\n",
            "See the caveats in the documentation: http://pandas.pydata.org/pandas-docs/stable/user_guide/indexing.html#returning-a-view-versus-a-copy\n",
            "/usr/local/lib/python3.6/dist-packages/ipykernel_launcher.py:93: SettingWithCopyWarning: \n",
            "A value is trying to be set on a copy of a slice from a DataFrame\n",
            "\n",
            "See the caveats in the documentation: http://pandas.pydata.org/pandas-docs/stable/user_guide/indexing.html#returning-a-view-versus-a-copy\n"
          ],
          "name": "stderr"
        },
        {
          "output_type": "stream",
          "text": [
            "i =  100\n",
            "i =  200\n",
            "i =  300\n",
            "i =  400\n",
            "i =  500\n",
            "i =  600\n",
            "i =  700\n",
            "i =  800\n",
            "i =  900\n",
            "i =  1000\n",
            "i =  1100\n",
            "i =  1200\n",
            "i =  1300\n",
            "i =  1400\n",
            "i =  1500\n",
            "i =  1600\n",
            "i =  1700\n",
            "i =  1800\n",
            "i =  1900\n",
            "i =  2000\n"
          ],
          "name": "stdout"
        }
      ]
    },
    {
      "cell_type": "code",
      "metadata": {
        "id": "3bgpzWgwKa3F",
        "colab_type": "code",
        "outputId": "ddaed414-b3ef-49c4-f8ba-042d73202245",
        "colab": {
          "base_uri": "https://localhost:8080/",
          "height": 450
        }
      },
      "source": [
        "df"
      ],
      "execution_count": 34,
      "outputs": [
        {
          "output_type": "execute_result",
          "data": {
            "text/html": [
              "<div>\n",
              "<style scoped>\n",
              "    .dataframe tbody tr th:only-of-type {\n",
              "        vertical-align: middle;\n",
              "    }\n",
              "\n",
              "    .dataframe tbody tr th {\n",
              "        vertical-align: top;\n",
              "    }\n",
              "\n",
              "    .dataframe thead th {\n",
              "        text-align: right;\n",
              "    }\n",
              "</style>\n",
              "<table border=\"1\" class=\"dataframe\">\n",
              "  <thead>\n",
              "    <tr style=\"text-align: right;\">\n",
              "      <th></th>\n",
              "      <th>sent0</th>\n",
              "      <th>sent1</th>\n",
              "      <th>labels</th>\n",
              "      <th>pred</th>\n",
              "    </tr>\n",
              "    <tr>\n",
              "      <th>id</th>\n",
              "      <th></th>\n",
              "      <th></th>\n",
              "      <th></th>\n",
              "      <th></th>\n",
              "    </tr>\n",
              "  </thead>\n",
              "  <tbody>\n",
              "    <tr>\n",
              "      <th>1</th>\n",
              "      <td>he put an elephant into the fridge.</td>\n",
              "      <td>he put a turkey into the fridge.</td>\n",
              "      <td>0</td>\n",
              "      <td>0</td>\n",
              "    </tr>\n",
              "    <tr>\n",
              "      <th>2</th>\n",
              "      <td>my sister eats an apple after breakfast every ...</td>\n",
              "      <td>my sister eats a stone after breakfast every day.</td>\n",
              "      <td>1</td>\n",
              "      <td>1</td>\n",
              "    </tr>\n",
              "    <tr>\n",
              "      <th>3</th>\n",
              "      <td>money can be used for buying cars.</td>\n",
              "      <td>money can be used for buying stars.</td>\n",
              "      <td>1</td>\n",
              "      <td>1</td>\n",
              "    </tr>\n",
              "    <tr>\n",
              "      <th>4</th>\n",
              "      <td>New York is located in the northeastern part o...</td>\n",
              "      <td>USA is located in the northeastern part of New...</td>\n",
              "      <td>1</td>\n",
              "      <td>1</td>\n",
              "    </tr>\n",
              "    <tr>\n",
              "      <th>5</th>\n",
              "      <td>a man can better see stars and the moon in day...</td>\n",
              "      <td>a man can hardly see stars and the moon in day...</td>\n",
              "      <td>0</td>\n",
              "      <td>0</td>\n",
              "    </tr>\n",
              "    <tr>\n",
              "      <th>...</th>\n",
              "      <td>...</td>\n",
              "      <td>...</td>\n",
              "      <td>...</td>\n",
              "      <td>...</td>\n",
              "    </tr>\n",
              "    <tr>\n",
              "      <th>2017</th>\n",
              "      <td>she cleans her teeth with toothpaste.</td>\n",
              "      <td>she cleans her teeth with shampoo.</td>\n",
              "      <td>1</td>\n",
              "      <td>1</td>\n",
              "    </tr>\n",
              "    <tr>\n",
              "      <th>2018</th>\n",
              "      <td>you can see a dinosaur in the museum.</td>\n",
              "      <td>you can see a dinosaur in the zoo.</td>\n",
              "      <td>1</td>\n",
              "      <td>0</td>\n",
              "    </tr>\n",
              "    <tr>\n",
              "      <th>2019</th>\n",
              "      <td>people have to hold onto their hats because of...</td>\n",
              "      <td>people have to hold onto their shoes because o...</td>\n",
              "      <td>1</td>\n",
              "      <td>0</td>\n",
              "    </tr>\n",
              "    <tr>\n",
              "      <th>2020</th>\n",
              "      <td>Rebecca wakes up because she takes sleeping pi...</td>\n",
              "      <td>Rebecca wakes up because she sets an alarm.</td>\n",
              "      <td>0</td>\n",
              "      <td>1</td>\n",
              "    </tr>\n",
              "    <tr>\n",
              "      <th>2021</th>\n",
              "      <td>people bleed when they feel hot</td>\n",
              "      <td>people sweat when they feel hot</td>\n",
              "      <td>0</td>\n",
              "      <td>0</td>\n",
              "    </tr>\n",
              "  </tbody>\n",
              "</table>\n",
              "<p>2021 rows × 4 columns</p>\n",
              "</div>"
            ],
            "text/plain": [
              "                                                  sent0  ... pred\n",
              "id                                                       ...     \n",
              "1                   he put an elephant into the fridge.  ...    0\n",
              "2     my sister eats an apple after breakfast every ...  ...    1\n",
              "3                    money can be used for buying cars.  ...    1\n",
              "4     New York is located in the northeastern part o...  ...    1\n",
              "5     a man can better see stars and the moon in day...  ...    0\n",
              "...                                                 ...  ...  ...\n",
              "2017              she cleans her teeth with toothpaste.  ...    1\n",
              "2018              you can see a dinosaur in the museum.  ...    0\n",
              "2019  people have to hold onto their hats because of...  ...    0\n",
              "2020  Rebecca wakes up because she takes sleeping pi...  ...    1\n",
              "2021                    people bleed when they feel hot  ...    0\n",
              "\n",
              "[2021 rows x 4 columns]"
            ]
          },
          "metadata": {
            "tags": []
          },
          "execution_count": 34
        }
      ]
    },
    {
      "cell_type": "code",
      "metadata": {
        "id": "0-7OBByvKbX3",
        "colab_type": "code",
        "outputId": "80fb5b49-8cee-40f2-ee84-057871ec924e",
        "colab": {
          "base_uri": "https://localhost:8080/",
          "height": 34
        }
      },
      "source": [
        "(df['labels'] == df['pred']).sum()/len(df)"
      ],
      "execution_count": 35,
      "outputs": [
        {
          "output_type": "execute_result",
          "data": {
            "text/plain": [
              "0.7021276595744681"
            ]
          },
          "metadata": {
            "tags": []
          },
          "execution_count": 35
        }
      ]
    },
    {
      "cell_type": "code",
      "metadata": {
        "id": "6UpXT2ys5Ha_",
        "colab_type": "code",
        "colab": {
          "base_uri": "https://localhost:8080/",
          "height": 450
        },
        "outputId": "3e5f1f81-47fc-46bb-96dc-3df28003b9cd"
      },
      "source": [
        "df.drop(columns=['sent0', 'sent1' , 'labels'])"
      ],
      "execution_count": 40,
      "outputs": [
        {
          "output_type": "execute_result",
          "data": {
            "text/html": [
              "<div>\n",
              "<style scoped>\n",
              "    .dataframe tbody tr th:only-of-type {\n",
              "        vertical-align: middle;\n",
              "    }\n",
              "\n",
              "    .dataframe tbody tr th {\n",
              "        vertical-align: top;\n",
              "    }\n",
              "\n",
              "    .dataframe thead th {\n",
              "        text-align: right;\n",
              "    }\n",
              "</style>\n",
              "<table border=\"1\" class=\"dataframe\">\n",
              "  <thead>\n",
              "    <tr style=\"text-align: right;\">\n",
              "      <th></th>\n",
              "      <th>pred</th>\n",
              "    </tr>\n",
              "    <tr>\n",
              "      <th>id</th>\n",
              "      <th></th>\n",
              "    </tr>\n",
              "  </thead>\n",
              "  <tbody>\n",
              "    <tr>\n",
              "      <th>1</th>\n",
              "      <td>0</td>\n",
              "    </tr>\n",
              "    <tr>\n",
              "      <th>2</th>\n",
              "      <td>1</td>\n",
              "    </tr>\n",
              "    <tr>\n",
              "      <th>3</th>\n",
              "      <td>1</td>\n",
              "    </tr>\n",
              "    <tr>\n",
              "      <th>4</th>\n",
              "      <td>1</td>\n",
              "    </tr>\n",
              "    <tr>\n",
              "      <th>5</th>\n",
              "      <td>0</td>\n",
              "    </tr>\n",
              "    <tr>\n",
              "      <th>...</th>\n",
              "      <td>...</td>\n",
              "    </tr>\n",
              "    <tr>\n",
              "      <th>2017</th>\n",
              "      <td>1</td>\n",
              "    </tr>\n",
              "    <tr>\n",
              "      <th>2018</th>\n",
              "      <td>0</td>\n",
              "    </tr>\n",
              "    <tr>\n",
              "      <th>2019</th>\n",
              "      <td>0</td>\n",
              "    </tr>\n",
              "    <tr>\n",
              "      <th>2020</th>\n",
              "      <td>1</td>\n",
              "    </tr>\n",
              "    <tr>\n",
              "      <th>2021</th>\n",
              "      <td>0</td>\n",
              "    </tr>\n",
              "  </tbody>\n",
              "</table>\n",
              "<p>2021 rows × 1 columns</p>\n",
              "</div>"
            ],
            "text/plain": [
              "      pred\n",
              "id        \n",
              "1        0\n",
              "2        1\n",
              "3        1\n",
              "4        1\n",
              "5        0\n",
              "...    ...\n",
              "2017     1\n",
              "2018     0\n",
              "2019     0\n",
              "2020     1\n",
              "2021     0\n",
              "\n",
              "[2021 rows x 1 columns]"
            ]
          },
          "metadata": {
            "tags": []
          },
          "execution_count": 40
        }
      ]
    },
    {
      "cell_type": "code",
      "metadata": {
        "id": "7It8RdUZ5eDm",
        "colab_type": "code",
        "colab": {}
      },
      "source": [
        "df.to_csv('subtaskA_trial_data.csv', header=False, columns=['pred'])"
      ],
      "execution_count": 0,
      "outputs": []
    },
    {
      "cell_type": "code",
      "metadata": {
        "id": "Tp8_0Flt7BEk",
        "colab_type": "code",
        "colab": {}
      },
      "source": [
        ""
      ],
      "execution_count": 0,
      "outputs": []
    }
  ]
}