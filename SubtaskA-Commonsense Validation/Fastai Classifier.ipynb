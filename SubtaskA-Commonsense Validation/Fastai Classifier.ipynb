{
  "nbformat": 4,
  "nbformat_minor": 0,
  "metadata": {
    "colab": {
      "name": "SemEval4_2020-second version-Ali.ipynb",
      "provenance": [],
      "collapsed_sections": [
        "ko3rQiN7tEA_",
        "9sW-lFEltJLN",
        "daVirBkYMgdx",
        "0IanIxgmtdZr",
        "8IzxYvEaMF00",
        "nwGlJmYoMUvf",
        "rZ-cjkah56zs",
        "K-yIbE_lG-gU",
        "kD4MZqNn9pbZ",
        "Qf_iXbnAODLp"
      ]
    },
    "kernelspec": {
      "name": "python3",
      "display_name": "Python 3"
    },
    "accelerator": "GPU"
  },
  "cells": [
    {
      "cell_type": "code",
      "metadata": {
        "id": "Bjiqx6QqAq9J",
        "colab_type": "code",
        "outputId": "70595584-3531-42af-c2ae-02fbbed2f705",
        "colab": {
          "base_uri": "https://localhost:8080/",
          "height": 34
        }
      },
      "source": [
        "!nvidia-smi | grep \"|   0\""
      ],
      "execution_count": 1,
      "outputs": [
        {
          "output_type": "stream",
          "text": [
            "|   0  Tesla K80           Off  | 00000000:00:04.0 Off |                    0 |\n"
          ],
          "name": "stdout"
        }
      ]
    },
    {
      "cell_type": "markdown",
      "metadata": {
        "id": "ko3rQiN7tEA_",
        "colab_type": "text"
      },
      "source": [
        "#Updating Stuff"
      ]
    },
    {
      "cell_type": "code",
      "metadata": {
        "id": "U9xgL6z4j72t",
        "colab_type": "code",
        "outputId": "d4a3f450-c07c-45c1-ca85-6ed5c4d93471",
        "colab": {
          "base_uri": "https://localhost:8080/",
          "height": 68
        }
      },
      "source": [
        "# Make ready for fast.ai\n",
        "!curl -s https://course.fast.ai/setup/colab | bash\n",
        "!pip -q install git+https://github.com/fastai/fastai.git -U"
      ],
      "execution_count": 2,
      "outputs": [
        {
          "output_type": "stream",
          "text": [
            "Updating fastai...\n",
            "Done.\n",
            "  Building wheel for fastai (setup.py) ... \u001b[?25l\u001b[?25hdone\n"
          ],
          "name": "stdout"
        }
      ]
    },
    {
      "cell_type": "markdown",
      "metadata": {
        "id": "9sW-lFEltJLN",
        "colab_type": "text"
      },
      "source": [
        "#Importing Libraries"
      ]
    },
    {
      "cell_type": "code",
      "metadata": {
        "id": "9khwY0oymP8P",
        "colab_type": "code",
        "colab": {}
      },
      "source": [
        "import fastai\n",
        "from fastai.text import *\n",
        "from fastai import *\n",
        "import pandas as pd\n",
        "import glob\n",
        "from numpy import random"
      ],
      "execution_count": 0,
      "outputs": []
    },
    {
      "cell_type": "markdown",
      "metadata": {
        "id": "Pzv-UdPbtPEm",
        "colab_type": "text"
      },
      "source": [
        "#Downloading and preparing Traning Data "
      ]
    },
    {
      "cell_type": "markdown",
      "metadata": {
        "id": "daVirBkYMgdx",
        "colab_type": "text"
      },
      "source": [
        "##Downloading CSV files from task4 repo"
      ]
    },
    {
      "cell_type": "code",
      "metadata": {
        "id": "a6vyqMLLmjP3",
        "colab_type": "code",
        "colab": {}
      },
      "source": [
        "subtaskA_URL = 'https://raw.githubusercontent.com/wangcunxiang/SemEval2020-Task4-Commonsense-Validation-and-Explanation/master/Training%20%20Data/subtaskA_data_all.csv'"
      ],
      "execution_count": 0,
      "outputs": []
    },
    {
      "cell_type": "code",
      "metadata": {
        "id": "cQ_zhl6O2dbs",
        "colab_type": "code",
        "colab": {}
      },
      "source": [
        "subtaskA_Answers_URL = 'https://raw.githubusercontent.com/wangcunxiang/SemEval2020-Task4-Commonsense-Validation-and-Explanation/master/Training%20%20Data/subtaskA_answers_all.csv'"
      ],
      "execution_count": 0,
      "outputs": []
    },
    {
      "cell_type": "code",
      "metadata": {
        "id": "OgFNsdYDrDXv",
        "colab_type": "code",
        "outputId": "51f4331d-8cba-45c4-a6d6-166c1b47b15d",
        "colab": {
          "base_uri": "https://localhost:8080/",
          "height": 34
        }
      },
      "source": [
        "import urllib.request\n",
        "urllib.request.urlretrieve(subtaskA_URL , '/content/subtaskA_data_all.csv')"
      ],
      "execution_count": 6,
      "outputs": [
        {
          "output_type": "execute_result",
          "data": {
            "text/plain": [
              "('/content/subtaskA_data_all.csv', <http.client.HTTPMessage at 0x7f4f7f4ea0b8>)"
            ]
          },
          "metadata": {
            "tags": []
          },
          "execution_count": 6
        }
      ]
    },
    {
      "cell_type": "code",
      "metadata": {
        "id": "fmet8tmg1NW-",
        "colab_type": "code",
        "outputId": "3ad0c899-ee14-4608-93bd-c580ca17b054",
        "colab": {
          "base_uri": "https://localhost:8080/",
          "height": 51
        }
      },
      "source": [
        "urllib.request.urlretrieve(subtaskA_Answers_URL , '/content/subtaskA_answers_all.csv')"
      ],
      "execution_count": 7,
      "outputs": [
        {
          "output_type": "execute_result",
          "data": {
            "text/plain": [
              "('/content/subtaskA_answers_all.csv',\n",
              " <http.client.HTTPMessage at 0x7f4f7f4ea550>)"
            ]
          },
          "metadata": {
            "tags": []
          },
          "execution_count": 7
        }
      ]
    },
    {
      "cell_type": "markdown",
      "metadata": {
        "id": "0IanIxgmtdZr",
        "colab_type": "text"
      },
      "source": [
        "##Read subtaskA_data_all.csv\n",
        "subtaskA_data_all is the released training set of this task"
      ]
    },
    {
      "cell_type": "code",
      "metadata": {
        "id": "Ky1t5cuurV_q",
        "colab_type": "code",
        "outputId": "3b9fdef7-a0d0-4f97-c056-f33d668722b8",
        "colab": {
          "base_uri": "https://localhost:8080/",
          "height": 450
        }
      },
      "source": [
        "df1 = pd.read_csv(subtaskA_URL , index_col=0)\n",
        "df1"
      ],
      "execution_count": 8,
      "outputs": [
        {
          "output_type": "execute_result",
          "data": {
            "text/html": [
              "<div>\n",
              "<style scoped>\n",
              "    .dataframe tbody tr th:only-of-type {\n",
              "        vertical-align: middle;\n",
              "    }\n",
              "\n",
              "    .dataframe tbody tr th {\n",
              "        vertical-align: top;\n",
              "    }\n",
              "\n",
              "    .dataframe thead th {\n",
              "        text-align: right;\n",
              "    }\n",
              "</style>\n",
              "<table border=\"1\" class=\"dataframe\">\n",
              "  <thead>\n",
              "    <tr style=\"text-align: right;\">\n",
              "      <th></th>\n",
              "      <th>sent0</th>\n",
              "      <th>sent1</th>\n",
              "    </tr>\n",
              "    <tr>\n",
              "      <th>id</th>\n",
              "      <th></th>\n",
              "      <th></th>\n",
              "    </tr>\n",
              "  </thead>\n",
              "  <tbody>\n",
              "    <tr>\n",
              "      <th>0</th>\n",
              "      <td>He poured orange juice on his cereal.</td>\n",
              "      <td>He poured milk on his cereal.</td>\n",
              "    </tr>\n",
              "    <tr>\n",
              "      <th>1</th>\n",
              "      <td>He drinks apple.</td>\n",
              "      <td>He drinks milk.</td>\n",
              "    </tr>\n",
              "    <tr>\n",
              "      <th>2</th>\n",
              "      <td>Jeff ran a mile today</td>\n",
              "      <td>Jeff ran 100,000 miles today</td>\n",
              "    </tr>\n",
              "    <tr>\n",
              "      <th>3</th>\n",
              "      <td>A mosquito stings me</td>\n",
              "      <td>I sting a mosquito</td>\n",
              "    </tr>\n",
              "    <tr>\n",
              "      <th>4</th>\n",
              "      <td>A niece is a person.</td>\n",
              "      <td>A giraffe is a person.</td>\n",
              "    </tr>\n",
              "    <tr>\n",
              "      <th>...</th>\n",
              "      <td>...</td>\n",
              "      <td>...</td>\n",
              "    </tr>\n",
              "    <tr>\n",
              "      <th>9995</th>\n",
              "      <td>Mark ate a big bitter cherry pie</td>\n",
              "      <td>Mark ate a big sweet cherry pie</td>\n",
              "    </tr>\n",
              "    <tr>\n",
              "      <th>9996</th>\n",
              "      <td>Gloria wears a cat on her head</td>\n",
              "      <td>Gloria wears a hat on her head</td>\n",
              "    </tr>\n",
              "    <tr>\n",
              "      <th>9997</th>\n",
              "      <td>Harry went to the barbershop to have his hair cut</td>\n",
              "      <td>Harry went to the barbershop to have his glass...</td>\n",
              "    </tr>\n",
              "    <tr>\n",
              "      <th>9998</th>\n",
              "      <td>Reilly is sleeping on the couch</td>\n",
              "      <td>Reilly is sleeping on the window</td>\n",
              "    </tr>\n",
              "    <tr>\n",
              "      <th>9999</th>\n",
              "      <td>I have a desk on my lamp</td>\n",
              "      <td>I have a lamp on my desk</td>\n",
              "    </tr>\n",
              "  </tbody>\n",
              "</table>\n",
              "<p>10000 rows × 2 columns</p>\n",
              "</div>"
            ],
            "text/plain": [
              "                                                  sent0                                              sent1\n",
              "id                                                                                                        \n",
              "0                 He poured orange juice on his cereal.                      He poured milk on his cereal.\n",
              "1                                      He drinks apple.                                    He drinks milk.\n",
              "2                                 Jeff ran a mile today                       Jeff ran 100,000 miles today\n",
              "3                                  A mosquito stings me                                 I sting a mosquito\n",
              "4                                  A niece is a person.                             A giraffe is a person.\n",
              "...                                                 ...                                                ...\n",
              "9995                   Mark ate a big bitter cherry pie                    Mark ate a big sweet cherry pie\n",
              "9996                     Gloria wears a cat on her head                     Gloria wears a hat on her head\n",
              "9997  Harry went to the barbershop to have his hair cut  Harry went to the barbershop to have his glass...\n",
              "9998                    Reilly is sleeping on the couch                   Reilly is sleeping on the window\n",
              "9999                           I have a desk on my lamp                           I have a lamp on my desk\n",
              "\n",
              "[10000 rows x 2 columns]"
            ]
          },
          "metadata": {
            "tags": []
          },
          "execution_count": 8
        }
      ]
    },
    {
      "cell_type": "code",
      "metadata": {
        "id": "G0mji6ECGk8V",
        "colab_type": "code",
        "colab": {}
      },
      "source": [
        "#df1['Sentences_Seperated'] = df1[['sent0', 'sent1']].apply(lambda x: ' , '.join(x), axis=1)\n",
        "#df1.drop(['sent0' , 'sent1'], axis=1, inplace=True)\n",
        "#df1"
      ],
      "execution_count": 0,
      "outputs": []
    },
    {
      "cell_type": "markdown",
      "metadata": {
        "id": "8IzxYvEaMF00",
        "colab_type": "text"
      },
      "source": [
        "##Read subtaskA_answers_all.csv\n",
        "\n",
        "The labels are given in a different csv file"
      ]
    },
    {
      "cell_type": "code",
      "metadata": {
        "id": "4eD6Jd5YAWQZ",
        "colab_type": "code",
        "outputId": "510cc4af-1cf2-4c88-8527-c0b65e70bd3e",
        "colab": {
          "base_uri": "https://localhost:8080/",
          "height": 450
        }
      },
      "source": [
        "df2 = pd.read_csv(subtaskA_Answers_URL , header=None)\n",
        "df2.columns = ['id', 'answers']\n",
        "df2.set_index('id', inplace=True)\n",
        "df2"
      ],
      "execution_count": 9,
      "outputs": [
        {
          "output_type": "execute_result",
          "data": {
            "text/html": [
              "<div>\n",
              "<style scoped>\n",
              "    .dataframe tbody tr th:only-of-type {\n",
              "        vertical-align: middle;\n",
              "    }\n",
              "\n",
              "    .dataframe tbody tr th {\n",
              "        vertical-align: top;\n",
              "    }\n",
              "\n",
              "    .dataframe thead th {\n",
              "        text-align: right;\n",
              "    }\n",
              "</style>\n",
              "<table border=\"1\" class=\"dataframe\">\n",
              "  <thead>\n",
              "    <tr style=\"text-align: right;\">\n",
              "      <th></th>\n",
              "      <th>answers</th>\n",
              "    </tr>\n",
              "    <tr>\n",
              "      <th>id</th>\n",
              "      <th></th>\n",
              "    </tr>\n",
              "  </thead>\n",
              "  <tbody>\n",
              "    <tr>\n",
              "      <th>0</th>\n",
              "      <td>0</td>\n",
              "    </tr>\n",
              "    <tr>\n",
              "      <th>1</th>\n",
              "      <td>0</td>\n",
              "    </tr>\n",
              "    <tr>\n",
              "      <th>2</th>\n",
              "      <td>1</td>\n",
              "    </tr>\n",
              "    <tr>\n",
              "      <th>3</th>\n",
              "      <td>1</td>\n",
              "    </tr>\n",
              "    <tr>\n",
              "      <th>4</th>\n",
              "      <td>1</td>\n",
              "    </tr>\n",
              "    <tr>\n",
              "      <th>...</th>\n",
              "      <td>...</td>\n",
              "    </tr>\n",
              "    <tr>\n",
              "      <th>9995</th>\n",
              "      <td>0</td>\n",
              "    </tr>\n",
              "    <tr>\n",
              "      <th>9996</th>\n",
              "      <td>0</td>\n",
              "    </tr>\n",
              "    <tr>\n",
              "      <th>9997</th>\n",
              "      <td>1</td>\n",
              "    </tr>\n",
              "    <tr>\n",
              "      <th>9998</th>\n",
              "      <td>1</td>\n",
              "    </tr>\n",
              "    <tr>\n",
              "      <th>9999</th>\n",
              "      <td>0</td>\n",
              "    </tr>\n",
              "  </tbody>\n",
              "</table>\n",
              "<p>10000 rows × 1 columns</p>\n",
              "</div>"
            ],
            "text/plain": [
              "      answers\n",
              "id           \n",
              "0           0\n",
              "1           0\n",
              "2           1\n",
              "3           1\n",
              "4           1\n",
              "...       ...\n",
              "9995        0\n",
              "9996        0\n",
              "9997        1\n",
              "9998        1\n",
              "9999        0\n",
              "\n",
              "[10000 rows x 1 columns]"
            ]
          },
          "metadata": {
            "tags": []
          },
          "execution_count": 9
        }
      ]
    },
    {
      "cell_type": "markdown",
      "metadata": {
        "id": "nwGlJmYoMUvf",
        "colab_type": "text"
      },
      "source": [
        "##Dataframe \n",
        "The final dataframe/Training set "
      ]
    },
    {
      "cell_type": "code",
      "metadata": {
        "id": "HEQBqc_x_gBv",
        "colab_type": "code",
        "outputId": "827dea47-e5bc-404b-8a8d-5fc02d3c0549",
        "colab": {
          "base_uri": "https://localhost:8080/",
          "height": 450
        }
      },
      "source": [
        "df = df1.merge(df2 , on='id')\n",
        "df\n",
        "#df.shape"
      ],
      "execution_count": 10,
      "outputs": [
        {
          "output_type": "execute_result",
          "data": {
            "text/html": [
              "<div>\n",
              "<style scoped>\n",
              "    .dataframe tbody tr th:only-of-type {\n",
              "        vertical-align: middle;\n",
              "    }\n",
              "\n",
              "    .dataframe tbody tr th {\n",
              "        vertical-align: top;\n",
              "    }\n",
              "\n",
              "    .dataframe thead th {\n",
              "        text-align: right;\n",
              "    }\n",
              "</style>\n",
              "<table border=\"1\" class=\"dataframe\">\n",
              "  <thead>\n",
              "    <tr style=\"text-align: right;\">\n",
              "      <th></th>\n",
              "      <th>sent0</th>\n",
              "      <th>sent1</th>\n",
              "      <th>answers</th>\n",
              "    </tr>\n",
              "    <tr>\n",
              "      <th>id</th>\n",
              "      <th></th>\n",
              "      <th></th>\n",
              "      <th></th>\n",
              "    </tr>\n",
              "  </thead>\n",
              "  <tbody>\n",
              "    <tr>\n",
              "      <th>0</th>\n",
              "      <td>He poured orange juice on his cereal.</td>\n",
              "      <td>He poured milk on his cereal.</td>\n",
              "      <td>0</td>\n",
              "    </tr>\n",
              "    <tr>\n",
              "      <th>1</th>\n",
              "      <td>He drinks apple.</td>\n",
              "      <td>He drinks milk.</td>\n",
              "      <td>0</td>\n",
              "    </tr>\n",
              "    <tr>\n",
              "      <th>2</th>\n",
              "      <td>Jeff ran a mile today</td>\n",
              "      <td>Jeff ran 100,000 miles today</td>\n",
              "      <td>1</td>\n",
              "    </tr>\n",
              "    <tr>\n",
              "      <th>3</th>\n",
              "      <td>A mosquito stings me</td>\n",
              "      <td>I sting a mosquito</td>\n",
              "      <td>1</td>\n",
              "    </tr>\n",
              "    <tr>\n",
              "      <th>4</th>\n",
              "      <td>A niece is a person.</td>\n",
              "      <td>A giraffe is a person.</td>\n",
              "      <td>1</td>\n",
              "    </tr>\n",
              "    <tr>\n",
              "      <th>...</th>\n",
              "      <td>...</td>\n",
              "      <td>...</td>\n",
              "      <td>...</td>\n",
              "    </tr>\n",
              "    <tr>\n",
              "      <th>9995</th>\n",
              "      <td>Mark ate a big bitter cherry pie</td>\n",
              "      <td>Mark ate a big sweet cherry pie</td>\n",
              "      <td>0</td>\n",
              "    </tr>\n",
              "    <tr>\n",
              "      <th>9996</th>\n",
              "      <td>Gloria wears a cat on her head</td>\n",
              "      <td>Gloria wears a hat on her head</td>\n",
              "      <td>0</td>\n",
              "    </tr>\n",
              "    <tr>\n",
              "      <th>9997</th>\n",
              "      <td>Harry went to the barbershop to have his hair cut</td>\n",
              "      <td>Harry went to the barbershop to have his glass...</td>\n",
              "      <td>1</td>\n",
              "    </tr>\n",
              "    <tr>\n",
              "      <th>9998</th>\n",
              "      <td>Reilly is sleeping on the couch</td>\n",
              "      <td>Reilly is sleeping on the window</td>\n",
              "      <td>1</td>\n",
              "    </tr>\n",
              "    <tr>\n",
              "      <th>9999</th>\n",
              "      <td>I have a desk on my lamp</td>\n",
              "      <td>I have a lamp on my desk</td>\n",
              "      <td>0</td>\n",
              "    </tr>\n",
              "  </tbody>\n",
              "</table>\n",
              "<p>10000 rows × 3 columns</p>\n",
              "</div>"
            ],
            "text/plain": [
              "                                                  sent0  ... answers\n",
              "id                                                       ...        \n",
              "0                 He poured orange juice on his cereal.  ...       0\n",
              "1                                      He drinks apple.  ...       0\n",
              "2                                 Jeff ran a mile today  ...       1\n",
              "3                                  A mosquito stings me  ...       1\n",
              "4                                  A niece is a person.  ...       1\n",
              "...                                                 ...  ...     ...\n",
              "9995                   Mark ate a big bitter cherry pie  ...       0\n",
              "9996                     Gloria wears a cat on her head  ...       0\n",
              "9997  Harry went to the barbershop to have his hair cut  ...       1\n",
              "9998                    Reilly is sleeping on the couch  ...       1\n",
              "9999                           I have a desk on my lamp  ...       0\n",
              "\n",
              "[10000 rows x 3 columns]"
            ]
          },
          "metadata": {
            "tags": []
          },
          "execution_count": 10
        }
      ]
    },
    {
      "cell_type": "markdown",
      "metadata": {
        "id": "rZ-cjkah56zs",
        "colab_type": "text"
      },
      "source": [
        "##If you want to use from_csv"
      ]
    },
    {
      "cell_type": "code",
      "metadata": {
        "id": "GKsAVF04N7U1",
        "colab_type": "code",
        "colab": {}
      },
      "source": [
        "#Writing a pandas DataFrame to CSV file\n",
        "# df.to_csv(\"training_all.csv\")"
      ],
      "execution_count": 0,
      "outputs": []
    },
    {
      "cell_type": "code",
      "metadata": {
        "id": "XcVvBms65h9E",
        "colab_type": "code",
        "colab": {}
      },
      "source": [
        "# df[0:8000]"
      ],
      "execution_count": 0,
      "outputs": []
    },
    {
      "cell_type": "markdown",
      "metadata": {
        "id": "K-yIbE_lG-gU",
        "colab_type": "text"
      },
      "source": [
        "#Seperate training set & test set & validation set\n",
        "\n",
        "8000 sampels for training data\n",
        "\n",
        "1000 sampels for validation data\n",
        "\n",
        "1000 samples for test data"
      ]
    },
    {
      "cell_type": "code",
      "metadata": {
        "id": "MWvoGdDNG88n",
        "colab_type": "code",
        "outputId": "3e7c575c-0fa1-476a-a29d-77dc187e5f58",
        "colab": {
          "base_uri": "https://localhost:8080/",
          "height": 450
        }
      },
      "source": [
        "df_training = df[0:8000]\n",
        "df_valid = df[8000:9000]\n",
        "df_test = df[9000:10000]\n",
        "df_test = df_test.drop( 'answers' , axis = 1)\n",
        "df_training"
      ],
      "execution_count": 13,
      "outputs": [
        {
          "output_type": "execute_result",
          "data": {
            "text/html": [
              "<div>\n",
              "<style scoped>\n",
              "    .dataframe tbody tr th:only-of-type {\n",
              "        vertical-align: middle;\n",
              "    }\n",
              "\n",
              "    .dataframe tbody tr th {\n",
              "        vertical-align: top;\n",
              "    }\n",
              "\n",
              "    .dataframe thead th {\n",
              "        text-align: right;\n",
              "    }\n",
              "</style>\n",
              "<table border=\"1\" class=\"dataframe\">\n",
              "  <thead>\n",
              "    <tr style=\"text-align: right;\">\n",
              "      <th></th>\n",
              "      <th>sent0</th>\n",
              "      <th>sent1</th>\n",
              "      <th>answers</th>\n",
              "    </tr>\n",
              "    <tr>\n",
              "      <th>id</th>\n",
              "      <th></th>\n",
              "      <th></th>\n",
              "      <th></th>\n",
              "    </tr>\n",
              "  </thead>\n",
              "  <tbody>\n",
              "    <tr>\n",
              "      <th>0</th>\n",
              "      <td>He poured orange juice on his cereal.</td>\n",
              "      <td>He poured milk on his cereal.</td>\n",
              "      <td>0</td>\n",
              "    </tr>\n",
              "    <tr>\n",
              "      <th>1</th>\n",
              "      <td>He drinks apple.</td>\n",
              "      <td>He drinks milk.</td>\n",
              "      <td>0</td>\n",
              "    </tr>\n",
              "    <tr>\n",
              "      <th>2</th>\n",
              "      <td>Jeff ran a mile today</td>\n",
              "      <td>Jeff ran 100,000 miles today</td>\n",
              "      <td>1</td>\n",
              "    </tr>\n",
              "    <tr>\n",
              "      <th>3</th>\n",
              "      <td>A mosquito stings me</td>\n",
              "      <td>I sting a mosquito</td>\n",
              "      <td>1</td>\n",
              "    </tr>\n",
              "    <tr>\n",
              "      <th>4</th>\n",
              "      <td>A niece is a person.</td>\n",
              "      <td>A giraffe is a person.</td>\n",
              "      <td>1</td>\n",
              "    </tr>\n",
              "    <tr>\n",
              "      <th>...</th>\n",
              "      <td>...</td>\n",
              "      <td>...</td>\n",
              "      <td>...</td>\n",
              "    </tr>\n",
              "    <tr>\n",
              "      <th>7995</th>\n",
              "      <td>you can use the pitcher to drink water</td>\n",
              "      <td>you can use the pitcher to climb the mountain</td>\n",
              "      <td>1</td>\n",
              "    </tr>\n",
              "    <tr>\n",
              "      <th>7996</th>\n",
              "      <td>I put my books in a shoebox</td>\n",
              "      <td>I put my books in a bookcase</td>\n",
              "      <td>0</td>\n",
              "    </tr>\n",
              "    <tr>\n",
              "      <th>7997</th>\n",
              "      <td>a kitchen is a place to cook</td>\n",
              "      <td>a kitchen is a place to rest</td>\n",
              "      <td>1</td>\n",
              "    </tr>\n",
              "    <tr>\n",
              "      <th>7998</th>\n",
              "      <td>refrigerators can heat drinks</td>\n",
              "      <td>refrigerators can freeze drinks</td>\n",
              "      <td>0</td>\n",
              "    </tr>\n",
              "    <tr>\n",
              "      <th>7999</th>\n",
              "      <td>flowers will fall someday</td>\n",
              "      <td>flowers will always be blooming</td>\n",
              "      <td>1</td>\n",
              "    </tr>\n",
              "  </tbody>\n",
              "</table>\n",
              "<p>8000 rows × 3 columns</p>\n",
              "</div>"
            ],
            "text/plain": [
              "                                       sent0  ... answers\n",
              "id                                            ...        \n",
              "0      He poured orange juice on his cereal.  ...       0\n",
              "1                           He drinks apple.  ...       0\n",
              "2                      Jeff ran a mile today  ...       1\n",
              "3                       A mosquito stings me  ...       1\n",
              "4                       A niece is a person.  ...       1\n",
              "...                                      ...  ...     ...\n",
              "7995  you can use the pitcher to drink water  ...       1\n",
              "7996             I put my books in a shoebox  ...       0\n",
              "7997            a kitchen is a place to cook  ...       1\n",
              "7998           refrigerators can heat drinks  ...       0\n",
              "7999               flowers will fall someday  ...       1\n",
              "\n",
              "[8000 rows x 3 columns]"
            ]
          },
          "metadata": {
            "tags": []
          },
          "execution_count": 13
        }
      ]
    },
    {
      "cell_type": "code",
      "metadata": {
        "id": "S4hFVBn71My_",
        "colab_type": "code",
        "outputId": "78f86e7d-5ad2-4e17-c7e6-87b787d79c04",
        "colab": {
          "base_uri": "https://localhost:8080/",
          "height": 450
        }
      },
      "source": [
        "df_valid"
      ],
      "execution_count": 14,
      "outputs": [
        {
          "output_type": "execute_result",
          "data": {
            "text/html": [
              "<div>\n",
              "<style scoped>\n",
              "    .dataframe tbody tr th:only-of-type {\n",
              "        vertical-align: middle;\n",
              "    }\n",
              "\n",
              "    .dataframe tbody tr th {\n",
              "        vertical-align: top;\n",
              "    }\n",
              "\n",
              "    .dataframe thead th {\n",
              "        text-align: right;\n",
              "    }\n",
              "</style>\n",
              "<table border=\"1\" class=\"dataframe\">\n",
              "  <thead>\n",
              "    <tr style=\"text-align: right;\">\n",
              "      <th></th>\n",
              "      <th>sent0</th>\n",
              "      <th>sent1</th>\n",
              "      <th>answers</th>\n",
              "    </tr>\n",
              "    <tr>\n",
              "      <th>id</th>\n",
              "      <th></th>\n",
              "      <th></th>\n",
              "      <th></th>\n",
              "    </tr>\n",
              "  </thead>\n",
              "  <tbody>\n",
              "    <tr>\n",
              "      <th>8000</th>\n",
              "      <td>New York is the capital city of Illinois</td>\n",
              "      <td>Chicago is the capital city of Illinois</td>\n",
              "      <td>0</td>\n",
              "    </tr>\n",
              "    <tr>\n",
              "      <th>8001</th>\n",
              "      <td>The poor countries are more livable than in ri...</td>\n",
              "      <td>The rich countries are more livable than poor ...</td>\n",
              "      <td>0</td>\n",
              "    </tr>\n",
              "    <tr>\n",
              "      <th>8002</th>\n",
              "      <td>Staying up late is harmful to our health.</td>\n",
              "      <td>Staying up late is helpful for our health.</td>\n",
              "      <td>1</td>\n",
              "    </tr>\n",
              "    <tr>\n",
              "      <th>8003</th>\n",
              "      <td>Studying hardly is useless.</td>\n",
              "      <td>Studying hardly is useful.</td>\n",
              "      <td>0</td>\n",
              "    </tr>\n",
              "    <tr>\n",
              "      <th>8004</th>\n",
              "      <td>a little baby can't feed itself</td>\n",
              "      <td>a little baby can feed itself</td>\n",
              "      <td>1</td>\n",
              "    </tr>\n",
              "    <tr>\n",
              "      <th>...</th>\n",
              "      <td>...</td>\n",
              "      <td>...</td>\n",
              "      <td>...</td>\n",
              "    </tr>\n",
              "    <tr>\n",
              "      <th>8995</th>\n",
              "      <td>she put her earrings back to the seasoning box</td>\n",
              "      <td>she put her earrings back to the jewelry box</td>\n",
              "      <td>0</td>\n",
              "    </tr>\n",
              "    <tr>\n",
              "      <th>8996</th>\n",
              "      <td>a short lunch break from work makes me eat qui...</td>\n",
              "      <td>a short lunch break from work makes me eat slowly</td>\n",
              "      <td>1</td>\n",
              "    </tr>\n",
              "    <tr>\n",
              "      <th>8997</th>\n",
              "      <td>every time I got a reply when he received my l...</td>\n",
              "      <td>every time I wrote a reply when he received my...</td>\n",
              "      <td>1</td>\n",
              "    </tr>\n",
              "    <tr>\n",
              "      <th>8998</th>\n",
              "      <td>they were not satisfied with each other and go...</td>\n",
              "      <td>they were not satisfied with each other and go...</td>\n",
              "      <td>0</td>\n",
              "    </tr>\n",
              "    <tr>\n",
              "      <th>8999</th>\n",
              "      <td>the waiter gave him a menu to order food</td>\n",
              "      <td>the waiter gave him a bill to order food</td>\n",
              "      <td>1</td>\n",
              "    </tr>\n",
              "  </tbody>\n",
              "</table>\n",
              "<p>1000 rows × 3 columns</p>\n",
              "</div>"
            ],
            "text/plain": [
              "                                                  sent0  ... answers\n",
              "id                                                       ...        \n",
              "8000           New York is the capital city of Illinois  ...       0\n",
              "8001  The poor countries are more livable than in ri...  ...       0\n",
              "8002          Staying up late is harmful to our health.  ...       1\n",
              "8003                        Studying hardly is useless.  ...       0\n",
              "8004                    a little baby can't feed itself  ...       1\n",
              "...                                                 ...  ...     ...\n",
              "8995     she put her earrings back to the seasoning box  ...       0\n",
              "8996  a short lunch break from work makes me eat qui...  ...       1\n",
              "8997  every time I got a reply when he received my l...  ...       1\n",
              "8998  they were not satisfied with each other and go...  ...       0\n",
              "8999           the waiter gave him a menu to order food  ...       1\n",
              "\n",
              "[1000 rows x 3 columns]"
            ]
          },
          "metadata": {
            "tags": []
          },
          "execution_count": 14
        }
      ]
    },
    {
      "cell_type": "code",
      "metadata": {
        "id": "iuw2JRY-7JII",
        "colab_type": "code",
        "outputId": "13b17e6d-fb3a-4c15-f3f5-f63a24259f73",
        "colab": {
          "base_uri": "https://localhost:8080/",
          "height": 450
        }
      },
      "source": [
        "df_test"
      ],
      "execution_count": 15,
      "outputs": [
        {
          "output_type": "execute_result",
          "data": {
            "text/html": [
              "<div>\n",
              "<style scoped>\n",
              "    .dataframe tbody tr th:only-of-type {\n",
              "        vertical-align: middle;\n",
              "    }\n",
              "\n",
              "    .dataframe tbody tr th {\n",
              "        vertical-align: top;\n",
              "    }\n",
              "\n",
              "    .dataframe thead th {\n",
              "        text-align: right;\n",
              "    }\n",
              "</style>\n",
              "<table border=\"1\" class=\"dataframe\">\n",
              "  <thead>\n",
              "    <tr style=\"text-align: right;\">\n",
              "      <th></th>\n",
              "      <th>sent0</th>\n",
              "      <th>sent1</th>\n",
              "    </tr>\n",
              "    <tr>\n",
              "      <th>id</th>\n",
              "      <th></th>\n",
              "      <th></th>\n",
              "    </tr>\n",
              "  </thead>\n",
              "  <tbody>\n",
              "    <tr>\n",
              "      <th>9000</th>\n",
              "      <td>he lit a torch to see in the daytime</td>\n",
              "      <td>he lit a torch to see in the nighttime</td>\n",
              "    </tr>\n",
              "    <tr>\n",
              "      <th>9001</th>\n",
              "      <td>I put all my stuff in the drawer to travel</td>\n",
              "      <td>I put all my stuff in the luggage to travel</td>\n",
              "    </tr>\n",
              "    <tr>\n",
              "      <th>9002</th>\n",
              "      <td>he used a blow dryer before he washed his hair</td>\n",
              "      <td>he used a blow dryer after he washed his hair</td>\n",
              "    </tr>\n",
              "    <tr>\n",
              "      <th>9003</th>\n",
              "      <td>he used chopsticks to eat soup</td>\n",
              "      <td>he used spoons to eat soup</td>\n",
              "    </tr>\n",
              "    <tr>\n",
              "      <th>9004</th>\n",
              "      <td>DVD can be used to store information</td>\n",
              "      <td>DVD can be used to search for information</td>\n",
              "    </tr>\n",
              "    <tr>\n",
              "      <th>...</th>\n",
              "      <td>...</td>\n",
              "      <td>...</td>\n",
              "    </tr>\n",
              "    <tr>\n",
              "      <th>9995</th>\n",
              "      <td>Mark ate a big bitter cherry pie</td>\n",
              "      <td>Mark ate a big sweet cherry pie</td>\n",
              "    </tr>\n",
              "    <tr>\n",
              "      <th>9996</th>\n",
              "      <td>Gloria wears a cat on her head</td>\n",
              "      <td>Gloria wears a hat on her head</td>\n",
              "    </tr>\n",
              "    <tr>\n",
              "      <th>9997</th>\n",
              "      <td>Harry went to the barbershop to have his hair cut</td>\n",
              "      <td>Harry went to the barbershop to have his glass...</td>\n",
              "    </tr>\n",
              "    <tr>\n",
              "      <th>9998</th>\n",
              "      <td>Reilly is sleeping on the couch</td>\n",
              "      <td>Reilly is sleeping on the window</td>\n",
              "    </tr>\n",
              "    <tr>\n",
              "      <th>9999</th>\n",
              "      <td>I have a desk on my lamp</td>\n",
              "      <td>I have a lamp on my desk</td>\n",
              "    </tr>\n",
              "  </tbody>\n",
              "</table>\n",
              "<p>1000 rows × 2 columns</p>\n",
              "</div>"
            ],
            "text/plain": [
              "                                                  sent0                                              sent1\n",
              "id                                                                                                        \n",
              "9000               he lit a torch to see in the daytime             he lit a torch to see in the nighttime\n",
              "9001         I put all my stuff in the drawer to travel        I put all my stuff in the luggage to travel\n",
              "9002     he used a blow dryer before he washed his hair      he used a blow dryer after he washed his hair\n",
              "9003                     he used chopsticks to eat soup                         he used spoons to eat soup\n",
              "9004               DVD can be used to store information          DVD can be used to search for information\n",
              "...                                                 ...                                                ...\n",
              "9995                   Mark ate a big bitter cherry pie                    Mark ate a big sweet cherry pie\n",
              "9996                     Gloria wears a cat on her head                     Gloria wears a hat on her head\n",
              "9997  Harry went to the barbershop to have his hair cut  Harry went to the barbershop to have his glass...\n",
              "9998                    Reilly is sleeping on the couch                   Reilly is sleeping on the window\n",
              "9999                           I have a desk on my lamp                           I have a lamp on my desk\n",
              "\n",
              "[1000 rows x 2 columns]"
            ]
          },
          "metadata": {
            "tags": []
          },
          "execution_count": 15
        }
      ]
    },
    {
      "cell_type": "markdown",
      "metadata": {
        "id": "kD4MZqNn9pbZ",
        "colab_type": "text"
      },
      "source": [
        "##If you want to use from_csv"
      ]
    },
    {
      "cell_type": "code",
      "metadata": {
        "id": "n4geePbmPktE",
        "colab_type": "code",
        "colab": {}
      },
      "source": [
        "df_training.to_csv(\"training-19000.csv\")\n",
        "df_test.to_csv(\"test-1000.csv\")"
      ],
      "execution_count": 0,
      "outputs": []
    },
    {
      "cell_type": "markdown",
      "metadata": {
        "id": "Qf_iXbnAODLp",
        "colab_type": "text"
      },
      "source": [
        "#Tokenizing- ClsDataBunch\n",
        "\n",
        "Sentences are seperated by a special tokens (mark_fields = true parameter)"
      ]
    },
    {
      "cell_type": "code",
      "metadata": {
        "id": "RCkD4SGpvRRF",
        "colab_type": "code",
        "colab": {}
      },
      "source": [
        "data = TextClasDataBunch.from_df('/content', train_df= df_training, valid_df= df_valid, test_df= df_test  , text_cols= [0 , 1], label_cols =[2], mark_fields= True, bs=16)"
      ],
      "execution_count": 0,
      "outputs": []
    },
    {
      "cell_type": "code",
      "metadata": {
        "id": "ZofvRU39wo9H",
        "colab_type": "code",
        "outputId": "ba74d612-4318-45e5-c0fd-a0186b188430",
        "colab": {
          "base_uri": "https://localhost:8080/",
          "height": 289
        }
      },
      "source": [
        "data.show_batch()\n"
      ],
      "execution_count": 0,
      "outputs": [
        {
          "output_type": "display_data",
          "data": {
            "text/html": [
              "<table border=\"1\" class=\"dataframe\">\n",
              "  <thead>\n",
              "    <tr style=\"text-align: right;\">\n",
              "      <th>text</th>\n",
              "      <th>target</th>\n",
              "    </tr>\n",
              "  </thead>\n",
              "  <tbody>\n",
              "    <tr>\n",
              "      <td>xxbos xxfld 1 xxmaj christopher xxmaj columbus sailed to xxmaj north xxmaj america with three ships : the xxmaj toyota , the xxmaj xxunk , and the xxmaj xxunk . xxfld 2 xxmaj christopher xxmaj columbus sailed to xxmaj north xxmaj america with three ships : the xxmaj santa xxmaj maria , the xxmaj xxunk , and the xxmaj xxunk .</td>\n",
              "      <td>0</td>\n",
              "    </tr>\n",
              "    <tr>\n",
              "      <td>xxbos xxfld 1 xxup birds xxup fly xxup in xxup the xxup sky xxup and xxup come xxup to xxup rest xxup on xxup tree xxup branches . xxfld 2 xxup flowers xxup fly xxup in xxup the xxup sky xxup and xxup come xxup to xxup rest xxup on xxup tree xxup branches .</td>\n",
              "      <td>1</td>\n",
              "    </tr>\n",
              "    <tr>\n",
              "      <td>xxbos xxfld 1 xxup he xxup put xxup his xxup feet xxup in xxup the xxup oven , xxup on xxunk xxup degrees . xxfld 2 xxup he xxup put a xxup pie xxup in xxup the xxup oven , xxup on 360 xxup degrees .</td>\n",
              "      <td>0</td>\n",
              "    </tr>\n",
              "    <tr>\n",
              "      <td>xxbos xxfld 1 xxmaj bottle is a glass or plastic container with a narrow neck , used for storing drinks or other liquids xxfld 2 xxmaj paper is a glass or plastic container with a narrow neck , used for storing drinks or other liquids</td>\n",
              "      <td>1</td>\n",
              "    </tr>\n",
              "    <tr>\n",
              "      <td>xxbos xxfld 1 xxmaj if you enjoyed college as an adult , you might want to attend school as a child . xxfld 2 xxmaj if you enjoyed school as a child , you might want to attend college as an adult .</td>\n",
              "      <td>0</td>\n",
              "    </tr>\n",
              "  </tbody>\n",
              "</table>"
            ],
            "text/plain": [
              "<IPython.core.display.HTML object>"
            ]
          },
          "metadata": {
            "tags": []
          }
        }
      ]
    },
    {
      "cell_type": "code",
      "metadata": {
        "id": "tms2BuEoNxcp",
        "colab_type": "code",
        "outputId": "680bde9a-c128-4b72-ae52-3420f7a81063",
        "colab": {
          "base_uri": "https://localhost:8080/",
          "height": 411
        }
      },
      "source": [
        "data,  data.classes"
      ],
      "execution_count": 17,
      "outputs": [
        {
          "output_type": "execute_result",
          "data": {
            "text/plain": [
              "(TextClasDataBunch;\n",
              " \n",
              " Train: LabelList (8000 items)\n",
              " x: TextList\n",
              " xxbos xxfld 1 xxmaj he poured orange juice on his cereal . xxfld 2 xxmaj he poured milk on his cereal .,xxbos xxfld 1 xxmaj he drinks apple . xxfld 2 xxmaj he drinks milk .,xxbos xxfld 1 xxmaj jeff ran a mile today xxfld 2 xxmaj jeff ran xxunk miles today,xxbos xxfld 1 a mosquito xxunk me xxfld 2 i xxunk a mosquito,xxbos xxfld 1 a niece is a person . xxfld 2 a giraffe is a person .\n",
              " y: CategoryList\n",
              " 0,0,1,1,1\n",
              " Path: /content;\n",
              " \n",
              " Valid: LabelList (1000 items)\n",
              " x: TextList\n",
              " xxbos xxfld 1 xxmaj new xxmaj york is the capital city of xxmaj xxunk xxfld 2 xxmaj chicago is the capital city of xxmaj xxunk,xxbos xxfld 1 xxmaj the poor countries are more xxunk than in rich countries . xxfld 2 xxmaj the rich countries are more xxunk than poor countries .,xxbos xxfld 1 xxmaj staying up late is harmful to our health . xxfld 2 xxmaj staying up late is helpful for our health .,xxbos xxfld 1 xxmaj studying xxunk is useless . xxfld 2 xxmaj studying xxunk is useful .,xxbos xxfld 1 a little baby ca n't feed itself xxfld 2 a little baby can feed itself\n",
              " y: CategoryList\n",
              " 0,0,1,0,1\n",
              " Path: /content;\n",
              " \n",
              " Test: LabelList (1000 items)\n",
              " x: TextList\n",
              " xxbos xxfld 1 he lit a torch to see in the xxunk xxfld 2 he lit a torch to see in the xxunk,xxbos xxfld 1 i put all my xxunk in the drawer to travel xxfld 2 i put all my xxunk in the luggage to travel,xxbos xxfld 1 he used a blow dryer before he washed his hair xxfld 2 he used a blow dryer after he washed his hair,xxbos xxfld 1 he used chopsticks to eat soup xxfld 2 he used spoons to eat soup,xxbos xxfld 1 xxup xxunk can be used to store information xxfld 2 xxup xxunk can be used to search for information\n",
              " y: EmptyLabelList\n",
              " ,,,,\n",
              " Path: /content, [0, 1])"
            ]
          },
          "metadata": {
            "tags": []
          },
          "execution_count": 17
        }
      ]
    },
    {
      "cell_type": "code",
      "metadata": {
        "id": "SnYEf5t2uRYU",
        "colab_type": "code",
        "colab": {}
      },
      "source": [
        "#data.vocab.itos[:50]\n",
        "#data.vocab.stoi\n",
        "#len(data.vocab.itos)\n",
        "#t1 = data.train_ds[500][0] \n",
        "#t1\n",
        "#t2 = data.train_ds[500][1]\n",
        "#t2"
      ],
      "execution_count": 0,
      "outputs": []
    },
    {
      "cell_type": "markdown",
      "metadata": {
        "id": "U98vSqgGC4e1",
        "colab_type": "text"
      },
      "source": [
        "#Classifier"
      ]
    },
    {
      "cell_type": "code",
      "metadata": {
        "id": "aaay1NL0CaWy",
        "colab_type": "code",
        "colab": {}
      },
      "source": [
        "learn_classifier = text_classifier_learner(data , AWD_LSTM, drop_mult=0)"
      ],
      "execution_count": 0,
      "outputs": []
    },
    {
      "cell_type": "code",
      "metadata": {
        "id": "qgnL2BsqC5Ww",
        "colab_type": "code",
        "outputId": "216a4b67-8f64-41a9-d8ec-24e65ac1aa18",
        "colab": {
          "base_uri": "https://localhost:8080/",
          "height": 34
        }
      },
      "source": [
        "learn_classifier.lr_find()"
      ],
      "execution_count": 19,
      "outputs": [
        {
          "output_type": "display_data",
          "data": {
            "text/html": [
              ""
            ],
            "text/plain": [
              "<IPython.core.display.HTML object>"
            ]
          },
          "metadata": {
            "tags": []
          }
        },
        {
          "output_type": "stream",
          "text": [
            "LR Finder is complete, type {learner_name}.recorder.plot() to see the graph.\n"
          ],
          "name": "stdout"
        }
      ]
    },
    {
      "cell_type": "code",
      "metadata": {
        "id": "IxNRh7-tDKDd",
        "colab_type": "code",
        "outputId": "27ed718f-dbc8-400e-9de3-01ec68f4a16c",
        "colab": {
          "base_uri": "https://localhost:8080/",
          "height": 280
        }
      },
      "source": [
        "learn_classifier.recorder.plot()"
      ],
      "execution_count": 20,
      "outputs": [
        {
          "output_type": "display_data",
          "data": {
            "image/png": "[encoded data removed]",
            "text/plain": [
              "<Figure size 432x288 with 1 Axes>"
            ]
          },
          "metadata": {
            "tags": []
          }
        }
      ]
    },
    {
      "cell_type": "markdown",
      "metadata": {
        "id": "SSS_5bNdC_RD",
        "colab_type": "text"
      },
      "source": [
        "##Training"
      ]
    },
    {
      "cell_type": "code",
      "metadata": {
        "id": "ay8kJ5F8FRqu",
        "colab_type": "code",
        "outputId": "ff907458-00d5-413f-c522-c596276729b7",
        "colab": {
          "base_uri": "https://localhost:8080/",
          "height": 111
        }
      },
      "source": [
        "learn_classifier.fit_one_cycle(2, 1e-04, moms=(0.8,0.7))"
      ],
      "execution_count": 21,
      "outputs": [
        {
          "output_type": "display_data",
          "data": {
            "text/html": [
              "<table border=\"1\" class=\"dataframe\">\n",
              "  <thead>\n",
              "    <tr style=\"text-align: left;\">\n",
              "      <th>epoch</th>\n",
              "      <th>train_loss</th>\n",
              "      <th>valid_loss</th>\n",
              "      <th>accuracy</th>\n",
              "      <th>time</th>\n",
              "    </tr>\n",
              "  </thead>\n",
              "  <tbody>\n",
              "    <tr>\n",
              "      <td>0</td>\n",
              "      <td>0.719002</td>\n",
              "      <td>0.747314</td>\n",
              "      <td>0.511000</td>\n",
              "      <td>00:20</td>\n",
              "    </tr>\n",
              "    <tr>\n",
              "      <td>1</td>\n",
              "      <td>0.701705</td>\n",
              "      <td>0.733610</td>\n",
              "      <td>0.495000</td>\n",
              "      <td>00:20</td>\n",
              "    </tr>\n",
              "  </tbody>\n",
              "</table>"
            ],
            "text/plain": [
              "<IPython.core.display.HTML object>"
            ]
          },
          "metadata": {
            "tags": []
          }
        }
      ]
    },
    {
      "cell_type": "code",
      "metadata": {
        "id": "tnX10CFOOOlu",
        "colab_type": "code",
        "colab": {}
      },
      "source": [
        "learn_classifier.save(\"First\")\n",
        "learn_classifier.load('First');"
      ],
      "execution_count": 0,
      "outputs": []
    },
    {
      "cell_type": "code",
      "metadata": {
        "id": "yJkwYAuGr-sl",
        "colab_type": "code",
        "outputId": "f3f1ccae-85f1-4837-d53f-a7816c355bd6",
        "colab": {
          "base_uri": "https://localhost:8080/",
          "height": 279
        }
      },
      "source": [
        "learn_classifier.recorder.plot_losses()"
      ],
      "execution_count": 26,
      "outputs": [
        {
          "output_type": "display_data",
          "data": {
            "image/png": "[encoded data removed]",
            "text/plain": [
              "<Figure size 432x288 with 1 Axes>"
            ]
          },
          "metadata": {
            "tags": []
          }
        }
      ]
    },
    {
      "cell_type": "code",
      "metadata": {
        "id": "V6F-GSckO6TH",
        "colab_type": "code",
        "outputId": "a371e242-207b-402e-ccea-af32b63b595c",
        "colab": {
          "base_uri": "https://localhost:8080/",
          "height": 646
        }
      },
      "source": [
        "learn_classifier.model"
      ],
      "execution_count": 27,
      "outputs": [
        {
          "output_type": "execute_result",
          "data": {
            "text/plain": [
              "SequentialRNN(\n",
              "  (0): MultiBatchEncoder(\n",
              "    (module): AWD_LSTM(\n",
              "      (encoder): Embedding(5536, 400, padding_idx=1)\n",
              "      (encoder_dp): EmbeddingDropout(\n",
              "        (emb): Embedding(5536, 400, padding_idx=1)\n",
              "      )\n",
              "      (rnns): ModuleList(\n",
              "        (0): WeightDropout(\n",
              "          (module): LSTM(400, 1152, batch_first=True)\n",
              "        )\n",
              "        (1): WeightDropout(\n",
              "          (module): LSTM(1152, 1152, batch_first=True)\n",
              "        )\n",
              "        (2): WeightDropout(\n",
              "          (module): LSTM(1152, 400, batch_first=True)\n",
              "        )\n",
              "      )\n",
              "      (input_dp): RNNDropout()\n",
              "      (hidden_dps): ModuleList(\n",
              "        (0): RNNDropout()\n",
              "        (1): RNNDropout()\n",
              "        (2): RNNDropout()\n",
              "      )\n",
              "    )\n",
              "  )\n",
              "  (1): PoolingLinearClassifier(\n",
              "    (layers): Sequential(\n",
              "      (0): BatchNorm1d(1200, eps=1e-05, momentum=0.1, affine=True, track_running_stats=True)\n",
              "      (1): Linear(in_features=1200, out_features=50, bias=True)\n",
              "      (2): ReLU(inplace=True)\n",
              "      (3): BatchNorm1d(50, eps=1e-05, momentum=0.1, affine=True, track_running_stats=True)\n",
              "      (4): Dropout(p=0.1, inplace=False)\n",
              "      (5): Linear(in_features=50, out_features=2, bias=True)\n",
              "    )\n",
              "  )\n",
              ")"
            ]
          },
          "metadata": {
            "tags": []
          },
          "execution_count": 27
        }
      ]
    },
    {
      "cell_type": "code",
      "metadata": {
        "id": "lWCmt7FoO9Ht",
        "colab_type": "code",
        "outputId": "5784d961-0e56-4026-8bfa-85dac3589eb9",
        "colab": {
          "base_uri": "https://localhost:8080/",
          "height": 561
        }
      },
      "source": [
        "learn_classifier.unfreeze()\n",
        "learn_classifier.summary()"
      ],
      "execution_count": 28,
      "outputs": [
        {
          "output_type": "execute_result",
          "data": {
            "text/plain": [
              "SequentialRNN\n",
              "======================================================================\n",
              "Layer (type)         Output Shape         Param #    Trainable \n",
              "======================================================================\n",
              "RNNDropout           [61, 400]            0          False     \n",
              "______________________________________________________________________\n",
              "RNNDropout           [61, 1152]           0          False     \n",
              "______________________________________________________________________\n",
              "RNNDropout           [61, 1152]           0          False     \n",
              "______________________________________________________________________\n",
              "BatchNorm1d          [1200]               2,400      True      \n",
              "______________________________________________________________________\n",
              "Linear               [50]                 60,050     True      \n",
              "______________________________________________________________________\n",
              "ReLU                 [50]                 0          False     \n",
              "______________________________________________________________________\n",
              "BatchNorm1d          [50]                 100        True      \n",
              "______________________________________________________________________\n",
              "Dropout              [50]                 0          False     \n",
              "______________________________________________________________________\n",
              "Linear               [2]                  102        True      \n",
              "______________________________________________________________________\n",
              "\n",
              "Total params: 62,652\n",
              "Total trainable params: 62,652\n",
              "Total non-trainable params: 0\n",
              "Optimized with 'torch.optim.adam.Adam', betas=(0.9, 0.99)\n",
              "Using true weight decay as discussed in https://www.fast.ai/2018/07/02/adam-weight-decay/ \n",
              "Loss function : FlattenedLoss\n",
              "======================================================================\n",
              "Callbacks functions applied \n",
              "    RNNTrainer"
            ]
          },
          "metadata": {
            "tags": []
          },
          "execution_count": 28
        }
      ]
    },
    {
      "cell_type": "code",
      "metadata": {
        "id": "y49DEhUT5EuZ",
        "colab_type": "code",
        "outputId": "bb22a751-2fc9-49a0-da69-e91c542efd33",
        "colab": {
          "base_uri": "https://localhost:8080/",
          "height": 629
        }
      },
      "source": [
        "for index, layer in enumerate(learn_classifier.layer_groups):\n",
        "  print('Layer Group Index: ', index, layer)"
      ],
      "execution_count": 29,
      "outputs": [
        {
          "output_type": "stream",
          "text": [
            "Layer Group Index:  0 Sequential(\n",
            "  (0): Embedding(5536, 400, padding_idx=1)\n",
            "  (1): EmbeddingDropout(\n",
            "    (emb): Embedding(5536, 400, padding_idx=1)\n",
            "  )\n",
            ")\n",
            "Layer Group Index:  1 Sequential(\n",
            "  (0): WeightDropout(\n",
            "    (module): LSTM(400, 1152, batch_first=True)\n",
            "  )\n",
            "  (1): RNNDropout()\n",
            ")\n",
            "Layer Group Index:  2 Sequential(\n",
            "  (0): WeightDropout(\n",
            "    (module): LSTM(1152, 1152, batch_first=True)\n",
            "  )\n",
            "  (1): RNNDropout()\n",
            ")\n",
            "Layer Group Index:  3 Sequential(\n",
            "  (0): WeightDropout(\n",
            "    (module): LSTM(1152, 400, batch_first=True)\n",
            "  )\n",
            "  (1): RNNDropout()\n",
            ")\n",
            "Layer Group Index:  4 Sequential(\n",
            "  (0): PoolingLinearClassifier(\n",
            "    (layers): Sequential(\n",
            "      (0): BatchNorm1d(1200, eps=1e-05, momentum=0.1, affine=True, track_running_stats=True)\n",
            "      (1): Linear(in_features=1200, out_features=50, bias=True)\n",
            "      (2): ReLU(inplace=True)\n",
            "      (3): BatchNorm1d(50, eps=1e-05, momentum=0.1, affine=True, track_running_stats=True)\n",
            "      (4): Dropout(p=0.1, inplace=False)\n",
            "      (5): Linear(in_features=50, out_features=2, bias=True)\n",
            "    )\n",
            "  )\n",
            ")\n"
          ],
          "name": "stdout"
        }
      ]
    },
    {
      "cell_type": "code",
      "metadata": {
        "id": "Biaqi6M36rMr",
        "colab_type": "code",
        "colab": {}
      },
      "source": [
        "def summary_trainable(learner):\n",
        "  result = []\n",
        "  total_params_element = 0\n",
        "  def check_trainable(module):\n",
        "    nonlocal total_params_element\n",
        "    if len(list(module.children())) == 0:\n",
        "      num_param = 0\n",
        "      num_trainable_param = 0\n",
        "      num_param_numel = 0\n",
        "      for parameter in module.parameters():\n",
        "        num_param += 1\n",
        "        if parameter.requires_grad:\n",
        "          num_param_numel += parameter.numel()\n",
        "          total_params_element += parameter.numel()\n",
        "          num_trainable_param += 1\n",
        "\n",
        "      result.append({'module': module, 'num_param': num_param , 'num_trainable_param' : num_trainable_param, 'num_param_numel': num_param_numel})\n",
        "  learner.model.apply(check_trainable)\n",
        "  \n",
        "  print(\"{: <85} {: <17} {:,<20} {: <40}\".format('Module Name', 'Total Parameters', 'Trainable Parameters', '# Elements in Trainable Parametrs'))\n",
        "  for row in result:\n",
        "    print(\"{: <85} {: <17} {: <20} {: <40,}\".format(row['module'].__str__(), row['num_param'], row['num_trainable_param'], row['num_param_numel']))\n",
        "  print('Total number of parameters elements {:,}'.format(total_params_element))"
      ],
      "execution_count": 0,
      "outputs": []
    },
    {
      "cell_type": "code",
      "metadata": {
        "id": "H_f7rsmPN0i_",
        "colab_type": "code",
        "outputId": "489a3e5f-b4c0-47c1-df96-010b32abca69",
        "colab": {
          "base_uri": "https://localhost:8080/",
          "height": 326
        }
      },
      "source": [
        "learn_classifier.freeze()\n",
        "summary_trainable(learn_classifier)"
      ],
      "execution_count": 31,
      "outputs": [
        {
          "output_type": "stream",
          "text": [
            "Module Name                                                                           Total Parameters  Trainable Parameters # Elements in Trainable Parametrs       \n",
            "Embedding(5536, 400, padding_idx=1)                                                   1                 0                    0                                       \n",
            "Embedding(5536, 400, padding_idx=1)                                                   1                 0                    0                                       \n",
            "LSTM(400, 1152, batch_first=True)                                                     4                 0                    0                                       \n",
            "LSTM(1152, 1152, batch_first=True)                                                    4                 0                    0                                       \n",
            "LSTM(1152, 400, batch_first=True)                                                     4                 0                    0                                       \n",
            "RNNDropout()                                                                          0                 0                    0                                       \n",
            "RNNDropout()                                                                          0                 0                    0                                       \n",
            "RNNDropout()                                                                          0                 0                    0                                       \n",
            "RNNDropout()                                                                          0                 0                    0                                       \n",
            "BatchNorm1d(1200, eps=1e-05, momentum=0.1, affine=True, track_running_stats=True)     2                 2                    2,400                                   \n",
            "Linear(in_features=1200, out_features=50, bias=True)                                  2                 2                    60,050                                  \n",
            "ReLU(inplace=True)                                                                    0                 0                    0                                       \n",
            "BatchNorm1d(50, eps=1e-05, momentum=0.1, affine=True, track_running_stats=True)       2                 2                    100                                     \n",
            "Dropout(p=0.1, inplace=False)                                                         0                 0                    0                                       \n",
            "Linear(in_features=50, out_features=2, bias=True)                                     2                 2                    102                                     \n",
            "Total number of parameters elements 62,652\n"
          ],
          "name": "stdout"
        }
      ]
    },
    {
      "cell_type": "code",
      "metadata": {
        "id": "Zg0W_4L268Kt",
        "colab_type": "code",
        "outputId": "d3ce52fe-4634-4026-9c0d-48cee2e53469",
        "colab": {
          "base_uri": "https://localhost:8080/",
          "height": 326
        }
      },
      "source": [
        "learn_classifier.freeze()\n",
        "learn_classifier.freeze_to(-1)\n",
        "summary_trainable(learn_classifier)"
      ],
      "execution_count": 32,
      "outputs": [
        {
          "output_type": "stream",
          "text": [
            "Module Name                                                                           Total Parameters  Trainable Parameters # Elements in Trainable Parametrs       \n",
            "Embedding(5536, 400, padding_idx=1)                                                   1                 0                    0                                       \n",
            "Embedding(5536, 400, padding_idx=1)                                                   1                 0                    0                                       \n",
            "LSTM(400, 1152, batch_first=True)                                                     4                 0                    0                                       \n",
            "LSTM(1152, 1152, batch_first=True)                                                    4                 0                    0                                       \n",
            "LSTM(1152, 400, batch_first=True)                                                     4                 0                    0                                       \n",
            "RNNDropout()                                                                          0                 0                    0                                       \n",
            "RNNDropout()                                                                          0                 0                    0                                       \n",
            "RNNDropout()                                                                          0                 0                    0                                       \n",
            "RNNDropout()                                                                          0                 0                    0                                       \n",
            "BatchNorm1d(1200, eps=1e-05, momentum=0.1, affine=True, track_running_stats=True)     2                 2                    2,400                                   \n",
            "Linear(in_features=1200, out_features=50, bias=True)                                  2                 2                    60,050                                  \n",
            "ReLU(inplace=True)                                                                    0                 0                    0                                       \n",
            "BatchNorm1d(50, eps=1e-05, momentum=0.1, affine=True, track_running_stats=True)       2                 2                    100                                     \n",
            "Dropout(p=0.1, inplace=False)                                                         0                 0                    0                                       \n",
            "Linear(in_features=50, out_features=2, bias=True)                                     2                 2                    102                                     \n",
            "Total number of parameters elements 62,652\n"
          ],
          "name": "stdout"
        }
      ]
    },
    {
      "cell_type": "code",
      "metadata": {
        "id": "bIjqRBBK90u5",
        "colab_type": "code",
        "outputId": "6061499a-3963-45fa-a821-610decc27950",
        "colab": {
          "base_uri": "https://localhost:8080/",
          "height": 326
        }
      },
      "source": [
        "learn_classifier.freeze()\n",
        "learn_classifier.freeze_to(-2)\n",
        "summary_trainable(learn_classifier)"
      ],
      "execution_count": 33,
      "outputs": [
        {
          "output_type": "stream",
          "text": [
            "Module Name                                                                           Total Parameters  Trainable Parameters # Elements in Trainable Parametrs       \n",
            "Embedding(5536, 400, padding_idx=1)                                                   1                 0                    0                                       \n",
            "Embedding(5536, 400, padding_idx=1)                                                   1                 0                    0                                       \n",
            "LSTM(400, 1152, batch_first=True)                                                     4                 0                    0                                       \n",
            "LSTM(1152, 1152, batch_first=True)                                                    4                 0                    0                                       \n",
            "LSTM(1152, 400, batch_first=True)                                                     4                 4                    2,486,400                               \n",
            "RNNDropout()                                                                          0                 0                    0                                       \n",
            "RNNDropout()                                                                          0                 0                    0                                       \n",
            "RNNDropout()                                                                          0                 0                    0                                       \n",
            "RNNDropout()                                                                          0                 0                    0                                       \n",
            "BatchNorm1d(1200, eps=1e-05, momentum=0.1, affine=True, track_running_stats=True)     2                 2                    2,400                                   \n",
            "Linear(in_features=1200, out_features=50, bias=True)                                  2                 2                    60,050                                  \n",
            "ReLU(inplace=True)                                                                    0                 0                    0                                       \n",
            "BatchNorm1d(50, eps=1e-05, momentum=0.1, affine=True, track_running_stats=True)       2                 2                    100                                     \n",
            "Dropout(p=0.1, inplace=False)                                                         0                 0                    0                                       \n",
            "Linear(in_features=50, out_features=2, bias=True)                                     2                 2                    102                                     \n",
            "Total number of parameters elements 2,549,052\n"
          ],
          "name": "stdout"
        }
      ]
    },
    {
      "cell_type": "code",
      "metadata": {
        "id": "D6AE1pK29_vX",
        "colab_type": "code",
        "outputId": "3c40f4e9-2b09-4432-feb5-ea01c2d6c5f3",
        "colab": {
          "base_uri": "https://localhost:8080/",
          "height": 326
        }
      },
      "source": [
        "learn_classifier.freeze()\n",
        "learn_classifier.freeze_to(-3)\n",
        "summary_trainable(learn_classifier)"
      ],
      "execution_count": 34,
      "outputs": [
        {
          "output_type": "stream",
          "text": [
            "Module Name                                                                           Total Parameters  Trainable Parameters # Elements in Trainable Parametrs       \n",
            "Embedding(5536, 400, padding_idx=1)                                                   1                 0                    0                                       \n",
            "Embedding(5536, 400, padding_idx=1)                                                   1                 0                    0                                       \n",
            "LSTM(400, 1152, batch_first=True)                                                     4                 0                    0                                       \n",
            "LSTM(1152, 1152, batch_first=True)                                                    4                 4                    10,626,048                              \n",
            "LSTM(1152, 400, batch_first=True)                                                     4                 4                    2,486,400                               \n",
            "RNNDropout()                                                                          0                 0                    0                                       \n",
            "RNNDropout()                                                                          0                 0                    0                                       \n",
            "RNNDropout()                                                                          0                 0                    0                                       \n",
            "RNNDropout()                                                                          0                 0                    0                                       \n",
            "BatchNorm1d(1200, eps=1e-05, momentum=0.1, affine=True, track_running_stats=True)     2                 2                    2,400                                   \n",
            "Linear(in_features=1200, out_features=50, bias=True)                                  2                 2                    60,050                                  \n",
            "ReLU(inplace=True)                                                                    0                 0                    0                                       \n",
            "BatchNorm1d(50, eps=1e-05, momentum=0.1, affine=True, track_running_stats=True)       2                 2                    100                                     \n",
            "Dropout(p=0.1, inplace=False)                                                         0                 0                    0                                       \n",
            "Linear(in_features=50, out_features=2, bias=True)                                     2                 2                    102                                     \n",
            "Total number of parameters elements 13,175,100\n"
          ],
          "name": "stdout"
        }
      ]
    },
    {
      "cell_type": "code",
      "metadata": {
        "id": "AcpAHqX3N4Uo",
        "colab_type": "code",
        "outputId": "bd70758f-928d-4482-b999-42413d366426",
        "colab": {
          "base_uri": "https://localhost:8080/",
          "height": 326
        }
      },
      "source": [
        "learn_classifier.freeze()\n",
        "learn_classifier.freeze_to(-4)\n",
        "summary_trainable(learn_classifier)"
      ],
      "execution_count": 35,
      "outputs": [
        {
          "output_type": "stream",
          "text": [
            "Module Name                                                                           Total Parameters  Trainable Parameters # Elements in Trainable Parametrs       \n",
            "Embedding(5536, 400, padding_idx=1)                                                   1                 0                    0                                       \n",
            "Embedding(5536, 400, padding_idx=1)                                                   1                 0                    0                                       \n",
            "LSTM(400, 1152, batch_first=True)                                                     4                 4                    7,160,832                               \n",
            "LSTM(1152, 1152, batch_first=True)                                                    4                 4                    10,626,048                              \n",
            "LSTM(1152, 400, batch_first=True)                                                     4                 4                    2,486,400                               \n",
            "RNNDropout()                                                                          0                 0                    0                                       \n",
            "RNNDropout()                                                                          0                 0                    0                                       \n",
            "RNNDropout()                                                                          0                 0                    0                                       \n",
            "RNNDropout()                                                                          0                 0                    0                                       \n",
            "BatchNorm1d(1200, eps=1e-05, momentum=0.1, affine=True, track_running_stats=True)     2                 2                    2,400                                   \n",
            "Linear(in_features=1200, out_features=50, bias=True)                                  2                 2                    60,050                                  \n",
            "ReLU(inplace=True)                                                                    0                 0                    0                                       \n",
            "BatchNorm1d(50, eps=1e-05, momentum=0.1, affine=True, track_running_stats=True)       2                 2                    100                                     \n",
            "Dropout(p=0.1, inplace=False)                                                         0                 0                    0                                       \n",
            "Linear(in_features=50, out_features=2, bias=True)                                     2                 2                    102                                     \n",
            "Total number of parameters elements 20,335,932\n"
          ],
          "name": "stdout"
        }
      ]
    },
    {
      "cell_type": "code",
      "metadata": {
        "id": "wGYQRJAsPN5I",
        "colab_type": "code",
        "outputId": "daf4b6c1-a505-4bf9-8b89-f91dc377c324",
        "colab": {
          "base_uri": "https://localhost:8080/",
          "height": 326
        }
      },
      "source": [
        "learn_classifier.freeze()\n",
        "learn_classifier.freeze_to(-5) # equal to unfreeze\n",
        "summary_trainable(learn_classifier)"
      ],
      "execution_count": 36,
      "outputs": [
        {
          "output_type": "stream",
          "text": [
            "Module Name                                                                           Total Parameters  Trainable Parameters # Elements in Trainable Parametrs       \n",
            "Embedding(5536, 400, padding_idx=1)                                                   1                 1                    2,214,400                               \n",
            "Embedding(5536, 400, padding_idx=1)                                                   1                 1                    2,214,400                               \n",
            "LSTM(400, 1152, batch_first=True)                                                     4                 4                    7,160,832                               \n",
            "LSTM(1152, 1152, batch_first=True)                                                    4                 4                    10,626,048                              \n",
            "LSTM(1152, 400, batch_first=True)                                                     4                 4                    2,486,400                               \n",
            "RNNDropout()                                                                          0                 0                    0                                       \n",
            "RNNDropout()                                                                          0                 0                    0                                       \n",
            "RNNDropout()                                                                          0                 0                    0                                       \n",
            "RNNDropout()                                                                          0                 0                    0                                       \n",
            "BatchNorm1d(1200, eps=1e-05, momentum=0.1, affine=True, track_running_stats=True)     2                 2                    2,400                                   \n",
            "Linear(in_features=1200, out_features=50, bias=True)                                  2                 2                    60,050                                  \n",
            "ReLU(inplace=True)                                                                    0                 0                    0                                       \n",
            "BatchNorm1d(50, eps=1e-05, momentum=0.1, affine=True, track_running_stats=True)       2                 2                    100                                     \n",
            "Dropout(p=0.1, inplace=False)                                                         0                 0                    0                                       \n",
            "Linear(in_features=50, out_features=2, bias=True)                                     2                 2                    102                                     \n",
            "Total number of parameters elements 24,764,732\n"
          ],
          "name": "stdout"
        }
      ]
    },
    {
      "cell_type": "code",
      "metadata": {
        "id": "7KNyFHLqN5zM",
        "colab_type": "code",
        "outputId": "a80d5a02-e256-468d-cac1-2246d9567a99",
        "colab": {
          "base_uri": "https://localhost:8080/",
          "height": 326
        }
      },
      "source": [
        "learn_classifier.freeze()\n",
        "learn_classifier.unfreeze()\n",
        "summary_trainable(learn_classifier)"
      ],
      "execution_count": 37,
      "outputs": [
        {
          "output_type": "stream",
          "text": [
            "Module Name                                                                           Total Parameters  Trainable Parameters # Elements in Trainable Parametrs       \n",
            "Embedding(5536, 400, padding_idx=1)                                                   1                 1                    2,214,400                               \n",
            "Embedding(5536, 400, padding_idx=1)                                                   1                 1                    2,214,400                               \n",
            "LSTM(400, 1152, batch_first=True)                                                     4                 4                    7,160,832                               \n",
            "LSTM(1152, 1152, batch_first=True)                                                    4                 4                    10,626,048                              \n",
            "LSTM(1152, 400, batch_first=True)                                                     4                 4                    2,486,400                               \n",
            "RNNDropout()                                                                          0                 0                    0                                       \n",
            "RNNDropout()                                                                          0                 0                    0                                       \n",
            "RNNDropout()                                                                          0                 0                    0                                       \n",
            "RNNDropout()                                                                          0                 0                    0                                       \n",
            "BatchNorm1d(1200, eps=1e-05, momentum=0.1, affine=True, track_running_stats=True)     2                 2                    2,400                                   \n",
            "Linear(in_features=1200, out_features=50, bias=True)                                  2                 2                    60,050                                  \n",
            "ReLU(inplace=True)                                                                    0                 0                    0                                       \n",
            "BatchNorm1d(50, eps=1e-05, momentum=0.1, affine=True, track_running_stats=True)       2                 2                    100                                     \n",
            "Dropout(p=0.1, inplace=False)                                                         0                 0                    0                                       \n",
            "Linear(in_features=50, out_features=2, bias=True)                                     2                 2                    102                                     \n",
            "Total number of parameters elements 24,764,732\n"
          ],
          "name": "stdout"
        }
      ]
    }
  ]
}