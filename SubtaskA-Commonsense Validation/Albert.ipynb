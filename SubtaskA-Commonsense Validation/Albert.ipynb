{
  "nbformat": 4,
  "nbformat_minor": 0,
  "metadata": {
    "colab": {
      "name": "Alberta-warmup_steps = int(0.06 * total_steps).ipynb",
      "provenance": [],
      "collapsed_sections": [
        "GfjYoa6WmkN6"
      ]
    },
    "kernelspec": {
      "name": "python3",
      "display_name": "Python 3"
    },
    "accelerator": "GPU",
    "widgets": {
      "application/vnd.jupyter.widget-state+json": {
        "e699725e6abc4b088a737324721dd8d7": {
          "model_module": "@jupyter-widgets/controls",
          "model_name": "HBoxModel",
          "state": {
            "_view_name": "HBoxView",
            "_dom_classes": [],
            "_model_name": "HBoxModel",
            "_view_module": "@jupyter-widgets/controls",
            "_model_module_version": "1.5.0",
            "_view_count": null,
            "_view_module_version": "1.5.0",
            "box_style": "",
            "layout": "IPY_MODEL_393bb688cadb4193af790c839d2498c4",
            "_model_module": "@jupyter-widgets/controls",
            "children": [
              "IPY_MODEL_3951df76d82c4773857a3cfd7709e2b6",
              "IPY_MODEL_29f36d6376324126819efb4c807cf3bc"
            ]
          }
        },
        "393bb688cadb4193af790c839d2498c4": {
          "model_module": "@jupyter-widgets/base",
          "model_name": "LayoutModel",
          "state": {
            "_view_name": "LayoutView",
            "grid_template_rows": null,
            "right": null,
            "justify_content": null,
            "_view_module": "@jupyter-widgets/base",
            "overflow": null,
            "_model_module_version": "1.2.0",
            "_view_count": null,
            "flex_flow": null,
            "width": null,
            "min_width": null,
            "border": null,
            "align_items": null,
            "bottom": null,
            "_model_module": "@jupyter-widgets/base",
            "top": null,
            "grid_column": null,
            "overflow_y": null,
            "overflow_x": null,
            "grid_auto_flow": null,
            "grid_area": null,
            "grid_template_columns": null,
            "flex": null,
            "_model_name": "LayoutModel",
            "justify_items": null,
            "grid_row": null,
            "max_height": null,
            "align_content": null,
            "visibility": null,
            "align_self": null,
            "height": null,
            "min_height": null,
            "padding": null,
            "grid_auto_rows": null,
            "grid_gap": null,
            "max_width": null,
            "order": null,
            "_view_module_version": "1.2.0",
            "grid_template_areas": null,
            "object_position": null,
            "object_fit": null,
            "grid_auto_columns": null,
            "margin": null,
            "display": null,
            "left": null
          }
        },
        "3951df76d82c4773857a3cfd7709e2b6": {
          "model_module": "@jupyter-widgets/controls",
          "model_name": "IntProgressModel",
          "state": {
            "_view_name": "ProgressView",
            "style": "IPY_MODEL_51cc427de1ec4cc791cd269be9b6b4d4",
            "_dom_classes": [],
            "description": "Downloading",
            "_model_name": "IntProgressModel",
            "bar_style": "success",
            "max": 560,
            "_view_module": "@jupyter-widgets/controls",
            "_model_module_version": "1.5.0",
            "value": 560,
            "_view_count": null,
            "_view_module_version": "1.5.0",
            "orientation": "horizontal",
            "min": 0,
            "description_tooltip": null,
            "_model_module": "@jupyter-widgets/controls",
            "layout": "IPY_MODEL_6447edb9c64948648c243f8c9ef92e05"
          }
        },
        "29f36d6376324126819efb4c807cf3bc": {
          "model_module": "@jupyter-widgets/controls",
          "model_name": "HTMLModel",
          "state": {
            "_view_name": "HTMLView",
            "style": "IPY_MODEL_a21f29580403454a9c4e8b1c895009a8",
            "_dom_classes": [],
            "description": "",
            "_model_name": "HTMLModel",
            "placeholder": "​",
            "_view_module": "@jupyter-widgets/controls",
            "_model_module_version": "1.5.0",
            "value": "100% 560/560 [00:00&lt;00:00, 19.6kB/s]",
            "_view_count": null,
            "_view_module_version": "1.5.0",
            "description_tooltip": null,
            "_model_module": "@jupyter-widgets/controls",
            "layout": "IPY_MODEL_93c67f4714704a2191a53a1fad3ce1e6"
          }
        },
        "51cc427de1ec4cc791cd269be9b6b4d4": {
          "model_module": "@jupyter-widgets/controls",
          "model_name": "ProgressStyleModel",
          "state": {
            "_view_name": "StyleView",
            "_model_name": "ProgressStyleModel",
            "description_width": "initial",
            "_view_module": "@jupyter-widgets/base",
            "_model_module_version": "1.5.0",
            "_view_count": null,
            "_view_module_version": "1.2.0",
            "bar_color": null,
            "_model_module": "@jupyter-widgets/controls"
          }
        },
        "6447edb9c64948648c243f8c9ef92e05": {
          "model_module": "@jupyter-widgets/base",
          "model_name": "LayoutModel",
          "state": {
            "_view_name": "LayoutView",
            "grid_template_rows": null,
            "right": null,
            "justify_content": null,
            "_view_module": "@jupyter-widgets/base",
            "overflow": null,
            "_model_module_version": "1.2.0",
            "_view_count": null,
            "flex_flow": null,
            "width": null,
            "min_width": null,
            "border": null,
            "align_items": null,
            "bottom": null,
            "_model_module": "@jupyter-widgets/base",
            "top": null,
            "grid_column": null,
            "overflow_y": null,
            "overflow_x": null,
            "grid_auto_flow": null,
            "grid_area": null,
            "grid_template_columns": null,
            "flex": null,
            "_model_name": "LayoutModel",
            "justify_items": null,
            "grid_row": null,
            "max_height": null,
            "align_content": null,
            "visibility": null,
            "align_self": null,
            "height": null,
            "min_height": null,
            "padding": null,
            "grid_auto_rows": null,
            "grid_gap": null,
            "max_width": null,
            "order": null,
            "_view_module_version": "1.2.0",
            "grid_template_areas": null,
            "object_position": null,
            "object_fit": null,
            "grid_auto_columns": null,
            "margin": null,
            "display": null,
            "left": null
          }
        },
        "a21f29580403454a9c4e8b1c895009a8": {
          "model_module": "@jupyter-widgets/controls",
          "model_name": "DescriptionStyleModel",
          "state": {
            "_view_name": "StyleView",
            "_model_name": "DescriptionStyleModel",
            "description_width": "",
            "_view_module": "@jupyter-widgets/base",
            "_model_module_version": "1.5.0",
            "_view_count": null,
            "_view_module_version": "1.2.0",
            "_model_module": "@jupyter-widgets/controls"
          }
        },
        "93c67f4714704a2191a53a1fad3ce1e6": {
          "model_module": "@jupyter-widgets/base",
          "model_name": "LayoutModel",
          "state": {
            "_view_name": "LayoutView",
            "grid_template_rows": null,
            "right": null,
            "justify_content": null,
            "_view_module": "@jupyter-widgets/base",
            "overflow": null,
            "_model_module_version": "1.2.0",
            "_view_count": null,
            "flex_flow": null,
            "width": null,
            "min_width": null,
            "border": null,
            "align_items": null,
            "bottom": null,
            "_model_module": "@jupyter-widgets/base",
            "top": null,
            "grid_column": null,
            "overflow_y": null,
            "overflow_x": null,
            "grid_auto_flow": null,
            "grid_area": null,
            "grid_template_columns": null,
            "flex": null,
            "_model_name": "LayoutModel",
            "justify_items": null,
            "grid_row": null,
            "max_height": null,
            "align_content": null,
            "visibility": null,
            "align_self": null,
            "height": null,
            "min_height": null,
            "padding": null,
            "grid_auto_rows": null,
            "grid_gap": null,
            "max_width": null,
            "order": null,
            "_view_module_version": "1.2.0",
            "grid_template_areas": null,
            "object_position": null,
            "object_fit": null,
            "grid_auto_columns": null,
            "margin": null,
            "display": null,
            "left": null
          }
        },
        "7cbaae72ef43467980940a76ad46e841": {
          "model_module": "@jupyter-widgets/controls",
          "model_name": "HBoxModel",
          "state": {
            "_view_name": "HBoxView",
            "_dom_classes": [],
            "_model_name": "HBoxModel",
            "_view_module": "@jupyter-widgets/controls",
            "_model_module_version": "1.5.0",
            "_view_count": null,
            "_view_module_version": "1.5.0",
            "box_style": "",
            "layout": "IPY_MODEL_6e66a4a7e22747e2b126208b45acb69e",
            "_model_module": "@jupyter-widgets/controls",
            "children": [
              "IPY_MODEL_1e254c05a8cb4010b315c97bc24edd42",
              "IPY_MODEL_d47f0f1c084b422ea9fd1b0f27d3020a"
            ]
          }
        },
        "6e66a4a7e22747e2b126208b45acb69e": {
          "model_module": "@jupyter-widgets/base",
          "model_name": "LayoutModel",
          "state": {
            "_view_name": "LayoutView",
            "grid_template_rows": null,
            "right": null,
            "justify_content": null,
            "_view_module": "@jupyter-widgets/base",
            "overflow": null,
            "_model_module_version": "1.2.0",
            "_view_count": null,
            "flex_flow": null,
            "width": null,
            "min_width": null,
            "border": null,
            "align_items": null,
            "bottom": null,
            "_model_module": "@jupyter-widgets/base",
            "top": null,
            "grid_column": null,
            "overflow_y": null,
            "overflow_x": null,
            "grid_auto_flow": null,
            "grid_area": null,
            "grid_template_columns": null,
            "flex": null,
            "_model_name": "LayoutModel",
            "justify_items": null,
            "grid_row": null,
            "max_height": null,
            "align_content": null,
            "visibility": null,
            "align_self": null,
            "height": null,
            "min_height": null,
            "padding": null,
            "grid_auto_rows": null,
            "grid_gap": null,
            "max_width": null,
            "order": null,
            "_view_module_version": "1.2.0",
            "grid_template_areas": null,
            "object_position": null,
            "object_fit": null,
            "grid_auto_columns": null,
            "margin": null,
            "display": null,
            "left": null
          }
        },
        "1e254c05a8cb4010b315c97bc24edd42": {
          "model_module": "@jupyter-widgets/controls",
          "model_name": "IntProgressModel",
          "state": {
            "_view_name": "ProgressView",
            "style": "IPY_MODEL_3557ba00b2634645800e6d4ad813780f",
            "_dom_classes": [],
            "description": "Downloading",
            "_model_name": "IntProgressModel",
            "bar_style": "success",
            "max": 892728632,
            "_view_module": "@jupyter-widgets/controls",
            "_model_module_version": "1.5.0",
            "value": 892728632,
            "_view_count": null,
            "_view_module_version": "1.5.0",
            "orientation": "horizontal",
            "min": 0,
            "description_tooltip": null,
            "_model_module": "@jupyter-widgets/controls",
            "layout": "IPY_MODEL_01ab3479d16c4d6f995f2b2319b910f0"
          }
        },
        "d47f0f1c084b422ea9fd1b0f27d3020a": {
          "model_module": "@jupyter-widgets/controls",
          "model_name": "HTMLModel",
          "state": {
            "_view_name": "HTMLView",
            "style": "IPY_MODEL_d372f0c909f54e1284aab310f680a3ce",
            "_dom_classes": [],
            "description": "",
            "_model_name": "HTMLModel",
            "placeholder": "​",
            "_view_module": "@jupyter-widgets/controls",
            "_model_module_version": "1.5.0",
            "value": "100% 893M/893M [00:26&lt;00:00, 33.7MB/s]",
            "_view_count": null,
            "_view_module_version": "1.5.0",
            "description_tooltip": null,
            "_model_module": "@jupyter-widgets/controls",
            "layout": "IPY_MODEL_a0531bc2d9c548999334a884918e05ab"
          }
        },
        "3557ba00b2634645800e6d4ad813780f": {
          "model_module": "@jupyter-widgets/controls",
          "model_name": "ProgressStyleModel",
          "state": {
            "_view_name": "StyleView",
            "_model_name": "ProgressStyleModel",
            "description_width": "initial",
            "_view_module": "@jupyter-widgets/base",
            "_model_module_version": "1.5.0",
            "_view_count": null,
            "_view_module_version": "1.2.0",
            "bar_color": null,
            "_model_module": "@jupyter-widgets/controls"
          }
        },
        "01ab3479d16c4d6f995f2b2319b910f0": {
          "model_module": "@jupyter-widgets/base",
          "model_name": "LayoutModel",
          "state": {
            "_view_name": "LayoutView",
            "grid_template_rows": null,
            "right": null,
            "justify_content": null,
            "_view_module": "@jupyter-widgets/base",
            "overflow": null,
            "_model_module_version": "1.2.0",
            "_view_count": null,
            "flex_flow": null,
            "width": null,
            "min_width": null,
            "border": null,
            "align_items": null,
            "bottom": null,
            "_model_module": "@jupyter-widgets/base",
            "top": null,
            "grid_column": null,
            "overflow_y": null,
            "overflow_x": null,
            "grid_auto_flow": null,
            "grid_area": null,
            "grid_template_columns": null,
            "flex": null,
            "_model_name": "LayoutModel",
            "justify_items": null,
            "grid_row": null,
            "max_height": null,
            "align_content": null,
            "visibility": null,
            "align_self": null,
            "height": null,
            "min_height": null,
            "padding": null,
            "grid_auto_rows": null,
            "grid_gap": null,
            "max_width": null,
            "order": null,
            "_view_module_version": "1.2.0",
            "grid_template_areas": null,
            "object_position": null,
            "object_fit": null,
            "grid_auto_columns": null,
            "margin": null,
            "display": null,
            "left": null
          }
        },
        "d372f0c909f54e1284aab310f680a3ce": {
          "model_module": "@jupyter-widgets/controls",
          "model_name": "DescriptionStyleModel",
          "state": {
            "_view_name": "StyleView",
            "_model_name": "DescriptionStyleModel",
            "description_width": "",
            "_view_module": "@jupyter-widgets/base",
            "_model_module_version": "1.5.0",
            "_view_count": null,
            "_view_module_version": "1.2.0",
            "_model_module": "@jupyter-widgets/controls"
          }
        },
        "a0531bc2d9c548999334a884918e05ab": {
          "model_module": "@jupyter-widgets/base",
          "model_name": "LayoutModel",
          "state": {
            "_view_name": "LayoutView",
            "grid_template_rows": null,
            "right": null,
            "justify_content": null,
            "_view_module": "@jupyter-widgets/base",
            "overflow": null,
            "_model_module_version": "1.2.0",
            "_view_count": null,
            "flex_flow": null,
            "width": null,
            "min_width": null,
            "border": null,
            "align_items": null,
            "bottom": null,
            "_model_module": "@jupyter-widgets/base",
            "top": null,
            "grid_column": null,
            "overflow_y": null,
            "overflow_x": null,
            "grid_auto_flow": null,
            "grid_area": null,
            "grid_template_columns": null,
            "flex": null,
            "_model_name": "LayoutModel",
            "justify_items": null,
            "grid_row": null,
            "max_height": null,
            "align_content": null,
            "visibility": null,
            "align_self": null,
            "height": null,
            "min_height": null,
            "padding": null,
            "grid_auto_rows": null,
            "grid_gap": null,
            "max_width": null,
            "order": null,
            "_view_module_version": "1.2.0",
            "grid_template_areas": null,
            "object_position": null,
            "object_fit": null,
            "grid_auto_columns": null,
            "margin": null,
            "display": null,
            "left": null
          }
        },
        "7fa86674495745b3a84aef18b292139d": {
          "model_module": "@jupyter-widgets/controls",
          "model_name": "HBoxModel",
          "state": {
            "_view_name": "HBoxView",
            "_dom_classes": [],
            "_model_name": "HBoxModel",
            "_view_module": "@jupyter-widgets/controls",
            "_model_module_version": "1.5.0",
            "_view_count": null,
            "_view_module_version": "1.5.0",
            "box_style": "",
            "layout": "IPY_MODEL_73d3d2f3887b41cf95568b7d62456353",
            "_model_module": "@jupyter-widgets/controls",
            "children": [
              "IPY_MODEL_32f4811a19334143b7ff8a476be55e9c",
              "IPY_MODEL_b39c012ffdab48b584e4b32eb196dca3"
            ]
          }
        },
        "73d3d2f3887b41cf95568b7d62456353": {
          "model_module": "@jupyter-widgets/base",
          "model_name": "LayoutModel",
          "state": {
            "_view_name": "LayoutView",
            "grid_template_rows": null,
            "right": null,
            "justify_content": null,
            "_view_module": "@jupyter-widgets/base",
            "overflow": null,
            "_model_module_version": "1.2.0",
            "_view_count": null,
            "flex_flow": null,
            "width": null,
            "min_width": null,
            "border": null,
            "align_items": null,
            "bottom": null,
            "_model_module": "@jupyter-widgets/base",
            "top": null,
            "grid_column": null,
            "overflow_y": null,
            "overflow_x": null,
            "grid_auto_flow": null,
            "grid_area": null,
            "grid_template_columns": null,
            "flex": null,
            "_model_name": "LayoutModel",
            "justify_items": null,
            "grid_row": null,
            "max_height": null,
            "align_content": null,
            "visibility": null,
            "align_self": null,
            "height": null,
            "min_height": null,
            "padding": null,
            "grid_auto_rows": null,
            "grid_gap": null,
            "max_width": null,
            "order": null,
            "_view_module_version": "1.2.0",
            "grid_template_areas": null,
            "object_position": null,
            "object_fit": null,
            "grid_auto_columns": null,
            "margin": null,
            "display": null,
            "left": null
          }
        },
        "32f4811a19334143b7ff8a476be55e9c": {
          "model_module": "@jupyter-widgets/controls",
          "model_name": "IntProgressModel",
          "state": {
            "_view_name": "ProgressView",
            "style": "IPY_MODEL_f7e48c5b93db43a3b6439275e31aea39",
            "_dom_classes": [],
            "description": "Downloading",
            "_model_name": "IntProgressModel",
            "bar_style": "success",
            "max": 760289,
            "_view_module": "@jupyter-widgets/controls",
            "_model_module_version": "1.5.0",
            "value": 760289,
            "_view_count": null,
            "_view_module_version": "1.5.0",
            "orientation": "horizontal",
            "min": 0,
            "description_tooltip": null,
            "_model_module": "@jupyter-widgets/controls",
            "layout": "IPY_MODEL_a1d143b0fb2d4ee8b33c81223499c99e"
          }
        },
        "b39c012ffdab48b584e4b32eb196dca3": {
          "model_module": "@jupyter-widgets/controls",
          "model_name": "HTMLModel",
          "state": {
            "_view_name": "HTMLView",
            "style": "IPY_MODEL_3fefa11477f64581b0f7a998f51600a1",
            "_dom_classes": [],
            "description": "",
            "_model_name": "HTMLModel",
            "placeholder": "​",
            "_view_module": "@jupyter-widgets/controls",
            "_model_module_version": "1.5.0",
            "value": "100% 760k/760k [00:00&lt;00:00, 2.43MB/s]",
            "_view_count": null,
            "_view_module_version": "1.5.0",
            "description_tooltip": null,
            "_model_module": "@jupyter-widgets/controls",
            "layout": "IPY_MODEL_98b67dd6d5bd495895381306f04b4df7"
          }
        },
        "f7e48c5b93db43a3b6439275e31aea39": {
          "model_module": "@jupyter-widgets/controls",
          "model_name": "ProgressStyleModel",
          "state": {
            "_view_name": "StyleView",
            "_model_name": "ProgressStyleModel",
            "description_width": "initial",
            "_view_module": "@jupyter-widgets/base",
            "_model_module_version": "1.5.0",
            "_view_count": null,
            "_view_module_version": "1.2.0",
            "bar_color": null,
            "_model_module": "@jupyter-widgets/controls"
          }
        },
        "a1d143b0fb2d4ee8b33c81223499c99e": {
          "model_module": "@jupyter-widgets/base",
          "model_name": "LayoutModel",
          "state": {
            "_view_name": "LayoutView",
            "grid_template_rows": null,
            "right": null,
            "justify_content": null,
            "_view_module": "@jupyter-widgets/base",
            "overflow": null,
            "_model_module_version": "1.2.0",
            "_view_count": null,
            "flex_flow": null,
            "width": null,
            "min_width": null,
            "border": null,
            "align_items": null,
            "bottom": null,
            "_model_module": "@jupyter-widgets/base",
            "top": null,
            "grid_column": null,
            "overflow_y": null,
            "overflow_x": null,
            "grid_auto_flow": null,
            "grid_area": null,
            "grid_template_columns": null,
            "flex": null,
            "_model_name": "LayoutModel",
            "justify_items": null,
            "grid_row": null,
            "max_height": null,
            "align_content": null,
            "visibility": null,
            "align_self": null,
            "height": null,
            "min_height": null,
            "padding": null,
            "grid_auto_rows": null,
            "grid_gap": null,
            "max_width": null,
            "order": null,
            "_view_module_version": "1.2.0",
            "grid_template_areas": null,
            "object_position": null,
            "object_fit": null,
            "grid_auto_columns": null,
            "margin": null,
            "display": null,
            "left": null
          }
        },
        "3fefa11477f64581b0f7a998f51600a1": {
          "model_module": "@jupyter-widgets/controls",
          "model_name": "DescriptionStyleModel",
          "state": {
            "_view_name": "StyleView",
            "_model_name": "DescriptionStyleModel",
            "description_width": "",
            "_view_module": "@jupyter-widgets/base",
            "_model_module_version": "1.5.0",
            "_view_count": null,
            "_view_module_version": "1.2.0",
            "_model_module": "@jupyter-widgets/controls"
          }
        },
        "98b67dd6d5bd495895381306f04b4df7": {
          "model_module": "@jupyter-widgets/base",
          "model_name": "LayoutModel",
          "state": {
            "_view_name": "LayoutView",
            "grid_template_rows": null,
            "right": null,
            "justify_content": null,
            "_view_module": "@jupyter-widgets/base",
            "overflow": null,
            "_model_module_version": "1.2.0",
            "_view_count": null,
            "flex_flow": null,
            "width": null,
            "min_width": null,
            "border": null,
            "align_items": null,
            "bottom": null,
            "_model_module": "@jupyter-widgets/base",
            "top": null,
            "grid_column": null,
            "overflow_y": null,
            "overflow_x": null,
            "grid_auto_flow": null,
            "grid_area": null,
            "grid_template_columns": null,
            "flex": null,
            "_model_name": "LayoutModel",
            "justify_items": null,
            "grid_row": null,
            "max_height": null,
            "align_content": null,
            "visibility": null,
            "align_self": null,
            "height": null,
            "min_height": null,
            "padding": null,
            "grid_auto_rows": null,
            "grid_gap": null,
            "max_width": null,
            "order": null,
            "_view_module_version": "1.2.0",
            "grid_template_areas": null,
            "object_position": null,
            "object_fit": null,
            "grid_auto_columns": null,
            "margin": null,
            "display": null,
            "left": null
          }
        }
      }
    }
  },
  "cells": [
    {
      "cell_type": "code",
      "metadata": {
        "id": "Pi9J5cpfd3tv",
        "colab_type": "code",
        "outputId": "3af5025f-edb3-4e07-81ef-c7f151db8e90",
        "colab": {
          "base_uri": "https://localhost:8080/",
          "height": 102
        }
      },
      "source": [
        "!pip install transformers -q"
      ],
      "execution_count": 1,
      "outputs": [
        {
          "output_type": "stream",
          "text": [
            "\u001b[K     |████████████████████████████████| 501kB 4.9MB/s \n",
            "\u001b[K     |████████████████████████████████| 870kB 59.5MB/s \n",
            "\u001b[K     |████████████████████████████████| 3.7MB 49.0MB/s \n",
            "\u001b[K     |████████████████████████████████| 1.0MB 45.5MB/s \n",
            "\u001b[?25h  Building wheel for sacremoses (setup.py) ... \u001b[?25l\u001b[?25hdone\n"
          ],
          "name": "stdout"
        }
      ]
    },
    {
      "cell_type": "code",
      "metadata": {
        "id": "YEs9JVE3vj6N",
        "colab_type": "code",
        "outputId": "2f8eb805-ee2c-4458-8c32-2a161b0bac51",
        "colab": {
          "base_uri": "https://localhost:8080/",
          "height": 210,
          "referenced_widgets": [
            "e699725e6abc4b088a737324721dd8d7",
            "393bb688cadb4193af790c839d2498c4",
            "3951df76d82c4773857a3cfd7709e2b6",
            "29f36d6376324126819efb4c807cf3bc",
            "51cc427de1ec4cc791cd269be9b6b4d4",
            "6447edb9c64948648c243f8c9ef92e05",
            "a21f29580403454a9c4e8b1c895009a8",
            "93c67f4714704a2191a53a1fad3ce1e6",
            "7cbaae72ef43467980940a76ad46e841",
            "6e66a4a7e22747e2b126208b45acb69e",
            "1e254c05a8cb4010b315c97bc24edd42",
            "d47f0f1c084b422ea9fd1b0f27d3020a",
            "3557ba00b2634645800e6d4ad813780f",
            "01ab3479d16c4d6f995f2b2319b910f0",
            "d372f0c909f54e1284aab310f680a3ce",
            "a0531bc2d9c548999334a884918e05ab",
            "7fa86674495745b3a84aef18b292139d",
            "73d3d2f3887b41cf95568b7d62456353",
            "32f4811a19334143b7ff8a476be55e9c",
            "b39c012ffdab48b584e4b32eb196dca3",
            "f7e48c5b93db43a3b6439275e31aea39",
            "a1d143b0fb2d4ee8b33c81223499c99e",
            "3fefa11477f64581b0f7a998f51600a1",
            "98b67dd6d5bd495895381306f04b4df7"
          ]
        }
      },
      "source": [
        "import torch\n",
        "from transformers import *\n",
        "\n",
        "model_name = 'albert-xxlarge-v2' #uncased should have do_lower_case=True\n",
        "# model = AutoModel.from_pretrained(model_name)\n",
        "model = AutoModelForSequenceClassification.from_pretrained(model_name) \n",
        "#     output_attentions = False, # Whether the model returns attentions weights.\n",
        "#     output_hidden_states = False, # Whether the model returns all hidden-states.\n",
        "#     num_labels = 2\n",
        "tokenizer = AutoTokenizer.from_pretrained(model_name, do_lower_case=False)"
      ],
      "execution_count": 2,
      "outputs": [
        {
          "output_type": "display_data",
          "data": {
            "text/html": [
              "<p style=\"color: red;\">\n",
              "The default version of TensorFlow in Colab will soon switch to TensorFlow 2.x.<br>\n",
              "We recommend you <a href=\"https://www.tensorflow.org/guide/migrate\" target=\"_blank\">upgrade</a> now \n",
              "or ensure your notebook will continue to use TensorFlow 1.x via the <code>%tensorflow_version 1.x</code> magic:\n",
              "<a href=\"https://colab.research.google.com/notebooks/tensorflow_version.ipynb\" target=\"_blank\">more info</a>.</p>\n"
            ],
            "text/plain": [
              "<IPython.core.display.HTML object>"
            ]
          },
          "metadata": {
            "tags": []
          }
        },
        {
          "output_type": "display_data",
          "data": {
            "application/vnd.jupyter.widget-view+json": {
              "model_id": "e699725e6abc4b088a737324721dd8d7",
              "version_minor": 0,
              "version_major": 2
            },
            "text/plain": [
              "HBox(children=(IntProgress(value=0, description='Downloading', max=560, style=ProgressStyle(description_width=…"
            ]
          },
          "metadata": {
            "tags": []
          }
        },
        {
          "output_type": "stream",
          "text": [
            "\n"
          ],
          "name": "stdout"
        },
        {
          "output_type": "display_data",
          "data": {
            "application/vnd.jupyter.widget-view+json": {
              "model_id": "7cbaae72ef43467980940a76ad46e841",
              "version_minor": 0,
              "version_major": 2
            },
            "text/plain": [
              "HBox(children=(IntProgress(value=0, description='Downloading', max=892728632, style=ProgressStyle(description_…"
            ]
          },
          "metadata": {
            "tags": []
          }
        },
        {
          "output_type": "stream",
          "text": [
            "\n"
          ],
          "name": "stdout"
        },
        {
          "output_type": "display_data",
          "data": {
            "application/vnd.jupyter.widget-view+json": {
              "model_id": "7fa86674495745b3a84aef18b292139d",
              "version_minor": 0,
              "version_major": 2
            },
            "text/plain": [
              "HBox(children=(IntProgress(value=0, description='Downloading', max=760289, style=ProgressStyle(description_wid…"
            ]
          },
          "metadata": {
            "tags": []
          }
        },
        {
          "output_type": "stream",
          "text": [
            "\n"
          ],
          "name": "stdout"
        }
      ]
    },
    {
      "cell_type": "code",
      "metadata": {
        "id": "hlT8sfnJ5h3U",
        "colab_type": "code",
        "outputId": "db170e45-eddf-49c0-ce41-9d534b0c347c",
        "colab": {
          "base_uri": "https://localhost:8080/",
          "height": 34
        }
      },
      "source": [
        "model.classifier"
      ],
      "execution_count": 3,
      "outputs": [
        {
          "output_type": "execute_result",
          "data": {
            "text/plain": [
              "Linear(in_features=4096, out_features=2, bias=True)"
            ]
          },
          "metadata": {
            "tags": []
          },
          "execution_count": 3
        }
      ]
    },
    {
      "cell_type": "code",
      "metadata": {
        "id": "LnUdn5NA3Xc2",
        "colab_type": "code",
        "colab": {}
      },
      "source": [
        "models_names = [ \n",
        "'bert-base-uncased',\n",
        "'bert-large-uncased',\n",
        "'bert-base-cased',\n",
        "'bert-large-cased',\n",
        "'bert-base-multilingual-uncased',\n",
        "'bert-base-multilingual-cased',\n",
        "'bert-large-uncased-whole-word-masking',\n",
        "'bert-large-cased-whole-word-masking',\n",
        "'bert-large-uncased-whole-word-masking-finetuned-squad',\n",
        "'bert-large-cased-whole-word-masking-finetuned-squad',\n",
        "'bert-base-cased-finetuned-mrpc',\n",
        "'albert-base-v1',\n",
        "'albert-large-v1',\n",
        "'albert-xlarge-v1',\n",
        "'albert-xxlarge-v1',\n",
        "'albert-base-v2',\n",
        "'albert-large-v2',\n",
        "'albert-xlarge-v2',\n",
        "'albert-xxlarge-v2',\n",
        "'xlm-mlm-en-2048',\n",
        "'xlm-mlm-ende-1024',\n",
        "'xlm-mlm-enfr-1024',\n",
        "'xlm-mlm-enro-1024',\n",
        "'xlm-mlm-xnli15-1024',\n",
        "'xlm-mlm-tlm-xnli15-1024',\n",
        "'xlm-clm-enfr-1024',\n",
        "'xlm-clm-ende-1024',\n",
        "'xlm-mlm-17-1280',\n",
        "'xlm-mlm-100-1280',\n",
        "'xlm-roberta-base',\n",
        "'xlm-roberta-large',\n",
        "'roberta-base',\n",
        "'roberta-large',\n",
        "'roberta-large-mnli',\n",
        "'roberta-base-openai-detector',\n",
        "'roberta-large-openai-detector',\n",
        "'xlnet-base-cased',\n",
        "'xlnet-large-cased',\n",
        "]"
      ],
      "execution_count": 0,
      "outputs": []
    },
    {
      "cell_type": "markdown",
      "metadata": {
        "id": "nSU7yERLP_66",
        "colab_type": "text"
      },
      "source": [
        "## 1.1. Using Colab GPU for Training\n"
      ]
    },
    {
      "cell_type": "code",
      "metadata": {
        "id": "DEfSbAA4QHas",
        "colab_type": "code",
        "outputId": "07e6b382-8886-4a6d-8472-58d1aad8e6d4",
        "colab": {
          "base_uri": "https://localhost:8080/",
          "height": 34
        }
      },
      "source": [
        "import tensorflow as tf\n",
        "\n",
        "# Get the GPU device name.\n",
        "device_name = tf.test.gpu_device_name()\n",
        "\n",
        "# The device name should look like the following:\n",
        "if device_name == '/device:GPU:0':\n",
        "    print('Found GPU at: {}'.format(device_name))\n",
        "else:\n",
        "    raise SystemError('GPU device not found')"
      ],
      "execution_count": 5,
      "outputs": [
        {
          "output_type": "stream",
          "text": [
            "Found GPU at: /device:GPU:0\n"
          ],
          "name": "stdout"
        }
      ]
    },
    {
      "cell_type": "code",
      "metadata": {
        "id": "oYsV4H8fCpZ-",
        "colab_type": "code",
        "outputId": "1451161f-4915-4d5d-be15-cff72cd750ba",
        "colab": {
          "base_uri": "https://localhost:8080/",
          "height": 51
        }
      },
      "source": [
        "import torch\n",
        "\n",
        "# If there's a GPU available...\n",
        "if torch.cuda.is_available():    \n",
        "\n",
        "    # Tell PyTorch to use the GPU.    \n",
        "    device = torch.device(\"cuda\")\n",
        "\n",
        "    print('There are %d GPU(s) available.' % torch.cuda.device_count())\n",
        "\n",
        "    print('We will use the GPU:', torch.cuda.get_device_name(0))\n",
        "\n",
        "# If not...\n",
        "else:\n",
        "    print('No GPU available, using the CPU instead.')\n",
        "    device = torch.device(\"cpu\")"
      ],
      "execution_count": 6,
      "outputs": [
        {
          "output_type": "stream",
          "text": [
            "There are 1 GPU(s) available.\n",
            "We will use the GPU: Tesla P100-PCIE-16GB\n"
          ],
          "name": "stdout"
        }
      ]
    },
    {
      "cell_type": "markdown",
      "metadata": {
        "id": "guw6ZNtaswKc",
        "colab_type": "text"
      },
      "source": [
        "# 2. Loading SemEval Dataset\n"
      ]
    },
    {
      "cell_type": "markdown",
      "metadata": {
        "id": "4JrUHXms16cn",
        "colab_type": "text"
      },
      "source": [
        "## 2.1. Download & Extract"
      ]
    },
    {
      "cell_type": "markdown",
      "metadata": {
        "id": "3ZNVW6xd0T0X",
        "colab_type": "text"
      },
      "source": [
        "We'll use the `wget` package to download the dataset to the Colab instance's file system. "
      ]
    },
    {
      "cell_type": "code",
      "metadata": {
        "id": "5m6AnuFv0QXQ",
        "colab_type": "code",
        "outputId": "5984749d-f555-4587-bfee-cea4790f4341",
        "colab": {
          "base_uri": "https://localhost:8080/",
          "height": 190
        }
      },
      "source": [
        "!pip install wget"
      ],
      "execution_count": 7,
      "outputs": [
        {
          "output_type": "stream",
          "text": [
            "Collecting wget\n",
            "  Downloading https://files.pythonhosted.org/packages/47/6a/62e288da7bcda82b935ff0c6cfe542970f04e29c756b0e147251b2fb251f/wget-3.2.zip\n",
            "Building wheels for collected packages: wget\n",
            "  Building wheel for wget (setup.py) ... \u001b[?25l\u001b[?25hdone\n",
            "  Created wheel for wget: filename=wget-3.2-cp36-none-any.whl size=9682 sha256=4b0e06c31a8bd894eb1ba3cd325dccb89f5de39fc75d95b3105e418ce08cd9a9\n",
            "  Stored in directory: /root/.cache/pip/wheels/40/15/30/7d8f7cea2902b4db79e3fea550d7d7b85ecb27ef992b618f3f\n",
            "Successfully built wget\n",
            "Installing collected packages: wget\n",
            "Successfully installed wget-3.2\n"
          ],
          "name": "stdout"
        }
      ]
    },
    {
      "cell_type": "code",
      "metadata": {
        "id": "pMtmPMkBzrvs",
        "colab_type": "code",
        "outputId": "b3fb31e5-bf3b-4fff-888d-310ed7b5cd74",
        "colab": {
          "base_uri": "https://localhost:8080/",
          "height": 34
        }
      },
      "source": [
        "import wget\n",
        "import os\n",
        "\n",
        "print('Downloading dataset...')\n",
        "\n",
        "# The URL for the dataset zip file.\n",
        "!wget -q https://raw.githubusercontent.com/wangcunxiang/SemEval2020-Task4-Commonsense-Validation-and-Explanation/master/Training%20%20Data/subtaskA_data_all.csv\n",
        "!wget -q https://raw.githubusercontent.com/wangcunxiang/SemEval2020-Task4-Commonsense-Validation-and-Explanation/master/Training%20%20Data/subtaskA_answers_all.csv\n",
        "\n",
        "\n",
        "!wget -q https://raw.githubusercontent.com/wangcunxiang/SemEval2020-Task4-Commonsense-Validation-and-Explanation/master/Trial%20Data/taskA_trial_data.csv\n",
        "!wget -q https://raw.githubusercontent.com/wangcunxiang/SemEval2020-Task4-Commonsense-Validation-and-Explanation/master/Trial%20Data/taskA_trial_answer.csv"
      ],
      "execution_count": 8,
      "outputs": [
        {
          "output_type": "stream",
          "text": [
            "Downloading dataset...\n"
          ],
          "name": "stdout"
        }
      ]
    },
    {
      "cell_type": "markdown",
      "metadata": {
        "id": "oQUy9Tat2EF_",
        "colab_type": "text"
      },
      "source": [
        "## 2.2. Parse"
      ]
    },
    {
      "cell_type": "markdown",
      "metadata": {
        "id": "xeyVCXT31EZQ",
        "colab_type": "text"
      },
      "source": [
        "We can see from the file names that both `tokenized` and `raw` versions of the data are available. \n",
        "\n",
        "We can't use the pre-tokenized version because, in order to apply the pre-trained BERT, we *must* use the tokenizer provided by the model. This is because (1) the model has a specific, fixed vocabulary and (2) the BERT tokenizer has a particular way of handling out-of-vocabulary words."
      ]
    },
    {
      "cell_type": "markdown",
      "metadata": {
        "id": "MYWzeGSY2xh3",
        "colab_type": "text"
      },
      "source": [
        "We'll use pandas to parse the \"in-domain\" training set and look at a few of its properties and data points."
      ]
    },
    {
      "cell_type": "code",
      "metadata": {
        "id": "_UkeC7SG2krJ",
        "colab_type": "code",
        "outputId": "0063082f-bd73-490d-8681-4df595fb92da",
        "colab": {
          "base_uri": "https://localhost:8080/",
          "height": 674
        }
      },
      "source": [
        "import pandas as pd\n",
        "import numpy as np\n",
        "\n",
        "# Load the dataset into a pandas dataframe.\n",
        "df_data = pd.read_csv('subtaskA_data_all.csv', error_bad_lines=False)\n",
        "df_answers = pd.read_csv('subtaskA_answers_all.csv', error_bad_lines=False, header=None, names=['id', 'label'])\n",
        "\n",
        "df = df_data.set_index('id').join(df_answers.set_index('id'))\n",
        "\n",
        "for i in range(len(df)):\n",
        "    if df['sent0'][i][-1] != '.' or df['sent1'][i][-1] !='.' :\n",
        "      df['sent0'][i] = df['sent0'][i] +'.'\n",
        "      df['sent1'][i] = df['sent1'][i] +'.'\n",
        "      \n",
        "# Report the number of sentences.\n",
        "print('Number of training sentences: {:,}\\n'.format(df.shape[0]))\n",
        "\n",
        "# Display 10 random rows from the data.\n",
        "df.head(10)\n",
        "df"
      ],
      "execution_count": 9,
      "outputs": [
        {
          "output_type": "stream",
          "text": [
            "/usr/local/lib/python3.6/dist-packages/ipykernel_launcher.py:12: SettingWithCopyWarning: \n",
            "A value is trying to be set on a copy of a slice from a DataFrame\n",
            "\n",
            "See the caveats in the documentation: http://pandas.pydata.org/pandas-docs/stable/user_guide/indexing.html#returning-a-view-versus-a-copy\n",
            "  if sys.path[0] == '':\n",
            "/usr/local/lib/python3.6/dist-packages/ipykernel_launcher.py:13: SettingWithCopyWarning: \n",
            "A value is trying to be set on a copy of a slice from a DataFrame\n",
            "\n",
            "See the caveats in the documentation: http://pandas.pydata.org/pandas-docs/stable/user_guide/indexing.html#returning-a-view-versus-a-copy\n",
            "  del sys.path[0]\n"
          ],
          "name": "stderr"
        },
        {
          "output_type": "stream",
          "text": [
            "Number of training sentences: 10,000\n",
            "\n"
          ],
          "name": "stdout"
        },
        {
          "output_type": "execute_result",
          "data": {
            "text/html": [
              "<div>\n",
              "<style scoped>\n",
              "    .dataframe tbody tr th:only-of-type {\n",
              "        vertical-align: middle;\n",
              "    }\n",
              "\n",
              "    .dataframe tbody tr th {\n",
              "        vertical-align: top;\n",
              "    }\n",
              "\n",
              "    .dataframe thead th {\n",
              "        text-align: right;\n",
              "    }\n",
              "</style>\n",
              "<table border=\"1\" class=\"dataframe\">\n",
              "  <thead>\n",
              "    <tr style=\"text-align: right;\">\n",
              "      <th></th>\n",
              "      <th>sent0</th>\n",
              "      <th>sent1</th>\n",
              "      <th>label</th>\n",
              "    </tr>\n",
              "    <tr>\n",
              "      <th>id</th>\n",
              "      <th></th>\n",
              "      <th></th>\n",
              "      <th></th>\n",
              "    </tr>\n",
              "  </thead>\n",
              "  <tbody>\n",
              "    <tr>\n",
              "      <th>0</th>\n",
              "      <td>He poured orange juice on his cereal.</td>\n",
              "      <td>He poured milk on his cereal.</td>\n",
              "      <td>0</td>\n",
              "    </tr>\n",
              "    <tr>\n",
              "      <th>1</th>\n",
              "      <td>He drinks apple.</td>\n",
              "      <td>He drinks milk.</td>\n",
              "      <td>0</td>\n",
              "    </tr>\n",
              "    <tr>\n",
              "      <th>2</th>\n",
              "      <td>Jeff ran a mile today.</td>\n",
              "      <td>Jeff ran 100,000 miles today.</td>\n",
              "      <td>1</td>\n",
              "    </tr>\n",
              "    <tr>\n",
              "      <th>3</th>\n",
              "      <td>A mosquito stings me.</td>\n",
              "      <td>I sting a mosquito.</td>\n",
              "      <td>1</td>\n",
              "    </tr>\n",
              "    <tr>\n",
              "      <th>4</th>\n",
              "      <td>A niece is a person.</td>\n",
              "      <td>A giraffe is a person.</td>\n",
              "      <td>1</td>\n",
              "    </tr>\n",
              "    <tr>\n",
              "      <th>...</th>\n",
              "      <td>...</td>\n",
              "      <td>...</td>\n",
              "      <td>...</td>\n",
              "    </tr>\n",
              "    <tr>\n",
              "      <th>9995</th>\n",
              "      <td>Mark ate a big bitter cherry pie.</td>\n",
              "      <td>Mark ate a big sweet cherry pie.</td>\n",
              "      <td>0</td>\n",
              "    </tr>\n",
              "    <tr>\n",
              "      <th>9996</th>\n",
              "      <td>Gloria wears a cat on her head.</td>\n",
              "      <td>Gloria wears a hat on her head.</td>\n",
              "      <td>0</td>\n",
              "    </tr>\n",
              "    <tr>\n",
              "      <th>9997</th>\n",
              "      <td>Harry went to the barbershop to have his hair ...</td>\n",
              "      <td>Harry went to the barbershop to have his glass...</td>\n",
              "      <td>1</td>\n",
              "    </tr>\n",
              "    <tr>\n",
              "      <th>9998</th>\n",
              "      <td>Reilly is sleeping on the couch.</td>\n",
              "      <td>Reilly is sleeping on the window.</td>\n",
              "      <td>1</td>\n",
              "    </tr>\n",
              "    <tr>\n",
              "      <th>9999</th>\n",
              "      <td>I have a desk on my lamp.</td>\n",
              "      <td>I have a lamp on my desk.</td>\n",
              "      <td>0</td>\n",
              "    </tr>\n",
              "  </tbody>\n",
              "</table>\n",
              "<p>10000 rows × 3 columns</p>\n",
              "</div>"
            ],
            "text/plain": [
              "                                                  sent0  ... label\n",
              "id                                                       ...      \n",
              "0                 He poured orange juice on his cereal.  ...     0\n",
              "1                                      He drinks apple.  ...     0\n",
              "2                                Jeff ran a mile today.  ...     1\n",
              "3                                 A mosquito stings me.  ...     1\n",
              "4                                  A niece is a person.  ...     1\n",
              "...                                                 ...  ...   ...\n",
              "9995                  Mark ate a big bitter cherry pie.  ...     0\n",
              "9996                    Gloria wears a cat on her head.  ...     0\n",
              "9997  Harry went to the barbershop to have his hair ...  ...     1\n",
              "9998                   Reilly is sleeping on the couch.  ...     1\n",
              "9999                          I have a desk on my lamp.  ...     0\n",
              "\n",
              "[10000 rows x 3 columns]"
            ]
          },
          "metadata": {
            "tags": []
          },
          "execution_count": 9
        }
      ]
    },
    {
      "cell_type": "markdown",
      "metadata": {
        "id": "4SMZ5T5Imhlx",
        "colab_type": "text"
      },
      "source": [
        "#Let's extract the sentences and labels of our training set as numpy ndarrays."
      ]
    },
    {
      "cell_type": "code",
      "metadata": {
        "id": "GuE5BqICAne2",
        "colab_type": "code",
        "outputId": "d88d5d97-5703-4f0f-c21c-7c8c27382a0b",
        "colab": {
          "base_uri": "https://localhost:8080/",
          "height": 221
        }
      },
      "source": [
        "# Get the lists of sentences and their labels.\n",
        "sentence1 = df.sent1.values\n",
        "sentence0 = df.sent0.values\n",
        "labels = df.label.values\n",
        "\n",
        "labels , sentence0 , sentence1 , len(sentence0)"
      ],
      "execution_count": 10,
      "outputs": [
        {
          "output_type": "execute_result",
          "data": {
            "text/plain": [
              "(array([0, 0, 1, ..., 1, 1, 0]),\n",
              " array(['He poured orange juice on his cereal.', 'He drinks apple.',\n",
              "        'Jeff ran a mile today.', ...,\n",
              "        'Harry went to the barbershop to have his hair cut.',\n",
              "        'Reilly is sleeping on the couch.', 'I have a desk on my lamp.'],\n",
              "       dtype=object),\n",
              " array(['He poured milk on his cereal.', 'He drinks milk.',\n",
              "        'Jeff ran 100,000 miles today.', ...,\n",
              "        'Harry went to the barbershop to have his glasses repaired.',\n",
              "        'Reilly is sleeping on the window.', 'I have a lamp on my desk.'],\n",
              "       dtype=object),\n",
              " 10000)"
            ]
          },
          "metadata": {
            "tags": []
          },
          "execution_count": 10
        }
      ]
    },
    {
      "cell_type": "markdown",
      "metadata": {
        "id": "ex5O1eV-Pfct",
        "colab_type": "text"
      },
      "source": [
        "# 3. Tokenization & Input Formatting\n",
        "\n",
        "In this section, we'll transform our dataset into the format that BERT can be trained on."
      ]
    },
    {
      "cell_type": "markdown",
      "metadata": {
        "id": "-8kEDRvShcU5",
        "colab_type": "text"
      },
      "source": [
        "## 3.1. BERT Tokenizer"
      ]
    },
    {
      "cell_type": "code",
      "metadata": {
        "id": "dLIbudgfh6F0",
        "colab_type": "code",
        "outputId": "6aa43c4c-6fe0-4b8b-d27b-937aca8f5f8b",
        "colab": {
          "base_uri": "https://localhost:8080/",
          "height": 68
        }
      },
      "source": [
        "# Print the original sentence.\n",
        "print(' Original: ', df['sent0'][9999])\n",
        "\n",
        "# Print the sentence split into tokens.\n",
        "print('Tokenized: ', tokenizer.tokenize(df['sent0'][9999]))\n",
        "\n",
        "# Print the sentence mapped to token ids.\n",
        "print('Token IDs: ', tokenizer.convert_tokens_to_ids(tokenizer.tokenize(df['sent0'][9999])))"
      ],
      "execution_count": 11,
      "outputs": [
        {
          "output_type": "stream",
          "text": [
            " Original:  I have a desk on my lamp.\n",
            "Tokenized:  ['▁', 'I', '▁have', '▁a', '▁desk', '▁on', '▁my', '▁lamp', '.']\n",
            "Token IDs:  [13, 1, 57, 21, 2911, 27, 51, 6792, 9]\n"
          ],
          "name": "stdout"
        }
      ]
    },
    {
      "cell_type": "markdown",
      "metadata": {
        "id": "viKGCCh8izww",
        "colab_type": "text"
      },
      "source": [
        "## 3.2. Required Formatting"
      ]
    },
    {
      "cell_type": "markdown",
      "metadata": {
        "colab_type": "text",
        "id": "ow__Ujco6HIK"
      },
      "source": [
        "## 3.2. Sentences to IDs using tokenizer.encode()"
      ]
    },
    {
      "cell_type": "code",
      "metadata": {
        "id": "KL438ghFppPk",
        "colab_type": "code",
        "colab": {}
      },
      "source": [
        "# print('Max sentence length: ', max([len(sen) for sen in input_ids]))"
      ],
      "execution_count": 0,
      "outputs": []
    },
    {
      "cell_type": "code",
      "metadata": {
        "id": "krA6bqf6pz1V",
        "colab_type": "code",
        "colab": {}
      },
      "source": [
        "MAX_LEN = 64"
      ],
      "execution_count": 0,
      "outputs": []
    },
    {
      "cell_type": "code",
      "metadata": {
        "id": "2bBdb3pt8LuQ",
        "colab_type": "code",
        "outputId": "9c4b8076-33f6-4759-c802-1d2a669b4f04",
        "colab": {
          "base_uri": "https://localhost:8080/",
          "height": 122
        }
      },
      "source": [
        "# Tokenize all of the sentences and map the tokens to thier word IDs.\n",
        "input_ids = []\n",
        "input_type_ids = []\n",
        "attention_masks = []\n",
        "\n",
        "# For every sentence...\n",
        "for i in range(len(df)):\n",
        "    tokenizer.padding_side = 'right'\n",
        "    encoded_sent = tokenizer.encode_plus(\n",
        "                        df['sent0'][i],            # Sentence to encode.\n",
        "                        df['sent1'][i],\n",
        "                        add_special_tokens = True, \n",
        "                        max_length = MAX_LEN,\n",
        "                        pad_to_max_length = True\n",
        "                        # This function also supports truncation and conversion to pytorch tensors, but we need to do padding, \n",
        "                        #so we can't use these features :( .\n",
        "                        #max_length = 128,          # Truncate all sentences.\n",
        "                        #return_tensors = 'pt',     # Return pytorch tensors.\n",
        "                        )\n",
        "\n",
        "    #Add the encoded sentence to the list.\n",
        "    input_ids.append(encoded_sent['input_ids'])\n",
        "    input_type_ids.append(encoded_sent['token_type_ids'])\n",
        "    attention_masks.append(encoded_sent['attention_mask'])\n",
        "\n",
        "#Print last sentences of df, now as a list of IDs.\n",
        "print('original: ' , df['sent0'][9999], df['sent1'][9999])\n",
        "print('Token IDs:', input_ids[-1])\n",
        "print('Type IDs:', input_type_ids[-1])\n",
        "print('MASK IDs:', attention_masks[-1])\n",
        "\n",
        "#Original:  I have a desk on my lamp.\n",
        "#Tokenized:  ['▁', 'I', '▁have', '▁a', '▁desk', '▁on', '▁my', '▁lamp', '.']\n",
        "#Token IDs:  [13, 1, 57, 21, 2911, 27, 51, 6792, 9]\n",
        "tokenizer.cls_token_id, tokenizer.sep_token_id"
      ],
      "execution_count": 14,
      "outputs": [
        {
          "output_type": "stream",
          "text": [
            "original:  I have a desk on my lamp. I have a lamp on my desk.\n",
            "Token IDs: [2, 13, 1, 57, 21, 2911, 27, 51, 6792, 9, 3, 13, 1, 57, 21, 6792, 27, 51, 2911, 9, 3, 0, 0, 0, 0, 0, 0, 0, 0, 0, 0, 0, 0, 0, 0, 0, 0, 0, 0, 0, 0, 0, 0, 0, 0, 0, 0, 0, 0, 0, 0, 0, 0, 0, 0, 0, 0, 0, 0, 0, 0, 0, 0, 0]\n",
            "Type IDs: [0, 0, 0, 0, 0, 0, 0, 0, 0, 0, 0, 1, 1, 1, 1, 1, 1, 1, 1, 1, 1, 0, 0, 0, 0, 0, 0, 0, 0, 0, 0, 0, 0, 0, 0, 0, 0, 0, 0, 0, 0, 0, 0, 0, 0, 0, 0, 0, 0, 0, 0, 0, 0, 0, 0, 0, 0, 0, 0, 0, 0, 0, 0, 0]\n",
            "MASK IDs: [1, 1, 1, 1, 1, 1, 1, 1, 1, 1, 1, 1, 1, 1, 1, 1, 1, 1, 1, 1, 1, 0, 0, 0, 0, 0, 0, 0, 0, 0, 0, 0, 0, 0, 0, 0, 0, 0, 0, 0, 0, 0, 0, 0, 0, 0, 0, 0, 0, 0, 0, 0, 0, 0, 0, 0, 0, 0, 0, 0, 0, 0, 0, 0]\n"
          ],
          "name": "stdout"
        },
        {
          "output_type": "execute_result",
          "data": {
            "text/plain": [
              "(2, 3)"
            ]
          },
          "metadata": {
            "tags": []
          },
          "execution_count": 14
        }
      ]
    },
    {
      "cell_type": "markdown",
      "metadata": {
        "id": "aRp4O7D295d_",
        "colab_type": "text"
      },
      "source": [
        "## 3.5. Training & Validation Split\n"
      ]
    },
    {
      "cell_type": "code",
      "metadata": {
        "id": "aFbE-UHvsb7-",
        "colab_type": "code",
        "colab": {}
      },
      "source": [
        "# Use train_test_split to split our data into train and validation sets for training\n",
        "from sklearn.model_selection import train_test_split\n",
        "import random\n",
        "\n",
        "# Set the seed value all over the place to make this reproducible.\n",
        "seed_val = 42\n",
        "\n",
        "random.seed(seed_val)\n",
        "np.random.seed(seed_val)\n",
        "torch.manual_seed(seed_val)\n",
        "torch.cuda.manual_seed_all(seed_val)\n",
        "\n",
        "# Use 90% for training and 10% for validation.\n",
        "train_inputs, validation_inputs, train_labels, validation_labels, train_type_ids, validation_type_ids, train_masks, validation_masks = (\n",
        "    train_test_split(input_ids, labels, input_type_ids, attention_masks, random_state=2018, test_size=0.1))\n"
      ],
      "execution_count": 0,
      "outputs": []
    },
    {
      "cell_type": "markdown",
      "metadata": {
        "id": "7LzSbTqW9_BR",
        "colab_type": "text"
      },
      "source": [
        "\n",
        "## 3.6. Converting to PyTorch Data Types"
      ]
    },
    {
      "cell_type": "code",
      "metadata": {
        "id": "jw5K2A5Ko1RF",
        "colab_type": "code",
        "colab": {}
      },
      "source": [
        "# Convert all inputs and labels into torch tensors, the required datatype \n",
        "# for our model.\n",
        "\n",
        "train_type_ids = torch.tensor(train_type_ids) \n",
        "validation_type_ids = torch.tensor(validation_type_ids)\n",
        "\n",
        "train_inputs = torch.tensor(train_inputs)\n",
        "validation_inputs = torch.tensor(validation_inputs)\n",
        "\n",
        "train_labels = torch.tensor(train_labels)\n",
        "validation_labels = torch.tensor(validation_labels)\n",
        "\n",
        "train_masks = torch.tensor(train_masks)\n",
        "validation_masks = torch.tensor(validation_masks)\n"
      ],
      "execution_count": 0,
      "outputs": []
    },
    {
      "cell_type": "code",
      "metadata": {
        "id": "GEgLpFVlo1Z-",
        "colab_type": "code",
        "colab": {}
      },
      "source": [
        "from torch.utils.data import TensorDataset, DataLoader, RandomSampler, SequentialSampler\n",
        "\n",
        "# The DataLoader needs to know our batch size for training, so we specify it \n",
        "# here.\n",
        "# For fine-tuning BERT on a specific task, the authors recommend a batch size of\n",
        "# 16 or 32.\n",
        "\n",
        "batch_size = 16\n",
        "\n",
        "# Create the DataLoader for our training set.\n",
        "train_data = TensorDataset(train_inputs, train_masks, train_labels, train_type_ids)\n",
        "train_sampler = RandomSampler(train_data)\n",
        "train_dataloader = DataLoader(train_data, sampler=train_sampler, batch_size=batch_size)\n",
        "\n",
        "# Create the DataLoader for our validation set.\n",
        "validation_data = TensorDataset(validation_inputs, validation_masks, validation_labels, validation_type_ids)\n",
        "validation_sampler = SequentialSampler(validation_data)\n",
        "validation_dataloader = DataLoader(validation_data, sampler=validation_sampler, batch_size=batch_size)\n"
      ],
      "execution_count": 0,
      "outputs": []
    },
    {
      "cell_type": "markdown",
      "metadata": {
        "id": "8bwa6Rts-02-",
        "colab_type": "text"
      },
      "source": [
        "# 4. Train Our Classification Model"
      ]
    },
    {
      "cell_type": "markdown",
      "metadata": {
        "id": "D6TKgyUzPIQc",
        "colab_type": "text"
      },
      "source": [
        "## 4.1. BertForSequenceClassification"
      ]
    },
    {
      "cell_type": "code",
      "metadata": {
        "id": "8PIiVlDYCtSq",
        "colab_type": "code",
        "colab": {}
      },
      "source": [
        "# # Get all of the model's parameters as a list of tuples.\n",
        "# params = list(model.named_parameters())\n",
        "\n",
        "# print('The BERT model has {:} different named parameters.\\n'.format(len(params)))\n",
        "\n",
        "# print('==== Embedding Layer ====\\n')\n",
        "\n",
        "# for p in params[0:5]:\n",
        "#     print(\"{:<55} {:>12}\".format(p[0], str(tuple(p[1].size()))))\n",
        "\n",
        "# print('\\n==== First Transformer ====\\n')\n",
        "\n",
        "# for p in params[5:21]:\n",
        "#     print(\"{:<55} {:>12}\".format(p[0], str(tuple(p[1].size()))))\n",
        "\n",
        "# print('\\n==== Output Layer ====\\n')\n",
        "\n",
        "# for p in params[-4:]:\n",
        "#     print(\"{:<55} {:>12}\".format(p[0], str(tuple(p[1].size()))))"
      ],
      "execution_count": 0,
      "outputs": []
    },
    {
      "cell_type": "markdown",
      "metadata": {
        "id": "qRWT-D4U_Pvx",
        "colab_type": "text"
      },
      "source": [
        "## 4.2. Optimizer & Learning Rate Scheduler"
      ]
    },
    {
      "cell_type": "code",
      "metadata": {
        "id": "GLs72DuMODJO",
        "colab_type": "code",
        "colab": {}
      },
      "source": [
        "model.cuda();\n",
        "# Note: AdamW is a class from the huggingface library (as opposed to pytorch) \n",
        "# I believe the 'W' stands for 'Weight Decay fix\"\n",
        "optimizer = AdamW(model.parameters(),\n",
        "                  lr = 1e-5, # args.learning_rate - default is 5e-5, our notebook had 2e-5\n",
        "                  eps = 1e-8 # args.adam_epsilon  - default is 1e-8.\n",
        "                )"
      ],
      "execution_count": 0,
      "outputs": []
    },
    {
      "cell_type": "code",
      "metadata": {
        "id": "-p0upAhhRiIx",
        "colab_type": "code",
        "outputId": "0366d057-637b-4862-98a3-002fbc9372ee",
        "colab": {
          "base_uri": "https://localhost:8080/",
          "height": 68
        }
      },
      "source": [
        "from transformers import get_linear_schedule_with_warmup\n",
        "\n",
        "# Number of training epochs (authors recommend between 2 and 4)\n",
        "epochs = 40\n",
        "\n",
        "# Total number of training steps is number of batches * number of epochs.\n",
        "print('len(train_dataloader)', len(train_dataloader))\n",
        "total_steps = len(train_dataloader) * epochs\n",
        "print('total_steps', total_steps)\n",
        "warmup_steps = int(0.06 * total_steps)\n",
        "print('warmup_steps', warmup_steps)\n",
        "# Create the learning rate scheduler.\n",
        "scheduler = get_linear_schedule_with_warmup(optimizer, \n",
        "                                            num_warmup_steps = warmup_steps, # Default value in run_glue.py\n",
        "                                            num_training_steps = total_steps)"
      ],
      "execution_count": 20,
      "outputs": [
        {
          "output_type": "stream",
          "text": [
            "len(train_dataloader) 563\n",
            "total_steps 22520\n",
            "warmup_steps 1351\n"
          ],
          "name": "stdout"
        }
      ]
    },
    {
      "cell_type": "markdown",
      "metadata": {
        "id": "RqfmWwUR_Sox",
        "colab_type": "text"
      },
      "source": [
        "## 4.3. Training Loop"
      ]
    },
    {
      "cell_type": "markdown",
      "metadata": {
        "id": "pE5B99H5H2-W",
        "colab_type": "text"
      },
      "source": [
        "###Define a helper function for calculating accuracy."
      ]
    },
    {
      "cell_type": "code",
      "metadata": {
        "id": "9cQNvaZ9bnyy",
        "colab_type": "code",
        "colab": {}
      },
      "source": [
        "import numpy as np\n",
        "\n",
        "# Function to calculate the accuracy of our predictions vs labels\n",
        "def flat_accuracy(preds, labels):\n",
        "    pred_flat = np.argmax(preds, axis=1).flatten()\n",
        "    labels_flat = labels.flatten()\n",
        "    return np.sum(pred_flat == labels_flat) / len(labels_flat)"
      ],
      "execution_count": 0,
      "outputs": []
    },
    {
      "cell_type": "code",
      "metadata": {
        "id": "gpt6tR83keZD",
        "colab_type": "code",
        "colab": {}
      },
      "source": [
        "import time\n",
        "import datetime\n",
        "\n",
        "def format_time(elapsed):\n",
        "    '''\n",
        "    Takes a time in seconds and returns a string hh:mm:ss\n",
        "    '''\n",
        "    # Round to the nearest second.\n",
        "    elapsed_rounded = int(round((elapsed)))\n",
        "    \n",
        "    # Format as hh:mm:ss\n",
        "    return str(datetime.timedelta(seconds=elapsed_rounded))\n"
      ],
      "execution_count": 0,
      "outputs": []
    },
    {
      "cell_type": "markdown",
      "metadata": {
        "id": "cfNIhN19te3N",
        "colab_type": "text"
      },
      "source": [
        "We're ready to kick off the training!"
      ]
    },
    {
      "cell_type": "code",
      "metadata": {
        "id": "6J-FYdx6nFE_",
        "colab_type": "code",
        "colab": {
          "base_uri": "https://localhost:8080/",
          "height": 1000
        },
        "outputId": "8c959223-03c2-45d1-8342-d754c6b884fc"
      },
      "source": [
        "import random\n",
        "\n",
        "# This training code is based on the `run_glue.py` script here:\n",
        "# https://github.com/huggingface/transformers/blob/5bfcd0485ece086ebcbed2d008813037968a9e58/examples/run_glue.py#L128\n",
        "\n",
        "\n",
        "# Set the seed value all over the place to make this reproducible.\n",
        "seed_val = 42\n",
        "\n",
        "random.seed(seed_val)\n",
        "np.random.seed(seed_val)\n",
        "torch.manual_seed(seed_val)\n",
        "torch.cuda.manual_seed_all(seed_val)\n",
        "\n",
        "# Store the average loss after each epoch so we can plot them.\n",
        "loss_values = []\n",
        "\n",
        "# For each epoch...\n",
        "for epoch_i in range(0, epochs):\n",
        "    \n",
        "    # ========================================\n",
        "    #               Training\n",
        "    # ========================================\n",
        "    \n",
        "    # Perform one full pass over the training set.\n",
        "\n",
        "    print(\"\")\n",
        "    print('======== Epoch {:} / {:} ========'.format(epoch_i + 1, epochs))\n",
        "    print('Training...')\n",
        "\n",
        "    # Measure how long the training epoch takes.\n",
        "    t0 = time.time()\n",
        "\n",
        "    # Reset the total loss for this epoch.\n",
        "    total_loss = 0\n",
        "\n",
        "    # Put the model into training mode. Don't be mislead--the call to \n",
        "    # `train` just changes the *mode*, it doesn't *perform* the training.\n",
        "    # `dropout` and `batchnorm` layers behave differently during training\n",
        "    # vs. test (source: https://stackoverflow.com/questions/51433378/what-does-model-train-do-in-pytorch)\n",
        "    model.train()\n",
        "\n",
        "    # For each batch of training data...\n",
        "    for step, batch in enumerate(train_dataloader):\n",
        "\n",
        "        # Progress update every 40 batches.\n",
        "        if step % 40 == 0 and not step == 0:\n",
        "            # Calculate elapsed time in minutes.\n",
        "            elapsed = format_time(time.time() - t0)\n",
        "            \n",
        "            # Report progress.\n",
        "            print('  Batch {:>5,}  of  {:>5,}.    Elapsed: {:}    LR . {:.2E}'.format(step, len(train_dataloader), elapsed, scheduler.get_lr()[0]))\n",
        "\n",
        "        # Unpack this training batch from our dataloader. \n",
        "        #\n",
        "        # As we unpack the batch, we'll also copy each tensor to the GPU using the \n",
        "        # `to` method.\n",
        "        #\n",
        "        # `batch` contains three pytorch tensors:\n",
        "        #   [0]: input ids \n",
        "        #   [1]: attention masks\n",
        "        #   [2]: labels \n",
        "        b_input_ids = batch[0].to(device)\n",
        "        b_input_mask = batch[1].to(device)\n",
        "        b_labels = batch[2].to(device)\n",
        "        b_type_ids = batch[3].to(device)\n",
        "        # Always clear any previously calculated gradients before performing a\n",
        "        # backward pass. PyTorch doesn't do this automatically because \n",
        "        # accumulating the gradients is \"convenient while training RNNs\". \n",
        "        # (source: https://stackoverflow.com/questions/48001598/why-do-we-need-to-call-zero-grad-in-pytorch)\n",
        "        model.zero_grad()        \n",
        "\n",
        "        # Perform a forward pass (evaluate the model on this training batch).\n",
        "        # This will return the loss (rather than the model output) because we\n",
        "        # have provided the `labels`.\n",
        "        # The documentation for this `model` function is here: \n",
        "        # https://huggingface.co/transformers/v2.2.0/model_doc/bert.html#transformers.BertForSequenceClassification\n",
        "        outputs = model(b_input_ids, \n",
        "                    token_type_ids=b_type_ids, \n",
        "                    attention_mask=b_input_mask, \n",
        "                    labels=b_labels)\n",
        "        \n",
        "        # The call to `model` always returns a tuple, so we need to pull the \n",
        "        # loss value out of the tuple.\n",
        "        loss = outputs[0]\n",
        "\n",
        "        # Accumulate the training loss over all of the batches so that we can\n",
        "        # calculate the average loss at the end. `loss` is a Tensor containing a\n",
        "        # single value; the `.item()` function just returns the Python value \n",
        "        # from the tensor.\n",
        "        total_loss += loss.item()\n",
        "\n",
        "        # Perform a backward pass to calculate the gradients.\n",
        "        loss.backward()\n",
        "\n",
        "        # Clip the norm of the gradients to 1.0.\n",
        "        # This is to help prevent the \"exploding gradients\" problem.\n",
        "        torch.nn.utils.clip_grad_norm_(model.parameters(), 1.0)\n",
        "\n",
        "        # Update parameters and take a step using the computed gradient.\n",
        "        # The optimizer dictates the \"update rule\"--how the parameters are\n",
        "        # modified based on their gradients, the learning rate, etc.\n",
        "        optimizer.step()\n",
        "\n",
        "        # Update the learning rate.\n",
        "        scheduler.step()\n",
        "\n",
        "    # Calculate the average loss over the training data.\n",
        "    avg_train_loss = total_loss / len(train_dataloader)            \n",
        "    \n",
        "    # Store the loss value for plotting the learning curve.\n",
        "    loss_values.append(avg_train_loss)\n",
        "\n",
        "    print(\"\")\n",
        "    print(\"  Average training loss: {0:.2f}\".format(avg_train_loss))\n",
        "    print(\"  Training epcoh took: {:}\".format(format_time(time.time() - t0)))\n",
        "        \n",
        "    # ========================================\n",
        "    #               Validation\n",
        "    # ========================================\n",
        "    # After the completion of each training epoch, measure our performance on\n",
        "    # our validation set.\n",
        "\n",
        "    print(\"\")\n",
        "    print(\"Running Validation...\")\n",
        "\n",
        "    t0 = time.time()\n",
        "\n",
        "    # Put the model in evaluation mode--the dropout layers behave differently\n",
        "    # during evaluation.\n",
        "    model.eval()\n",
        "\n",
        "    # Tracking variables \n",
        "    eval_loss, eval_accuracy = 0, 0\n",
        "    nb_eval_steps, nb_eval_examples = 0, 0\n",
        "\n",
        "    # Evaluate data for one epoch\n",
        "    for batch in validation_dataloader:\n",
        "        \n",
        "        # Add batch to GPU\n",
        "        batch = tuple(t.to(device) for t in batch)\n",
        "        \n",
        "        # Unpack the inputs from our dataloader\n",
        "        b_input_ids, b_input_mask, b_labels, b_type_ids = batch\n",
        "\n",
        "        # Telling the model not to compute or store gradients, saving memory and\n",
        "        # speeding up validation\n",
        "        with torch.no_grad():        \n",
        "\n",
        "            # Forward pass, calculate logit predictions.\n",
        "            # This will return the logits rather than the loss because we have\n",
        "            # not provided labels.\n",
        "            # token_type_ids is the same as the \"segment ids\", which \n",
        "            # differentiates sentence 1 and 2 in 2-sentence tasks.\n",
        "            # The documentation for this `model` function is here: \n",
        "            # https://huggingface.co/transformers/v2.2.0/model_doc/bert.html#transformers.BertForSequenceClassification\n",
        "            outputs = model(b_input_ids, \n",
        "                            token_type_ids=b_type_ids, \n",
        "                            attention_mask=b_input_mask)\n",
        "        \n",
        "        # Get the \"logits\" output by the model. The \"logits\" are the output\n",
        "        # values prior to applying an activation function like the softmax.\n",
        "        logits = outputs[0]\n",
        "\n",
        "        # Move logits and labels to CPU\n",
        "        logits = logits.detach().cpu().numpy()\n",
        "        label_ids = b_labels.to('cpu').numpy()\n",
        "        \n",
        "        # Calculate the accuracy for this batch of test sentences.\n",
        "        tmp_eval_accuracy = flat_accuracy(logits, label_ids)\n",
        "        \n",
        "        # Accumulate the total accuracy.\n",
        "        eval_accuracy += tmp_eval_accuracy\n",
        "\n",
        "        # Track the number of batches\n",
        "        nb_eval_steps += 1\n",
        "\n",
        "    # Report the final accuracy for this validation run.\n",
        "    print(\"  Accuracy: {0:.2f}\".format(eval_accuracy/nb_eval_steps))\n",
        "    print(\"  Validation took: {:}\".format(format_time(time.time() - t0)))\n",
        "\n",
        "print(\"\")\n",
        "print(\"Training complete!\")"
      ],
      "execution_count": 0,
      "outputs": [
        {
          "output_type": "stream",
          "text": [
            "\n",
            "======== Epoch 1 / 40 ========\n",
            "Training...\n"
          ],
          "name": "stdout"
        },
        {
          "output_type": "stream",
          "text": [
            "/usr/local/lib/python3.6/dist-packages/torch/optim/lr_scheduler.py:224: UserWarning: To get the last learning rate computed by the scheduler, please use `get_last_lr()`.\n",
            "  warnings.warn(\"To get the last learning rate computed by the scheduler, \"\n"
          ],
          "name": "stderr"
        },
        {
          "output_type": "stream",
          "text": [
            "  Batch    40  of    563.    Elapsed: 0:01:27    LR . 2.96E-07\n",
            "  Batch    80  of    563.    Elapsed: 0:02:53    LR . 5.92E-07\n",
            "  Batch   120  of    563.    Elapsed: 0:04:19    LR . 8.88E-07\n",
            "  Batch   160  of    563.    Elapsed: 0:05:46    LR . 1.18E-06\n",
            "  Batch   200  of    563.    Elapsed: 0:07:12    LR . 1.48E-06\n",
            "  Batch   240  of    563.    Elapsed: 0:08:39    LR . 1.78E-06\n",
            "  Batch   280  of    563.    Elapsed: 0:10:05    LR . 2.07E-06\n",
            "  Batch   320  of    563.    Elapsed: 0:11:32    LR . 2.37E-06\n",
            "  Batch   360  of    563.    Elapsed: 0:12:58    LR . 2.66E-06\n",
            "  Batch   400  of    563.    Elapsed: 0:14:24    LR . 2.96E-06\n",
            "  Batch   440  of    563.    Elapsed: 0:15:51    LR . 3.26E-06\n",
            "  Batch   480  of    563.    Elapsed: 0:17:17    LR . 3.55E-06\n",
            "  Batch   520  of    563.    Elapsed: 0:18:44    LR . 3.85E-06\n",
            "  Batch   560  of    563.    Elapsed: 0:20:10    LR . 4.15E-06\n",
            "\n",
            "  Average training loss: 0.50\n",
            "  Training epcoh took: 0:20:15\n",
            "\n",
            "Running Validation...\n",
            "  Accuracy: 0.87\n",
            "  Validation took: 0:00:47\n",
            "\n",
            "======== Epoch 2 / 40 ========\n",
            "Training...\n",
            "  Batch    40  of    563.    Elapsed: 0:01:26    LR . 4.46E-06\n",
            "  Batch    80  of    563.    Elapsed: 0:02:53    LR . 4.76E-06\n",
            "  Batch   120  of    563.    Elapsed: 0:04:19    LR . 5.06E-06\n",
            "  Batch   160  of    563.    Elapsed: 0:05:46    LR . 5.35E-06\n",
            "  Batch   200  of    563.    Elapsed: 0:07:12    LR . 5.65E-06\n",
            "  Batch   240  of    563.    Elapsed: 0:08:39    LR . 5.94E-06\n",
            "  Batch   280  of    563.    Elapsed: 0:10:05    LR . 6.24E-06\n",
            "  Batch   320  of    563.    Elapsed: 0:11:31    LR . 6.54E-06\n",
            "  Batch   360  of    563.    Elapsed: 0:12:58    LR . 6.83E-06\n",
            "  Batch   400  of    563.    Elapsed: 0:14:24    LR . 7.13E-06\n",
            "  Batch   440  of    563.    Elapsed: 0:15:51    LR . 7.42E-06\n",
            "  Batch   480  of    563.    Elapsed: 0:17:17    LR . 7.72E-06\n",
            "  Batch   520  of    563.    Elapsed: 0:18:43    LR . 8.02E-06\n",
            "  Batch   560  of    563.    Elapsed: 0:20:10    LR . 8.31E-06\n",
            "\n",
            "  Average training loss: 0.20\n",
            "  Training epcoh took: 0:20:15\n",
            "\n",
            "Running Validation...\n",
            "  Accuracy: 0.90\n",
            "  Validation took: 0:00:47\n",
            "\n",
            "======== Epoch 3 / 40 ========\n",
            "Training...\n",
            "  Batch    40  of    563.    Elapsed: 0:01:26    LR . 8.63E-06\n",
            "  Batch    80  of    563.    Elapsed: 0:02:53    LR . 8.93E-06\n",
            "  Batch   120  of    563.    Elapsed: 0:04:19    LR . 9.22E-06\n",
            "  Batch   160  of    563.    Elapsed: 0:05:45    LR . 9.52E-06\n",
            "  Batch   200  of    563.    Elapsed: 0:07:12    LR . 9.81E-06\n",
            "  Batch   240  of    563.    Elapsed: 0:08:38    LR . 9.99E-06\n",
            "  Batch   280  of    563.    Elapsed: 0:10:04    LR . 9.97E-06\n",
            "  Batch   320  of    563.    Elapsed: 0:11:31    LR . 9.96E-06\n",
            "  Batch   360  of    563.    Elapsed: 0:12:57    LR . 9.94E-06\n",
            "  Batch   400  of    563.    Elapsed: 0:14:23    LR . 9.92E-06\n",
            "  Batch   440  of    563.    Elapsed: 0:15:50    LR . 9.90E-06\n",
            "  Batch   480  of    563.    Elapsed: 0:17:16    LR . 9.88E-06\n",
            "  Batch   520  of    563.    Elapsed: 0:18:42    LR . 9.86E-06\n",
            "  Batch   560  of    563.    Elapsed: 0:20:09    LR . 9.84E-06\n",
            "\n",
            "  Average training loss: 0.10\n",
            "  Training epcoh took: 0:20:14\n",
            "\n",
            "Running Validation...\n",
            "  Accuracy: 0.91\n",
            "  Validation took: 0:00:47\n",
            "\n",
            "======== Epoch 4 / 40 ========\n",
            "Training...\n",
            "  Batch    40  of    563.    Elapsed: 0:01:26    LR . 9.82E-06\n",
            "  Batch    80  of    563.    Elapsed: 0:02:53    LR . 9.80E-06\n",
            "  Batch   120  of    563.    Elapsed: 0:04:19    LR . 9.78E-06\n",
            "  Batch   160  of    563.    Elapsed: 0:05:45    LR . 9.76E-06\n",
            "  Batch   200  of    563.    Elapsed: 0:07:11    LR . 9.75E-06\n",
            "  Batch   240  of    563.    Elapsed: 0:08:38    LR . 9.73E-06\n",
            "  Batch   280  of    563.    Elapsed: 0:10:04    LR . 9.71E-06\n",
            "  Batch   320  of    563.    Elapsed: 0:11:30    LR . 9.69E-06\n",
            "  Batch   360  of    563.    Elapsed: 0:12:56    LR . 9.67E-06\n",
            "  Batch   400  of    563.    Elapsed: 0:14:23    LR . 9.65E-06\n",
            "  Batch   440  of    563.    Elapsed: 0:15:49    LR . 9.63E-06\n",
            "  Batch   480  of    563.    Elapsed: 0:17:15    LR . 9.61E-06\n",
            "  Batch   520  of    563.    Elapsed: 0:18:42    LR . 9.59E-06\n",
            "  Batch   560  of    563.    Elapsed: 0:20:08    LR . 9.58E-06\n",
            "\n",
            "  Average training loss: 0.04\n",
            "  Training epcoh took: 0:20:13\n",
            "\n",
            "Running Validation...\n",
            "  Accuracy: 0.91\n",
            "  Validation took: 0:00:47\n",
            "\n",
            "======== Epoch 5 / 40 ========\n",
            "Training...\n",
            "  Batch    40  of    563.    Elapsed: 0:01:26    LR . 9.56E-06\n",
            "  Batch    80  of    563.    Elapsed: 0:02:53    LR . 9.54E-06\n",
            "  Batch   120  of    563.    Elapsed: 0:04:19    LR . 9.52E-06\n",
            "  Batch   160  of    563.    Elapsed: 0:05:45    LR . 9.50E-06\n",
            "  Batch   200  of    563.    Elapsed: 0:07:11    LR . 9.48E-06\n",
            "  Batch   240  of    563.    Elapsed: 0:08:38    LR . 9.46E-06\n",
            "  Batch   280  of    563.    Elapsed: 0:10:04    LR . 9.44E-06\n",
            "  Batch   320  of    563.    Elapsed: 0:11:30    LR . 9.42E-06\n",
            "  Batch   360  of    563.    Elapsed: 0:12:57    LR . 9.40E-06\n",
            "  Batch   400  of    563.    Elapsed: 0:14:23    LR . 9.39E-06\n",
            "  Batch   440  of    563.    Elapsed: 0:15:49    LR . 9.37E-06\n",
            "  Batch   480  of    563.    Elapsed: 0:17:15    LR . 9.35E-06\n",
            "  Batch   520  of    563.    Elapsed: 0:18:42    LR . 9.33E-06\n",
            "  Batch   560  of    563.    Elapsed: 0:20:08    LR . 9.31E-06\n",
            "\n",
            "  Average training loss: 0.03\n",
            "  Training epcoh took: 0:20:13\n",
            "\n",
            "Running Validation...\n",
            "  Accuracy: 0.91\n",
            "  Validation took: 0:00:47\n",
            "\n",
            "======== Epoch 6 / 40 ========\n",
            "Training...\n",
            "  Batch    40  of    563.    Elapsed: 0:01:26    LR . 9.29E-06\n",
            "  Batch    80  of    563.    Elapsed: 0:02:53    LR . 9.27E-06\n",
            "  Batch   120  of    563.    Elapsed: 0:04:19    LR . 9.25E-06\n",
            "  Batch   160  of    563.    Elapsed: 0:05:45    LR . 9.23E-06\n",
            "  Batch   200  of    563.    Elapsed: 0:07:11    LR . 9.21E-06\n",
            "  Batch   240  of    563.    Elapsed: 0:08:38    LR . 9.20E-06\n",
            "  Batch   280  of    563.    Elapsed: 0:10:04    LR . 9.18E-06\n",
            "  Batch   320  of    563.    Elapsed: 0:11:30    LR . 9.16E-06\n",
            "  Batch   360  of    563.    Elapsed: 0:12:57    LR . 9.14E-06\n",
            "  Batch   400  of    563.    Elapsed: 0:14:23    LR . 9.12E-06\n",
            "  Batch   440  of    563.    Elapsed: 0:15:49    LR . 9.10E-06\n",
            "  Batch   480  of    563.    Elapsed: 0:17:15    LR . 9.08E-06\n",
            "  Batch   520  of    563.    Elapsed: 0:18:42    LR . 9.06E-06\n",
            "  Batch   560  of    563.    Elapsed: 0:20:08    LR . 9.04E-06\n",
            "\n",
            "  Average training loss: 0.02\n",
            "  Training epcoh took: 0:20:13\n",
            "\n",
            "Running Validation...\n",
            "  Accuracy: 0.92\n",
            "  Validation took: 0:00:47\n",
            "\n",
            "======== Epoch 7 / 40 ========\n",
            "Training...\n",
            "  Batch    40  of    563.    Elapsed: 0:01:26    LR . 9.02E-06\n",
            "  Batch    80  of    563.    Elapsed: 0:02:53    LR . 9.00E-06\n",
            "  Batch   120  of    563.    Elapsed: 0:04:19    LR . 8.99E-06\n",
            "  Batch   160  of    563.    Elapsed: 0:05:45    LR . 8.97E-06\n",
            "  Batch   200  of    563.    Elapsed: 0:07:12    LR . 8.95E-06\n",
            "  Batch   240  of    563.    Elapsed: 0:08:38    LR . 8.93E-06\n",
            "  Batch   280  of    563.    Elapsed: 0:10:04    LR . 8.91E-06\n",
            "  Batch   320  of    563.    Elapsed: 0:11:30    LR . 8.89E-06\n",
            "  Batch   360  of    563.    Elapsed: 0:12:57    LR . 8.87E-06\n",
            "  Batch   400  of    563.    Elapsed: 0:14:23    LR . 8.85E-06\n",
            "  Batch   440  of    563.    Elapsed: 0:15:49    LR . 8.83E-06\n",
            "  Batch   480  of    563.    Elapsed: 0:17:16    LR . 8.82E-06\n",
            "  Batch   520  of    563.    Elapsed: 0:18:42    LR . 8.80E-06\n",
            "  Batch   560  of    563.    Elapsed: 0:20:08    LR . 8.78E-06\n",
            "\n",
            "  Average training loss: 0.02\n",
            "  Training epcoh took: 0:20:14\n",
            "\n",
            "Running Validation...\n",
            "  Accuracy: 0.91\n",
            "  Validation took: 0:00:47\n",
            "\n",
            "======== Epoch 8 / 40 ========\n",
            "Training...\n",
            "  Batch    40  of    563.    Elapsed: 0:01:26    LR . 8.76E-06\n",
            "  Batch    80  of    563.    Elapsed: 0:02:53    LR . 8.74E-06\n",
            "  Batch   120  of    563.    Elapsed: 0:04:19    LR . 8.72E-06\n",
            "  Batch   160  of    563.    Elapsed: 0:05:45    LR . 8.70E-06\n",
            "  Batch   200  of    563.    Elapsed: 0:07:12    LR . 8.68E-06\n",
            "  Batch   240  of    563.    Elapsed: 0:08:38    LR . 8.66E-06\n",
            "  Batch   280  of    563.    Elapsed: 0:10:04    LR . 8.64E-06\n",
            "  Batch   320  of    563.    Elapsed: 0:11:31    LR . 8.63E-06\n",
            "  Batch   360  of    563.    Elapsed: 0:12:57    LR . 8.61E-06\n",
            "  Batch   400  of    563.    Elapsed: 0:14:23    LR . 8.59E-06\n",
            "  Batch   440  of    563.    Elapsed: 0:15:50    LR . 8.57E-06\n",
            "  Batch   480  of    563.    Elapsed: 0:17:16    LR . 8.55E-06\n",
            "  Batch   520  of    563.    Elapsed: 0:18:42    LR . 8.53E-06\n",
            "  Batch   560  of    563.    Elapsed: 0:20:09    LR . 8.51E-06\n",
            "\n",
            "  Average training loss: 0.01\n",
            "  Training epcoh took: 0:20:14\n",
            "\n",
            "Running Validation...\n",
            "  Accuracy: 0.91\n",
            "  Validation took: 0:00:47\n",
            "\n",
            "======== Epoch 9 / 40 ========\n",
            "Training...\n",
            "  Batch    40  of    563.    Elapsed: 0:01:26    LR . 8.49E-06\n",
            "  Batch    80  of    563.    Elapsed: 0:02:53    LR . 8.47E-06\n",
            "  Batch   120  of    563.    Elapsed: 0:04:19    LR . 8.45E-06\n",
            "  Batch   160  of    563.    Elapsed: 0:05:45    LR . 8.43E-06\n",
            "  Batch   200  of    563.    Elapsed: 0:07:12    LR . 8.42E-06\n",
            "  Batch   240  of    563.    Elapsed: 0:08:38    LR . 8.40E-06\n",
            "  Batch   280  of    563.    Elapsed: 0:10:04    LR . 8.38E-06\n",
            "  Batch   320  of    563.    Elapsed: 0:11:31    LR . 8.36E-06\n",
            "  Batch   360  of    563.    Elapsed: 0:12:57    LR . 8.34E-06\n",
            "  Batch   400  of    563.    Elapsed: 0:14:23    LR . 8.32E-06\n",
            "  Batch   440  of    563.    Elapsed: 0:15:50    LR . 8.30E-06\n",
            "  Batch   480  of    563.    Elapsed: 0:17:16    LR . 8.28E-06\n",
            "  Batch   520  of    563.    Elapsed: 0:18:42    LR . 8.26E-06\n",
            "  Batch   560  of    563.    Elapsed: 0:20:09    LR . 8.25E-06\n",
            "\n",
            "  Average training loss: 0.03\n",
            "  Training epcoh took: 0:20:14\n",
            "\n",
            "Running Validation...\n",
            "  Accuracy: 0.91\n",
            "  Validation took: 0:00:47\n",
            "\n",
            "======== Epoch 10 / 40 ========\n",
            "Training...\n",
            "  Batch    40  of    563.    Elapsed: 0:01:26    LR . 8.23E-06\n",
            "  Batch    80  of    563.    Elapsed: 0:02:53    LR . 8.21E-06\n",
            "  Batch   120  of    563.    Elapsed: 0:04:19    LR . 8.19E-06\n",
            "  Batch   160  of    563.    Elapsed: 0:05:45    LR . 8.17E-06\n",
            "  Batch   200  of    563.    Elapsed: 0:07:12    LR . 8.15E-06\n",
            "  Batch   240  of    563.    Elapsed: 0:08:38    LR . 8.13E-06\n",
            "  Batch   280  of    563.    Elapsed: 0:10:04    LR . 8.11E-06\n",
            "  Batch   320  of    563.    Elapsed: 0:11:30    LR . 8.09E-06\n",
            "  Batch   360  of    563.    Elapsed: 0:12:57    LR . 8.07E-06\n",
            "  Batch   400  of    563.    Elapsed: 0:14:23    LR . 8.06E-06\n",
            "  Batch   440  of    563.    Elapsed: 0:15:49    LR . 8.04E-06\n",
            "  Batch   480  of    563.    Elapsed: 0:17:16    LR . 8.02E-06\n",
            "  Batch   520  of    563.    Elapsed: 0:18:42    LR . 8.00E-06\n",
            "  Batch   560  of    563.    Elapsed: 0:20:08    LR . 7.98E-06\n",
            "\n",
            "  Average training loss: 0.01\n",
            "  Training epcoh took: 0:20:14\n",
            "\n",
            "Running Validation...\n",
            "  Accuracy: 0.91\n",
            "  Validation took: 0:00:47\n",
            "\n",
            "======== Epoch 11 / 40 ========\n",
            "Training...\n",
            "  Batch    40  of    563.    Elapsed: 0:01:26    LR . 7.96E-06\n",
            "  Batch    80  of    563.    Elapsed: 0:02:53    LR . 7.94E-06\n",
            "  Batch   120  of    563.    Elapsed: 0:04:19    LR . 7.92E-06\n",
            "  Batch   160  of    563.    Elapsed: 0:05:45    LR . 7.90E-06\n",
            "  Batch   200  of    563.    Elapsed: 0:07:11    LR . 7.88E-06\n",
            "  Batch   240  of    563.    Elapsed: 0:08:38    LR . 7.87E-06\n",
            "  Batch   280  of    563.    Elapsed: 0:10:04    LR . 7.85E-06\n",
            "  Batch   320  of    563.    Elapsed: 0:11:30    LR . 7.83E-06\n",
            "  Batch   360  of    563.    Elapsed: 0:12:57    LR . 7.81E-06\n",
            "  Batch   400  of    563.    Elapsed: 0:14:23    LR . 7.79E-06\n",
            "  Batch   440  of    563.    Elapsed: 0:15:49    LR . 7.77E-06\n",
            "  Batch   480  of    563.    Elapsed: 0:17:16    LR . 7.75E-06\n",
            "  Batch   520  of    563.    Elapsed: 0:18:42    LR . 7.73E-06\n",
            "  Batch   560  of    563.    Elapsed: 0:20:08    LR . 7.71E-06\n",
            "\n",
            "  Average training loss: 0.02\n",
            "  Training epcoh took: 0:20:14\n",
            "\n",
            "Running Validation...\n",
            "  Accuracy: 0.90\n",
            "  Validation took: 0:00:47\n",
            "\n",
            "======== Epoch 12 / 40 ========\n",
            "Training...\n",
            "  Batch    40  of    563.    Elapsed: 0:01:26    LR . 7.69E-06\n",
            "  Batch    80  of    563.    Elapsed: 0:02:53    LR . 7.67E-06\n",
            "  Batch   120  of    563.    Elapsed: 0:04:19    LR . 7.66E-06\n",
            "  Batch   160  of    563.    Elapsed: 0:05:45    LR . 7.64E-06\n",
            "  Batch   200  of    563.    Elapsed: 0:07:11    LR . 7.62E-06\n",
            "  Batch   240  of    563.    Elapsed: 0:08:38    LR . 7.60E-06\n",
            "  Batch   280  of    563.    Elapsed: 0:10:04    LR . 7.58E-06\n",
            "  Batch   320  of    563.    Elapsed: 0:11:30    LR . 7.56E-06\n",
            "  Batch   360  of    563.    Elapsed: 0:12:57    LR . 7.54E-06\n",
            "  Batch   400  of    563.    Elapsed: 0:14:23    LR . 7.52E-06\n",
            "  Batch   440  of    563.    Elapsed: 0:15:49    LR . 7.50E-06\n",
            "  Batch   480  of    563.    Elapsed: 0:17:16    LR . 7.49E-06\n",
            "  Batch   520  of    563.    Elapsed: 0:18:42    LR . 7.47E-06\n",
            "  Batch   560  of    563.    Elapsed: 0:20:08    LR . 7.45E-06\n",
            "\n",
            "  Average training loss: 0.02\n",
            "  Training epcoh took: 0:20:14\n",
            "\n",
            "Running Validation...\n",
            "  Accuracy: 0.90\n",
            "  Validation took: 0:00:47\n",
            "\n",
            "======== Epoch 13 / 40 ========\n",
            "Training...\n",
            "  Batch    40  of    563.    Elapsed: 0:01:26    LR . 7.43E-06\n",
            "  Batch    80  of    563.    Elapsed: 0:02:53    LR . 7.41E-06\n",
            "  Batch   120  of    563.    Elapsed: 0:04:19    LR . 7.39E-06\n",
            "  Batch   160  of    563.    Elapsed: 0:05:45    LR . 7.37E-06\n",
            "  Batch   200  of    563.    Elapsed: 0:07:11    LR . 7.35E-06\n",
            "  Batch   240  of    563.    Elapsed: 0:08:38    LR . 7.33E-06\n",
            "  Batch   280  of    563.    Elapsed: 0:10:04    LR . 7.31E-06\n",
            "  Batch   320  of    563.    Elapsed: 0:11:30    LR . 7.30E-06\n",
            "  Batch   360  of    563.    Elapsed: 0:12:57    LR . 7.28E-06\n",
            "  Batch   400  of    563.    Elapsed: 0:14:23    LR . 7.26E-06\n",
            "  Batch   440  of    563.    Elapsed: 0:15:49    LR . 7.24E-06\n",
            "  Batch   480  of    563.    Elapsed: 0:17:15    LR . 7.22E-06\n",
            "  Batch   520  of    563.    Elapsed: 0:18:42    LR . 7.20E-06\n",
            "  Batch   560  of    563.    Elapsed: 0:20:08    LR . 7.18E-06\n",
            "\n",
            "  Average training loss: 0.02\n",
            "  Training epcoh took: 0:20:13\n",
            "\n",
            "Running Validation...\n",
            "  Accuracy: 0.89\n",
            "  Validation took: 0:00:47\n",
            "\n",
            "======== Epoch 14 / 40 ========\n",
            "Training...\n",
            "  Batch    40  of    563.    Elapsed: 0:01:26    LR . 7.16E-06\n",
            "  Batch    80  of    563.    Elapsed: 0:02:53    LR . 7.14E-06\n",
            "  Batch   120  of    563.    Elapsed: 0:04:19    LR . 7.12E-06\n",
            "  Batch   160  of    563.    Elapsed: 0:05:45    LR . 7.11E-06\n",
            "  Batch   200  of    563.    Elapsed: 0:07:11    LR . 7.09E-06\n",
            "  Batch   240  of    563.    Elapsed: 0:08:38    LR . 7.07E-06\n",
            "  Batch   280  of    563.    Elapsed: 0:10:04    LR . 7.05E-06\n",
            "  Batch   320  of    563.    Elapsed: 0:11:30    LR . 7.03E-06\n",
            "  Batch   360  of    563.    Elapsed: 0:12:56    LR . 7.01E-06\n",
            "  Batch   400  of    563.    Elapsed: 0:14:23    LR . 6.99E-06\n",
            "  Batch   440  of    563.    Elapsed: 0:15:49    LR . 6.97E-06\n",
            "  Batch   480  of    563.    Elapsed: 0:17:15    LR . 6.95E-06\n",
            "  Batch   520  of    563.    Elapsed: 0:18:41    LR . 6.94E-06\n",
            "  Batch   560  of    563.    Elapsed: 0:20:08    LR . 6.92E-06\n",
            "\n",
            "  Average training loss: 0.01\n",
            "  Training epcoh took: 0:20:13\n",
            "\n",
            "Running Validation...\n",
            "  Accuracy: 0.91\n",
            "  Validation took: 0:00:47\n",
            "\n",
            "======== Epoch 15 / 40 ========\n",
            "Training...\n",
            "  Batch    40  of    563.    Elapsed: 0:01:26    LR . 6.90E-06\n",
            "  Batch    80  of    563.    Elapsed: 0:02:52    LR . 6.88E-06\n",
            "  Batch   120  of    563.    Elapsed: 0:04:19    LR . 6.86E-06\n",
            "  Batch   160  of    563.    Elapsed: 0:05:45    LR . 6.84E-06\n",
            "  Batch   200  of    563.    Elapsed: 0:07:11    LR . 6.82E-06\n",
            "  Batch   240  of    563.    Elapsed: 0:08:38    LR . 6.80E-06\n",
            "  Batch   280  of    563.    Elapsed: 0:10:04    LR . 6.78E-06\n",
            "  Batch   320  of    563.    Elapsed: 0:11:30    LR . 6.76E-06\n",
            "  Batch   360  of    563.    Elapsed: 0:12:57    LR . 6.74E-06\n",
            "  Batch   400  of    563.    Elapsed: 0:14:23    LR . 6.73E-06\n",
            "  Batch   440  of    563.    Elapsed: 0:15:49    LR . 6.71E-06\n",
            "  Batch   480  of    563.    Elapsed: 0:17:15    LR . 6.69E-06\n",
            "  Batch   520  of    563.    Elapsed: 0:18:42    LR . 6.67E-06\n",
            "  Batch   560  of    563.    Elapsed: 0:20:08    LR . 6.65E-06\n",
            "\n",
            "  Average training loss: 0.01\n",
            "  Training epcoh took: 0:20:13\n",
            "\n",
            "Running Validation...\n",
            "  Accuracy: 0.91\n",
            "  Validation took: 0:00:47\n",
            "\n",
            "======== Epoch 16 / 40 ========\n",
            "Training...\n",
            "  Batch    40  of    563.    Elapsed: 0:01:26    LR . 6.63E-06\n",
            "  Batch    80  of    563.    Elapsed: 0:02:52    LR . 6.61E-06\n",
            "  Batch   120  of    563.    Elapsed: 0:04:19    LR . 6.59E-06\n",
            "  Batch   160  of    563.    Elapsed: 0:05:45    LR . 6.57E-06\n",
            "  Batch   200  of    563.    Elapsed: 0:07:11    LR . 6.55E-06\n",
            "  Batch   240  of    563.    Elapsed: 0:08:38    LR . 6.54E-06\n",
            "  Batch   280  of    563.    Elapsed: 0:10:04    LR . 6.52E-06\n",
            "  Batch   320  of    563.    Elapsed: 0:11:30    LR . 6.50E-06\n",
            "  Batch   360  of    563.    Elapsed: 0:12:56    LR . 6.48E-06\n",
            "  Batch   400  of    563.    Elapsed: 0:14:23    LR . 6.46E-06\n",
            "  Batch   440  of    563.    Elapsed: 0:15:49    LR . 6.44E-06\n",
            "  Batch   480  of    563.    Elapsed: 0:17:15    LR . 6.42E-06\n",
            "  Batch   520  of    563.    Elapsed: 0:18:41    LR . 6.40E-06\n",
            "  Batch   560  of    563.    Elapsed: 0:20:08    LR . 6.38E-06\n",
            "\n",
            "  Average training loss: 0.01\n",
            "  Training epcoh took: 0:20:13\n",
            "\n",
            "Running Validation...\n",
            "  Accuracy: 0.91\n",
            "  Validation took: 0:00:47\n",
            "\n",
            "======== Epoch 17 / 40 ========\n",
            "Training...\n",
            "  Batch    40  of    563.    Elapsed: 0:01:26    LR . 6.36E-06\n",
            "  Batch    80  of    563.    Elapsed: 0:02:53    LR . 6.35E-06\n",
            "  Batch   120  of    563.    Elapsed: 0:04:19    LR . 6.33E-06\n",
            "  Batch   160  of    563.    Elapsed: 0:05:45    LR . 6.31E-06\n",
            "  Batch   200  of    563.    Elapsed: 0:07:11    LR . 6.29E-06\n",
            "  Batch   240  of    563.    Elapsed: 0:08:38    LR . 6.27E-06\n",
            "  Batch   280  of    563.    Elapsed: 0:10:04    LR . 6.25E-06\n",
            "  Batch   320  of    563.    Elapsed: 0:11:30    LR . 6.23E-06\n",
            "  Batch   360  of    563.    Elapsed: 0:12:56    LR . 6.21E-06\n",
            "  Batch   400  of    563.    Elapsed: 0:14:23    LR . 6.19E-06\n",
            "  Batch   440  of    563.    Elapsed: 0:15:49    LR . 6.18E-06\n",
            "  Batch   480  of    563.    Elapsed: 0:17:15    LR . 6.16E-06\n",
            "  Batch   520  of    563.    Elapsed: 0:18:42    LR . 6.14E-06\n",
            "  Batch   560  of    563.    Elapsed: 0:20:08    LR . 6.12E-06\n",
            "\n",
            "  Average training loss: 0.01\n",
            "  Training epcoh took: 0:20:13\n",
            "\n",
            "Running Validation...\n",
            "  Accuracy: 0.90\n",
            "  Validation took: 0:00:47\n",
            "\n",
            "======== Epoch 18 / 40 ========\n",
            "Training...\n",
            "  Batch    40  of    563.    Elapsed: 0:01:26    LR . 6.10E-06\n",
            "  Batch    80  of    563.    Elapsed: 0:02:53    LR . 6.08E-06\n",
            "  Batch   120  of    563.    Elapsed: 0:04:19    LR . 6.06E-06\n",
            "  Batch   160  of    563.    Elapsed: 0:05:45    LR . 6.04E-06\n",
            "  Batch   200  of    563.    Elapsed: 0:07:11    LR . 6.02E-06\n",
            "  Batch   240  of    563.    Elapsed: 0:08:38    LR . 6.00E-06\n",
            "  Batch   280  of    563.    Elapsed: 0:10:04    LR . 5.98E-06\n",
            "  Batch   320  of    563.    Elapsed: 0:11:30    LR . 5.97E-06\n",
            "  Batch   360  of    563.    Elapsed: 0:12:56    LR . 5.95E-06\n",
            "  Batch   400  of    563.    Elapsed: 0:14:23    LR . 5.93E-06\n",
            "  Batch   440  of    563.    Elapsed: 0:15:49    LR . 5.91E-06\n",
            "  Batch   480  of    563.    Elapsed: 0:17:15    LR . 5.89E-06\n",
            "  Batch   520  of    563.    Elapsed: 0:18:41    LR . 5.87E-06\n",
            "  Batch   560  of    563.    Elapsed: 0:20:08    LR . 5.85E-06\n",
            "\n",
            "  Average training loss: 0.01\n",
            "  Training epcoh took: 0:20:13\n",
            "\n",
            "Running Validation...\n",
            "  Accuracy: 0.91\n",
            "  Validation took: 0:00:47\n",
            "\n",
            "======== Epoch 19 / 40 ========\n",
            "Training...\n",
            "  Batch    40  of    563.    Elapsed: 0:01:26    LR . 5.83E-06\n",
            "  Batch    80  of    563.    Elapsed: 0:02:52    LR . 5.81E-06\n",
            "  Batch   120  of    563.    Elapsed: 0:04:19    LR . 5.79E-06\n",
            "  Batch   160  of    563.    Elapsed: 0:05:45    LR . 5.78E-06\n",
            "  Batch   200  of    563.    Elapsed: 0:07:11    LR . 5.76E-06\n",
            "  Batch   240  of    563.    Elapsed: 0:08:37    LR . 5.74E-06\n",
            "  Batch   280  of    563.    Elapsed: 0:10:04    LR . 5.72E-06\n",
            "  Batch   320  of    563.    Elapsed: 0:11:30    LR . 5.70E-06\n",
            "  Batch   360  of    563.    Elapsed: 0:12:56    LR . 5.68E-06\n",
            "  Batch   400  of    563.    Elapsed: 0:14:23    LR . 5.66E-06\n",
            "  Batch   440  of    563.    Elapsed: 0:15:49    LR . 5.64E-06\n",
            "  Batch   480  of    563.    Elapsed: 0:17:15    LR . 5.62E-06\n",
            "  Batch   520  of    563.    Elapsed: 0:18:41    LR . 5.61E-06\n",
            "  Batch   560  of    563.    Elapsed: 0:20:08    LR . 5.59E-06\n",
            "\n",
            "  Average training loss: 0.02\n",
            "  Training epcoh took: 0:20:13\n",
            "\n",
            "Running Validation...\n",
            "  Accuracy: 0.91\n",
            "  Validation took: 0:00:47\n",
            "\n",
            "======== Epoch 20 / 40 ========\n",
            "Training...\n",
            "  Batch    40  of    563.    Elapsed: 0:01:26    LR . 5.57E-06\n",
            "  Batch    80  of    563.    Elapsed: 0:02:52    LR . 5.55E-06\n",
            "  Batch   120  of    563.    Elapsed: 0:04:19    LR . 5.53E-06\n",
            "  Batch   160  of    563.    Elapsed: 0:05:45    LR . 5.51E-06\n",
            "  Batch   200  of    563.    Elapsed: 0:07:11    LR . 5.49E-06\n",
            "  Batch   240  of    563.    Elapsed: 0:08:37    LR . 5.47E-06\n",
            "  Batch   280  of    563.    Elapsed: 0:10:04    LR . 5.45E-06\n",
            "  Batch   320  of    563.    Elapsed: 0:11:30    LR . 5.43E-06\n",
            "  Batch   360  of    563.    Elapsed: 0:12:56    LR . 5.41E-06\n",
            "  Batch   400  of    563.    Elapsed: 0:14:23    LR . 5.40E-06\n",
            "  Batch   440  of    563.    Elapsed: 0:15:49    LR . 5.38E-06\n",
            "  Batch   480  of    563.    Elapsed: 0:17:15    LR . 5.36E-06\n",
            "  Batch   520  of    563.    Elapsed: 0:18:42    LR . 5.34E-06\n",
            "  Batch   560  of    563.    Elapsed: 0:20:08    LR . 5.32E-06\n",
            "\n",
            "  Average training loss: 0.01\n",
            "  Training epcoh took: 0:20:13\n",
            "\n",
            "Running Validation...\n",
            "  Accuracy: 0.91\n",
            "  Validation took: 0:00:47\n",
            "\n",
            "======== Epoch 21 / 40 ========\n",
            "Training...\n",
            "  Batch    40  of    563.    Elapsed: 0:01:26    LR . 5.30E-06\n",
            "  Batch    80  of    563.    Elapsed: 0:02:53    LR . 5.28E-06\n",
            "  Batch   120  of    563.    Elapsed: 0:04:19    LR . 5.26E-06\n",
            "  Batch   160  of    563.    Elapsed: 0:05:45    LR . 5.24E-06\n",
            "  Batch   200  of    563.    Elapsed: 0:07:11    LR . 5.22E-06\n",
            "  Batch   240  of    563.    Elapsed: 0:08:38    LR . 5.21E-06\n",
            "  Batch   280  of    563.    Elapsed: 0:10:04    LR . 5.19E-06\n",
            "  Batch   320  of    563.    Elapsed: 0:11:30    LR . 5.17E-06\n",
            "  Batch   360  of    563.    Elapsed: 0:12:56    LR . 5.15E-06\n",
            "  Batch   400  of    563.    Elapsed: 0:14:23    LR . 5.13E-06\n",
            "  Batch   440  of    563.    Elapsed: 0:15:49    LR . 5.11E-06\n"
          ],
          "name": "stdout"
        }
      ]
    },
    {
      "cell_type": "markdown",
      "metadata": {
        "id": "1-G03mmwH3aI",
        "colab_type": "text"
      },
      "source": [
        "Let's take a look at our training loss over all batches:"
      ]
    },
    {
      "cell_type": "code",
      "metadata": {
        "id": "68xreA9JAmG5",
        "colab_type": "code",
        "colab": {}
      },
      "source": [
        "import matplotlib.pyplot as plt\n",
        "% matplotlib inline\n",
        "\n",
        "import seaborn as sns\n",
        "\n",
        "# Use plot styling from seaborn.\n",
        "sns.set(style='darkgrid')\n",
        "\n",
        "# Increase the plot size and font size.\n",
        "sns.set(font_scale=1.5)\n",
        "plt.rcParams[\"figure.figsize\"] = (12,6)\n",
        "\n",
        "# Plot the learning curve.\n",
        "plt.plot(loss_values, 'b-o')\n",
        "\n",
        "# Label the plot.\n",
        "plt.title(\"Training loss\")\n",
        "plt.xlabel(\"Epoch\")\n",
        "plt.ylabel(\"Loss\")\n",
        "\n",
        "plt.show()"
      ],
      "execution_count": 0,
      "outputs": []
    },
    {
      "cell_type": "markdown",
      "metadata": {
        "id": "mkyubuJSOzg3",
        "colab_type": "text"
      },
      "source": [
        "# 5. Performance On Test Set"
      ]
    },
    {
      "cell_type": "markdown",
      "metadata": {
        "id": "DosV94BYIYxg",
        "colab_type": "text"
      },
      "source": [
        "Now we'll load the holdout dataset and prepare inputs just as we did with the training set. Then we'll evaluate predictions using [Matthew's correlation coefficient](https://scikit-learn.org/stable/modules/generated/sklearn.metrics.matthews_corrcoef.html) because this is the metric used by the wider NLP community to evaluate performance on CoLA. With this metric, +1 is the best score, and -1 is the worst score. This way, we can see how well we perform against the state of the art models for this specific task."
      ]
    },
    {
      "cell_type": "markdown",
      "metadata": {
        "id": "Tg42jJqqM68F",
        "colab_type": "text"
      },
      "source": [
        "### 5.1. Data Preparation\n"
      ]
    },
    {
      "cell_type": "markdown",
      "metadata": {
        "id": "xWe0_JW21MyV",
        "colab_type": "text"
      },
      "source": [
        "\n",
        "We'll need to apply all of the same steps that we did for the training data to prepare our test data set."
      ]
    },
    {
      "cell_type": "code",
      "metadata": {
        "id": "mAN0LZBOOPVh",
        "colab_type": "code",
        "colab": {}
      },
      "source": [
        "import pandas as pd\n",
        "\n",
        "# Load the dataset into a pandas dataframe.\n",
        "df_data = pd.read_csv('taskA_trial_data.csv', error_bad_lines=False)\n",
        "df_answers = pd.read_csv('taskA_trial_answer.csv', error_bad_lines=False, header=None, names=['id', 'label'])\n",
        "df = df_data.set_index('id').join(df_answers.set_index('id'))\n",
        "\n",
        "df_appended = np.concatenate([df['sent0'] , df['sent1']])\n",
        "df = pd.DataFrame(df_appended, columns=['sentences'], )\n",
        "df.index.name = 'id'\n",
        "\n",
        "df_fliped = df_answers.replace({0:1, 1:0})\n",
        "df_Concat_answers = np.concatenate([df_fliped['label'] , df_answers['label']])\n",
        "df_Concat_answers = pd.DataFrame(df_Concat_answers , columns=['label'])\n",
        "df_Concat_answers.index.name = 'id'\n",
        "df = df_Concat_answers.merge(df , on='id')\n",
        "\n",
        "for i in range(len(df)):\n",
        "    if df['sentences'][i][-1] != '.':\n",
        "      df['sentences'][i] = df['sentences'][i] +'.'\n",
        "\n",
        "# Report the number of sentences.\n",
        "print('Number of test sentences: {:,}\\n'.format(df.shape[0]))\n",
        "\n",
        "# Create sentence and label lists\n",
        "sentences = df.sentences.values\n",
        "labels = df.label.values\n",
        "\n",
        "# Tokenize all of the sentences and map the tokens to thier word IDs.\n",
        "input_ids = []\n",
        "\n",
        "# For every sentence...\n",
        "for sent in sentences:\n",
        "    # `encode` will:\n",
        "    #   (1) Tokenize the sentence.\n",
        "    #   (2) Prepend the `[CLS]` token to the start.\n",
        "    #   (3) Append the `[SEP]` token to the end.\n",
        "    #   (4) Map tokens to their IDs.\n",
        "    encoded_sent = tokenizer.encode(\n",
        "                        sent,                      # Sentence to encode.\n",
        "                        add_special_tokens = True, # Add '[CLS]' and '[SEP]'\n",
        "                   )\n",
        "    \n",
        "    input_ids.append(encoded_sent)\n",
        "\n",
        "# Pad our input tokens\n",
        "input_ids = pad_sequences(input_ids, maxlen=MAX_LEN, \n",
        "                          dtype=\"long\", truncating=\"post\", padding=\"post\")\n",
        "\n",
        "# Create attention masks\n",
        "attention_masks = []\n",
        "\n",
        "# Create a mask of 1s for each token followed by 0s for padding\n",
        "for seq in input_ids:\n",
        "  seq_mask = [float(i>0) for i in seq]\n",
        "  attention_masks.append(seq_mask) \n",
        "\n",
        "# Convert to tensors.\n",
        "prediction_inputs = torch.tensor(input_ids)\n",
        "prediction_masks = torch.tensor(attention_masks)\n",
        "prediction_labels = torch.tensor(labels)\n",
        "\n",
        "# Set the batch size.  \n",
        "batch_size = 32  \n",
        "\n",
        "# Create the DataLoader.\n",
        "prediction_data = TensorDataset(prediction_inputs, prediction_masks, prediction_labels)\n",
        "prediction_sampler = SequentialSampler(prediction_data)\n",
        "prediction_dataloader = DataLoader(prediction_data, sampler=prediction_sampler, batch_size=batch_size)"
      ],
      "execution_count": 0,
      "outputs": []
    },
    {
      "cell_type": "markdown",
      "metadata": {
        "id": "16lctEOyNFik",
        "colab_type": "text"
      },
      "source": [
        "## 5.2. Evaluate on Test Set\n"
      ]
    },
    {
      "cell_type": "markdown",
      "metadata": {
        "id": "rhR99IISNMg9",
        "colab_type": "text"
      },
      "source": [
        "\n",
        "With the test set prepared, we can apply our fine-tuned model to generate predictions on the test set."
      ]
    },
    {
      "cell_type": "code",
      "metadata": {
        "id": "Hba10sXR7Xi6",
        "colab_type": "code",
        "colab": {}
      },
      "source": [
        "# Prediction on test set\n",
        "\n",
        "print('Predicting labels for {:,} test sentences...'.format(len(prediction_inputs)))\n",
        "\n",
        "# Put model in evaluation mode\n",
        "model.eval()\n",
        "\n",
        "# Tracking variables \n",
        "predictions , true_labels = [], []\n",
        "\n",
        "# Predict \n",
        "for batch in prediction_dataloader:\n",
        "  # Add batch to GPU\n",
        "  batch = tuple(t.to(device) for t in batch)\n",
        "  \n",
        "  # Unpack the inputs from our dataloader\n",
        "  b_input_ids, b_input_mask, b_labels = batch\n",
        "  \n",
        "  # Telling the model not to compute or store gradients, saving memory and \n",
        "  # speeding up prediction\n",
        "  with torch.no_grad():\n",
        "      # Forward pass, calculate logit predictions\n",
        "      outputs = model(b_input_ids, token_type_ids=None, \n",
        "                      attention_mask=b_input_mask)\n",
        "\n",
        "  logits = outputs[0]\n",
        "\n",
        "  # Move logits and labels to CPU\n",
        "  logits = logits.detach().cpu().numpy()\n",
        "  label_ids = b_labels.to('cpu').numpy()\n",
        "  \n",
        "  # Store predictions and true labels\n",
        "  predictions.append(logits)\n",
        "  true_labels.append(label_ids)\n",
        "\n",
        "print('    DONE.')"
      ],
      "execution_count": 0,
      "outputs": []
    },
    {
      "cell_type": "markdown",
      "metadata": {
        "id": "-5jscIM8R4Gv",
        "colab_type": "text"
      },
      "source": [
        "Accuracy on the CoLA benchmark is measured using the \"[Matthews correlation coefficient](https://scikit-learn.org/stable/modules/generated/sklearn.metrics.matthews_corrcoef.html)\" (MCC).\n",
        "\n",
        "We use MCC here because the classes are imbalanced:\n"
      ]
    },
    {
      "cell_type": "code",
      "metadata": {
        "id": "hWcy0X1hirdx",
        "colab_type": "code",
        "colab": {}
      },
      "source": [
        "print('Positive samples: %d of %d (%.2f%%)' % (df.label.sum(), len(df.label), (df.label.sum() / len(df.label) * 100.0)))"
      ],
      "execution_count": 0,
      "outputs": []
    },
    {
      "cell_type": "code",
      "metadata": {
        "id": "cRaZQ4XC7kLs",
        "colab_type": "code",
        "colab": {}
      },
      "source": [
        "from sklearn.metrics import matthews_corrcoef\n",
        "\n",
        "matthews_set = []\n",
        "\n",
        "# Evaluate each test batch using Matthew's correlation coefficient\n",
        "print('Calculating Matthews Corr. Coef. for each batch...')\n",
        "\n",
        "# For each input batch...\n",
        "for i in range(len(true_labels)):\n",
        "  \n",
        "  # The predictions for this batch are a 2-column ndarray (one column for \"0\" \n",
        "  # and one column for \"1\"). Pick the label with the highest value and turn this\n",
        "  # in to a list of 0s and 1s.\n",
        "  pred_labels_i = np.argmax(predictions[i], axis=1).flatten()\n",
        "  \n",
        "  # Calculate and store the coef for this batch.  \n",
        "  matthews = matthews_corrcoef(true_labels[i], pred_labels_i)                \n",
        "  matthews_set.append(matthews)"
      ],
      "execution_count": 0,
      "outputs": []
    },
    {
      "cell_type": "markdown",
      "metadata": {
        "id": "IUM0UA1qJaVB",
        "colab_type": "text"
      },
      "source": [
        "The final score will be based on the entire test set, but let's take a look at the scores on the individual batches to get a sense of the variability in the metric between batches. \n",
        "\n",
        "Each batch has 32 sentences in it, except the last batch which has only (516 % 32) = 4 test sentences in it.\n"
      ]
    },
    {
      "cell_type": "code",
      "metadata": {
        "id": "xytAr_C48wnu",
        "colab_type": "code",
        "colab": {}
      },
      "source": [
        "matthews_set"
      ],
      "execution_count": 0,
      "outputs": []
    },
    {
      "cell_type": "code",
      "metadata": {
        "id": "oCYZa1lQ8Jn8",
        "colab_type": "code",
        "colab": {}
      },
      "source": [
        "# Combine the predictions for each batch into a single list of 0s and 1s.\n",
        "flat_predictions = [item for sublist in predictions for item in sublist]\n",
        "flat_predictions = np.argmax(flat_predictions, axis=1).flatten()\n",
        "\n",
        "# Combine the correct labels for each batch into a single list.\n",
        "flat_true_labels = [item for sublist in true_labels for item in sublist]\n",
        "\n",
        "# Calculate the MCC\n",
        "mcc = matthews_corrcoef(flat_true_labels, flat_predictions)\n",
        "\n",
        "print('MCC: %.3f' % mcc)"
      ],
      "execution_count": 0,
      "outputs": []
    },
    {
      "cell_type": "markdown",
      "metadata": {
        "id": "jXx0jPc4HUfZ",
        "colab_type": "text"
      },
      "source": [
        "Cool! In about half an hour and without doing any hyperparameter tuning (adjusting the learning rate, epochs, batch size, ADAM properties, etc.) we are able to get a good score. I should also mention we didn't train on the entire training dataset, but set aside a portion of it as our validation set for legibililty of code.\n",
        "\n",
        "The library documents the expected accuracy for this benchmark [here](https://huggingface.co/transformers/examples.html#glue).\n",
        "\n",
        "You can also look at the official leaderboard [here](https://gluebenchmark.com/leaderboard/submission/zlssuBTm5XRs0aSKbFYGVIVdvbj1/-LhijX9VVmvJcvzKymxy). \n",
        "\n",
        "Note that (due to the small dataset size?) the accuracy can vary significantly with different random seeds.\n"
      ]
    },
    {
      "cell_type": "markdown",
      "metadata": {
        "id": "GfjYoa6WmkN6",
        "colab_type": "text"
      },
      "source": [
        "# Conclusion"
      ]
    },
    {
      "cell_type": "markdown",
      "metadata": {
        "id": "xlQG7qgkmf4n",
        "colab_type": "text"
      },
      "source": [
        "This post demonstrates that with a pre-trained BERT model you can quickly and effectively create a high quality model with minimal effort and training time using the pytorch interface, regardless of the specific NLP task you are interested in."
      ]
    },
    {
      "cell_type": "markdown",
      "metadata": {
        "id": "YUmsUOIv8EUO",
        "colab_type": "text"
      },
      "source": [
        "# Appendix\n"
      ]
    },
    {
      "cell_type": "markdown",
      "metadata": {
        "id": "q2079Qyn8Mt8",
        "colab_type": "text"
      },
      "source": [
        "## A1. Saving & Loading Fine-Tuned Model\n",
        "\n",
        "This first cell (taken from `run_glue.py` [here](https://github.com/huggingface/transformers/blob/35ff345fc9df9e777b27903f11fa213e4052595b/examples/run_glue.py#L495)) writes the model and tokenizer out to disk."
      ]
    },
    {
      "cell_type": "code",
      "metadata": {
        "id": "6ulTWaOr8QNY",
        "colab_type": "code",
        "colab": {}
      },
      "source": [
        "import os\n",
        "\n",
        "# Saving best-practices: if you use defaults names for the model, you can reload it using from_pretrained()\n",
        "\n",
        "output_dir = './model_save/'\n",
        "\n",
        "# Create output directory if needed\n",
        "if not os.path.exists(output_dir):\n",
        "    os.makedirs(output_dir)\n",
        "\n",
        "print(\"Saving model to %s\" % output_dir)\n",
        "\n",
        "# Save a trained model, configuration and tokenizer using `save_pretrained()`.\n",
        "# They can then be reloaded using `from_pretrained()`\n",
        "model_to_save = model.module if hasattr(model, 'module') else model  # Take care of distributed/parallel training\n",
        "model_to_save.save_pretrained(output_dir)\n",
        "tokenizer.save_pretrained(output_dir)\n",
        "\n",
        "# Good practice: save your training arguments together with the trained model\n",
        "# torch.save(args, os.path.join(output_dir, 'training_args.bin'))\n"
      ],
      "execution_count": 0,
      "outputs": []
    },
    {
      "cell_type": "markdown",
      "metadata": {
        "id": "Z-tjHkR7lc1I",
        "colab_type": "text"
      },
      "source": [
        "Let's check out the file sizes, out of curiosity."
      ]
    },
    {
      "cell_type": "code",
      "metadata": {
        "id": "mqMzI3VTCZo5",
        "colab_type": "code",
        "colab": {}
      },
      "source": [
        "!ls -l --block-size=K ./model_save/"
      ],
      "execution_count": 0,
      "outputs": []
    },
    {
      "cell_type": "markdown",
      "metadata": {
        "id": "fr_bt2rFlgDn",
        "colab_type": "text"
      },
      "source": [
        "The largest file is the model weights, at around 418 megabytes."
      ]
    },
    {
      "cell_type": "code",
      "metadata": {
        "id": "-WUFUIQ8Cu8D",
        "colab_type": "code",
        "colab": {}
      },
      "source": [
        "!ls -l --block-size=M ./model_save/pytorch_model.bin"
      ],
      "execution_count": 0,
      "outputs": []
    },
    {
      "cell_type": "markdown",
      "metadata": {
        "id": "dzGKvOFAll_e",
        "colab_type": "text"
      },
      "source": [
        "To save your model across Colab Notebook sessions, download it to your local machine, or ideally copy it to your Google Drive."
      ]
    },
    {
      "cell_type": "code",
      "metadata": {
        "id": "Trr-A-POC18_",
        "colab_type": "code",
        "colab": {}
      },
      "source": [
        "# Mount Google Drive to this Notebook instance.\n",
        "from google.colab import drive\n",
        "    drive.mount('/content/drive')"
      ],
      "execution_count": 0,
      "outputs": []
    },
    {
      "cell_type": "code",
      "metadata": {
        "id": "NxlZsafTC-V5",
        "colab_type": "code",
        "colab": {}
      },
      "source": [
        "# Copy the model files to a directory in your Google Drive.\n",
        "!cp -r ./model_save/ \"./drive/Shared drives/ChrisMcCormick.AI/Blog Posts/BERT Fine-Tuning/\""
      ],
      "execution_count": 0,
      "outputs": []
    },
    {
      "cell_type": "markdown",
      "metadata": {
        "id": "W0vstijw85SZ",
        "colab_type": "text"
      },
      "source": [
        "The following functions will load the model back from disk."
      ]
    },
    {
      "cell_type": "code",
      "metadata": {
        "id": "nskPzUM084zL",
        "colab_type": "code",
        "colab": {}
      },
      "source": [
        "# Load a trained model and vocabulary that you have fine-tuned\n",
        "model = model_class.from_pretrained(output_dir)\n",
        "tokenizer = tokenizer_class.from_pretrained(output_dir)\n",
        "\n",
        "# Copy the model to the GPU.\n",
        "model.to(device)"
      ],
      "execution_count": 0,
      "outputs": []
    },
    {
      "cell_type": "markdown",
      "metadata": {
        "id": "NIWouvDrGVAi",
        "colab_type": "text"
      },
      "source": [
        "## A.2. Weight Decay\n",
        "\n"
      ]
    },
    {
      "cell_type": "markdown",
      "metadata": {
        "id": "f123ZAlF1OyW",
        "colab_type": "text"
      },
      "source": [
        "The huggingface example includes the following code block for enabling weight decay, but the default decay rate is \"0.0\", so I moved this to the appendix.\n",
        "\n",
        "This block essentially tells the optimizer to not apply weight decay to the bias terms (e.g., $ b $ in the equation $ y = Wx + b $ ). Weight decay is a form of regularization--after calculating the gradients, we multiply them by, e.g., 0.99."
      ]
    },
    {
      "cell_type": "code",
      "metadata": {
        "id": "QxSMw0FrptiL",
        "colab_type": "code",
        "colab": {}
      },
      "source": [
        "# This code is taken from:\n",
        "# https://github.com/huggingface/transformers/blob/5bfcd0485ece086ebcbed2d008813037968a9e58/examples/run_glue.py#L102\n",
        "\n",
        "# Don't apply weight decay to any parameters whose names include these tokens.\n",
        "# (Here, the BERT doesn't have `gamma` or `beta` parameters, only `bias` terms)\n",
        "no_decay = ['bias', 'LayerNorm.weight']\n",
        "\n",
        "# Separate the `weight` parameters from the `bias` parameters. \n",
        "# - For the `weight` parameters, this specifies a 'weight_decay_rate' of 0.01. \n",
        "# - For the `bias` parameters, the 'weight_decay_rate' is 0.0. \n",
        "optimizer_grouped_parameters = [\n",
        "    # Filter for all parameters which *don't* include 'bias', 'gamma', 'beta'.\n",
        "    {'params': [p for n, p in param_optimizer if not any(nd in n for nd in no_decay)],\n",
        "     'weight_decay_rate': 0.1},\n",
        "    \n",
        "    # Filter for parameters which *do* include those.\n",
        "    {'params': [p for n, p in param_optimizer if any(nd in n for nd in no_decay)],\n",
        "     'weight_decay_rate': 0.0}\n",
        "]\n",
        "\n",
        "# Note - `optimizer_grouped_parameters` only includes the parameter values, not \n",
        "# the names."
      ],
      "execution_count": 0,
      "outputs": []
    }
  ]
}